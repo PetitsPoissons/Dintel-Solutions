{
 "cells": [
  {
   "cell_type": "code",
   "execution_count": null,
   "metadata": {},
   "outputs": [],
   "source": [
    "import pandas as pd\n",
    "import numpy as np\n",
    "from datetime import datetime"
   ]
  },
  {
   "cell_type": "markdown",
   "metadata": {},
   "source": [
    "# Preparing 'master_cases' table"
   ]
  },
  {
   "cell_type": "code",
   "execution_count": null,
   "metadata": {},
   "outputs": [],
   "source": [
    "df_cases = pd.read_csv(\"data/cases_clean2.csv\")\n",
    "df_cases.info()"
   ]
  },
  {
   "cell_type": "code",
   "execution_count": null,
   "metadata": {},
   "outputs": [],
   "source": [
    "df_cases.isnull().sum()"
   ]
  },
  {
   "cell_type": "code",
   "execution_count": 38,
   "metadata": {},
   "outputs": [
    {
     "data": {
      "text/html": [
       "<div>\n",
       "<style scoped>\n",
       "    .dataframe tbody tr th:only-of-type {\n",
       "        vertical-align: middle;\n",
       "    }\n",
       "\n",
       "    .dataframe tbody tr th {\n",
       "        vertical-align: top;\n",
       "    }\n",
       "\n",
       "    .dataframe thead th {\n",
       "        text-align: right;\n",
       "    }\n",
       "</style>\n",
       "<table border=\"1\" class=\"dataframe\">\n",
       "  <thead>\n",
       "    <tr style=\"text-align: right;\">\n",
       "      <th></th>\n",
       "      <th>lab_name</th>\n",
       "      <th>case_id</th>\n",
       "      <th>case_state</th>\n",
       "      <th>case_created_on</th>\n",
       "      <th>case_client_estimated_price</th>\n",
       "      <th>case_nb_other_products</th>\n",
       "    </tr>\n",
       "  </thead>\n",
       "  <tbody>\n",
       "    <tr>\n",
       "      <th>0</th>\n",
       "      <td>3DDENTALLABORATORIES</td>\n",
       "      <td>1</td>\n",
       "      <td>999999.0</td>\n",
       "      <td>2017-06-23 14:34:12.417</td>\n",
       "      <td>600.0</td>\n",
       "      <td>NaN</td>\n",
       "    </tr>\n",
       "    <tr>\n",
       "      <th>1</th>\n",
       "      <td>3DDENTALLABORATORIES</td>\n",
       "      <td>2</td>\n",
       "      <td>999999.0</td>\n",
       "      <td>2017-06-23 14:37:58.737</td>\n",
       "      <td>150.0</td>\n",
       "      <td>NaN</td>\n",
       "    </tr>\n",
       "    <tr>\n",
       "      <th>2</th>\n",
       "      <td>3DDENTALLABORATORIES</td>\n",
       "      <td>3</td>\n",
       "      <td>999999.0</td>\n",
       "      <td>2017-06-28 14:22:18.000</td>\n",
       "      <td>0.0</td>\n",
       "      <td>NaN</td>\n",
       "    </tr>\n",
       "    <tr>\n",
       "      <th>3</th>\n",
       "      <td>3DDENTALLABORATORIES</td>\n",
       "      <td>4</td>\n",
       "      <td>999999.0</td>\n",
       "      <td>2017-06-28 14:27:16.527</td>\n",
       "      <td>150.0</td>\n",
       "      <td>NaN</td>\n",
       "    </tr>\n",
       "    <tr>\n",
       "      <th>4</th>\n",
       "      <td>3DDENTALLABORATORIES</td>\n",
       "      <td>5</td>\n",
       "      <td>1000.0</td>\n",
       "      <td>2017-06-28 18:48:08.793</td>\n",
       "      <td>515.0</td>\n",
       "      <td>2.0</td>\n",
       "    </tr>\n",
       "  </tbody>\n",
       "</table>\n",
       "</div>"
      ],
      "text/plain": [
       "               lab_name  case_id  case_state          case_created_on  \\\n",
       "0  3DDENTALLABORATORIES        1    999999.0  2017-06-23 14:34:12.417   \n",
       "1  3DDENTALLABORATORIES        2    999999.0  2017-06-23 14:37:58.737   \n",
       "2  3DDENTALLABORATORIES        3    999999.0  2017-06-28 14:22:18.000   \n",
       "3  3DDENTALLABORATORIES        4    999999.0  2017-06-28 14:27:16.527   \n",
       "4  3DDENTALLABORATORIES        5      1000.0  2017-06-28 18:48:08.793   \n",
       "\n",
       "   case_client_estimated_price  case_nb_other_products  \n",
       "0                        600.0                     NaN  \n",
       "1                        150.0                     NaN  \n",
       "2                          0.0                     NaN  \n",
       "3                        150.0                     NaN  \n",
       "4                        515.0                     2.0  "
      ]
     },
     "execution_count": 38,
     "metadata": {},
     "output_type": "execute_result"
    }
   ],
   "source": [
    "df_cases.head()"
   ]
  },
  {
   "cell_type": "code",
   "execution_count": null,
   "metadata": {},
   "outputs": [],
   "source": [
    "# Rename some columns\n",
    "df_cases = df_cases.rename(columns={'created_on': 'case_created_on',\n",
    "                                    'nb_other_products': 'case_nb_other_products',\n",
    "                                   'client_estimated_price': 'case_client_estimated_price'})\n",
    "df_cases.head()"
   ]
  },
  {
   "cell_type": "code",
   "execution_count": null,
   "metadata": {},
   "outputs": [],
   "source": [
    "df_cases.info()"
   ]
  },
  {
   "cell_type": "raw",
   "metadata": {},
   "source": [
    "# Merging product_additional to master_cases\n",
    "df_product_additional = pd.read_csv(\"data/product_additional_clean2.csv\")\n",
    "df_product_additional.drop('Unnamed: 0', axis=1, inplace=True)\n",
    "df_product_additional.info()"
   ]
  },
  {
   "cell_type": "raw",
   "metadata": {},
   "source": [
    "df_master_cases = pd.merge(df_cases, df_product_additional, how='left', on=['lab_name', 'case_id'])\n",
    "df_master_cases.drop_duplicates(keep='first', inplace=True)\n",
    "df_master_cases.info()"
   ]
  },
  {
   "cell_type": "code",
   "execution_count": null,
   "metadata": {},
   "outputs": [],
   "source": [
    "df_master_cases.isnull().sum()"
   ]
  },
  {
   "cell_type": "raw",
   "metadata": {},
   "source": [
    "# Rename some columns\n",
    "df_master_cases = df_master_cases.rename(columns={'product_additional_id': 'case_product_additional_id',\n",
    "                                                'product_additional_name': 'case_product_additional_name'})\n",
    "df_master_cases.head()"
   ]
  },
  {
   "cell_type": "code",
   "execution_count": null,
   "metadata": {},
   "outputs": [],
   "source": [
    "# Save 'master_cases' to csv\n",
    "df_cases.to_csv('data/master_cases.csv', index=False, header=True)"
   ]
  },
  {
   "cell_type": "code",
   "execution_count": null,
   "metadata": {},
   "outputs": [],
   "source": [
    "df_master_cases = pd.read_csv(\"data/master_cases.csv\")\n",
    "df_master_cases.info()"
   ]
  },
  {
   "cell_type": "code",
   "execution_count": null,
   "metadata": {},
   "outputs": [],
   "source": [
    "df_master_cases.info()"
   ]
  },
  {
   "cell_type": "code",
   "execution_count": null,
   "metadata": {},
   "outputs": [],
   "source": [
    "df_client_id = df_master_cases[['lab_name', 'case_id', 'client_id']].dropna()\n",
    "df_client_id['client_id'] = df_client_id.client_id.apply(lambda x: int(x))\n",
    "df_client_id.info()"
   ]
  },
  {
   "cell_type": "code",
   "execution_count": null,
   "metadata": {},
   "outputs": [],
   "source": [
    "df_master_clients = pd.read_csv(\"data/master_clients.csv\")\n",
    "df_master_clients.drop('Unnamed: 0', axis=1, inplace=True)\n",
    "df_master_clients.info()"
   ]
  },
  {
   "cell_type": "code",
   "execution_count": null,
   "metadata": {},
   "outputs": [],
   "source": [
    "df_client_id = pd.merge(df_client_id, df_master_clients, how='left', on=['lab_name', 'client_id'])\n",
    "df_client_id.info()"
   ]
  },
  {
   "cell_type": "code",
   "execution_count": null,
   "metadata": {},
   "outputs": [],
   "source": [
    "df_master_cases.drop('client_id', axis=1, inplace=True)\n",
    "df_master_cases = pd.merge(df_master_cases, df_client_id, how='left', on=['lab_name', 'case_id'])\n",
    "df_master_cases.info()"
   ]
  },
  {
   "cell_type": "code",
   "execution_count": null,
   "metadata": {},
   "outputs": [],
   "source": [
    "df_master_cases.isnull().sum()"
   ]
  },
  {
   "cell_type": "code",
   "execution_count": null,
   "metadata": {},
   "outputs": [],
   "source": [
    "df_master_cases.drop_duplicates(keep='first', inplace=True)"
   ]
  },
  {
   "cell_type": "code",
   "execution_count": 39,
   "metadata": {},
   "outputs": [
    {
     "name": "stdout",
     "output_type": "stream",
     "text": [
      "<class 'pandas.core.frame.DataFrame'>\n",
      "Int64Index: 6031732 entries, 0 to 6031731\n",
      "Data columns (total 21 columns):\n",
      "lab_name                       object\n",
      "case_id                        int64\n",
      "case_state                     float64\n",
      "case_created_on                object\n",
      "case_client_estimated_price    float64\n",
      "case_nb_other_products         float64\n",
      "client_id                      float64\n",
      "bClientLab                     float64\n",
      "client_name                    object\n",
      "master_pricebook_id            float64\n",
      "custom_pricebook_id            float64\n",
      "shipping_city                  object\n",
      "shipping_state                 object\n",
      "shipping_zipcode               object\n",
      "shipping_country_name          object\n",
      "shipping_country_code          object\n",
      "billing_city                   object\n",
      "billing_state                  object\n",
      "billing_zipcode                object\n",
      "billing_country_name           object\n",
      "billing_country_code           object\n",
      "dtypes: float64(7), int64(1), object(13)\n",
      "memory usage: 1012.4+ MB\n"
     ]
    }
   ],
   "source": [
    "df_master_cases.info()"
   ]
  },
  {
   "cell_type": "code",
   "execution_count": null,
   "metadata": {},
   "outputs": [],
   "source": [
    "# Save 'master_cases' to csv\n",
    "df_master_cases.to_csv('data/master_cases_clients.csv', index=False, header=True)"
   ]
  },
  {
   "cell_type": "markdown",
   "metadata": {},
   "source": [
    "# Preparing 'master_case_items' table"
   ]
  },
  {
   "cell_type": "code",
   "execution_count": null,
   "metadata": {},
   "outputs": [],
   "source": [
    "df_case_items = pd.read_csv(\"data/case_items_clean2.csv\")\n",
    "df_case_items.info()"
   ]
  },
  {
   "cell_type": "code",
   "execution_count": 40,
   "metadata": {},
   "outputs": [
    {
     "data": {
      "text/plain": [
       "lab_name                             0\n",
       "unit_id                              0\n",
       "case_id                              0\n",
       "case_item_product_id                20\n",
       "case_item_tooth_num                  0\n",
       "tooth_type_oid                       0\n",
       "case_item_crown_type                 0\n",
       "case_item_created_on             51723\n",
       "case_item_last_updated              27\n",
       "unit_client_estimated_price        292\n",
       "case_item_nb_other_settings    8920322\n",
       "dtype: int64"
      ]
     },
     "execution_count": 40,
     "metadata": {},
     "output_type": "execute_result"
    }
   ],
   "source": [
    "df_case_items.isnull().sum()"
   ]
  },
  {
   "cell_type": "code",
   "execution_count": null,
   "metadata": {},
   "outputs": [],
   "source": [
    "# Rename some columns\n",
    "df_case_items = df_case_items.rename(columns={'client_estimated_price': 'unit_client_estimated_price',\n",
    "                                    'product_id': 'case_item_product_id', 'case_item_id': 'unit_id'})\n",
    "df_case_items.head()"
   ]
  },
  {
   "cell_type": "raw",
   "metadata": {},
   "source": [
    "# Merging subscribers and case_items to master_case_items\n",
    "df_subscribers = pd.read_csv(\"data/subscribers_clean2.csv\")\n",
    "df_master_case_items = pd.merge(df_subscribers, df_case_items, how='left', on='lab_name')\n",
    "df_master_case_items.drop_duplicates(keep='first', inplace=True)\n",
    "df_master_case_items.info()"
   ]
  },
  {
   "cell_type": "code",
   "execution_count": null,
   "metadata": {},
   "outputs": [],
   "source": [
    "df_case_items.isnull().sum()"
   ]
  },
  {
   "cell_type": "code",
   "execution_count": null,
   "metadata": {},
   "outputs": [],
   "source": [
    "# Merging products and product_types\n",
    "df_products = pd.read_csv(\"data/products_clean2.csv\")\n",
    "df_products.info()"
   ]
  },
  {
   "cell_type": "code",
   "execution_count": null,
   "metadata": {},
   "outputs": [],
   "source": [
    "df_product_types = pd.read_csv(\"data/product_types_clean2.csv\")\n",
    "df_product_types.info()"
   ]
  },
  {
   "cell_type": "code",
   "execution_count": null,
   "metadata": {},
   "outputs": [],
   "source": [
    "df_products = pd.merge(df_products, df_product_types, how='left', on=['lab_name', 'product_type_id'])\n",
    "df_products.drop_duplicates(keep='first', inplace=True)\n",
    "df_products.info()"
   ]
  },
  {
   "cell_type": "code",
   "execution_count": null,
   "metadata": {},
   "outputs": [],
   "source": [
    "# Merging products to master_case_items\n",
    "df_master_case_items = pd.merge(df_case_items, df_products, how='left', left_on=['lab_name', 'case_item_product_id'], right_on=['lab_name', 'product_id'])\n",
    "#df_master_case_items.drop_duplicates(keep='first', inplace=True)\n",
    "df_master_case_items.info()"
   ]
  },
  {
   "cell_type": "code",
   "execution_count": null,
   "metadata": {},
   "outputs": [],
   "source": [
    "df_master_case_items.isnull().sum()"
   ]
  },
  {
   "cell_type": "code",
   "execution_count": null,
   "metadata": {},
   "outputs": [],
   "source": [
    "# Merging tooth_type to master_case_items\n",
    "df_tooth_type = pd.read_csv(\"data/tooth_type_clean2.csv\")\n",
    "df_tooth_type.info()"
   ]
  },
  {
   "cell_type": "code",
   "execution_count": null,
   "metadata": {},
   "outputs": [],
   "source": [
    "df_master_case_items = pd.merge(df_master_case_items, df_tooth_type, how='left', on=['lab_name', 'tooth_type_oid'])\n",
    "#df_master_case_items.drop_duplicates(keep='first', inplace=True)\n",
    "df_master_case_items.info()"
   ]
  },
  {
   "cell_type": "code",
   "execution_count": null,
   "metadata": {},
   "outputs": [],
   "source": [
    "df_master_case_items.isnull().sum()"
   ]
  },
  {
   "cell_type": "code",
   "execution_count": null,
   "metadata": {},
   "outputs": [],
   "source": [
    "# Drop the one row where 'tooth_type_label' is null\n",
    "df_master_case_items.dropna(subset=['tooth_type_label'], inplace=True)\n",
    "df_master_case_items.info()"
   ]
  },
  {
   "cell_type": "code",
   "execution_count": null,
   "metadata": {},
   "outputs": [],
   "source": [
    "# Merging product_type_others to master_case_items\n",
    "df_product_type_oth = pd.read_csv(\"data/product_type_others_clean2.csv\")\n",
    "df_product_type_oth.info()"
   ]
  },
  {
   "cell_type": "code",
   "execution_count": null,
   "metadata": {},
   "outputs": [],
   "source": [
    "df_master_case_items = pd.merge(df_master_case_items, df_product_type_oth, how='left', on=['lab_name', 'case_item_id'])\n",
    "df_master_case_items.drop_duplicates(keep='first', inplace=True)\n",
    "df_master_case_items.info()"
   ]
  },
  {
   "cell_type": "code",
   "execution_count": 41,
   "metadata": {},
   "outputs": [
    {
     "name": "stdout",
     "output_type": "stream",
     "text": [
      "<class 'pandas.core.frame.DataFrame'>\n",
      "Int64Index: 9546865 entries, 0 to 9546864\n",
      "Data columns (total 16 columns):\n",
      "lab_name                       object\n",
      "unit_id                        int64\n",
      "case_id                        int64\n",
      "case_item_product_id           object\n",
      "case_item_tooth_num            int64\n",
      "tooth_type_oid                 int64\n",
      "case_item_crown_type           int64\n",
      "case_item_created_on           object\n",
      "case_item_last_updated         object\n",
      "unit_client_estimated_price    float64\n",
      "case_item_nb_other_settings    float64\n",
      "product_id                     float64\n",
      "product_name                   object\n",
      "product_type_id                float64\n",
      "product_type_name              object\n",
      "tooth_type_label               object\n",
      "dtypes: float64(4), int64(5), object(7)\n",
      "memory usage: 1.2+ GB\n"
     ]
    }
   ],
   "source": [
    "df_master_case_items.info()"
   ]
  },
  {
   "cell_type": "code",
   "execution_count": null,
   "metadata": {},
   "outputs": [],
   "source": [
    "df_master_case_items.isnull().sum()"
   ]
  },
  {
   "cell_type": "code",
   "execution_count": null,
   "metadata": {},
   "outputs": [],
   "source": [
    "df_master_case_items.drop_duplicates(keep='first', inplace=True)"
   ]
  },
  {
   "cell_type": "code",
   "execution_count": null,
   "metadata": {},
   "outputs": [],
   "source": [
    "df_master_case_items.to_csv('data/master_case_items.csv', index=False, header=True)"
   ]
  },
  {
   "cell_type": "markdown",
   "metadata": {},
   "source": [
    "# 'MASTER_OVERLORD_CASE_ITEMS' table"
   ]
  },
  {
   "cell_type": "code",
   "execution_count": null,
   "metadata": {},
   "outputs": [],
   "source": [
    "df_master_cases = pd.read_csv(\"data/master_cases.csv\")\n",
    "df_master_cases.info()"
   ]
  },
  {
   "cell_type": "code",
   "execution_count": null,
   "metadata": {},
   "outputs": [],
   "source": [
    "df_master_cases.isnull().sum()"
   ]
  },
  {
   "cell_type": "code",
   "execution_count": null,
   "metadata": {},
   "outputs": [],
   "source": [
    "df_master_case_items = pd.read_csv(\"data/master_case_items.csv\")\n",
    "df_master_case_items.info()"
   ]
  },
  {
   "cell_type": "code",
   "execution_count": null,
   "metadata": {},
   "outputs": [],
   "source": [
    "df_master_case_items.isnull().sum()"
   ]
  },
  {
   "cell_type": "code",
   "execution_count": null,
   "metadata": {},
   "outputs": [],
   "source": [
    "df_master_overlord_case_items = pd.merge(df_master_case_items, df_master_cases, how='outer', on=['lab_name', 'case_id'])\n",
    "df_master_overlord_case_items.drop_duplicates(keep='first', inplace=True)\n",
    "df_master_overlord_case_items.info()"
   ]
  },
  {
   "cell_type": "code",
   "execution_count": null,
   "metadata": {},
   "outputs": [],
   "source": [
    "df_master_overlord_case_items.isnull().sum()"
   ]
  },
  {
   "cell_type": "code",
   "execution_count": null,
   "metadata": {},
   "outputs": [],
   "source": [
    "# Save to csv\n",
    "df_master_overlord_case_items.to_csv('data/master_overlord_case_items.csv', index=False, header=True)"
   ]
  },
  {
   "cell_type": "markdown",
   "metadata": {},
   "source": [
    "# Create MASTER TABLE"
   ]
  },
  {
   "cell_type": "code",
   "execution_count": null,
   "metadata": {},
   "outputs": [],
   "source": [
    "df_master_overlord_case_items = pd.read_csv(\"data/master_overlord_case_items.csv\")\n",
    "df_master_overlord_case_items.info()"
   ]
  },
  {
   "cell_type": "code",
   "execution_count": null,
   "metadata": {},
   "outputs": [],
   "source": [
    "# Merge with master_billings table\n",
    "df_master_billings = pd.read_csv(\"data/master_billings.csv\")\n",
    "df_master_billings.drop('Unnamed: 0', axis=1, inplace=True)\n",
    "df_master_billings.info()"
   ]
  },
  {
   "cell_type": "code",
   "execution_count": null,
   "metadata": {},
   "outputs": [],
   "source": [
    "df_master_billings.isnull().sum()"
   ]
  },
  {
   "cell_type": "code",
   "execution_count": null,
   "metadata": {},
   "outputs": [],
   "source": [
    "df_master_table = pd.merge(df_master_overlord_case_items, df_master_billings, how='left',\n",
    "                           left_on=['lab_name', 'case_id', 'case_item_id'],\n",
    "                           right_on=['lab_name', 'billing_item_case_id', 'billing_item_case_item_id'])\n",
    "df_master_table.drop_duplicates(keep='first', inplace=True)\n",
    "df_master_table.info()"
   ]
  },
  {
   "cell_type": "code",
   "execution_count": null,
   "metadata": {},
   "outputs": [],
   "source": [
    "df_master_table.isnull().sum()"
   ]
  },
  {
   "cell_type": "code",
   "execution_count": null,
   "metadata": {},
   "outputs": [],
   "source": [
    "df_master_table = pd.read_csv(\"data/master_table.csv\")\n",
    "df_master_table.info()"
   ]
  },
  {
   "cell_type": "code",
   "execution_count": null,
   "metadata": {},
   "outputs": [],
   "source": [
    "# Merge with master_clients table\n",
    "df_master_clients = pd.read_csv(\"data/master_clients.csv\")\n",
    "df_master_clients.info()"
   ]
  },
  {
   "cell_type": "code",
   "execution_count": null,
   "metadata": {},
   "outputs": [],
   "source": [
    "df_master_table = pd.merge(df_master_table, df_master_clients, how='left', on=['lab_name', 'client_id'])\n",
    "df_master_table.drop_duplicates(keep='first', inplace=True)\n",
    "df_master_table.info()"
   ]
  },
  {
   "cell_type": "code",
   "execution_count": null,
   "metadata": {},
   "outputs": [],
   "source": [
    "df_master_table.drop('Unnamed: 0', axis=1, inplace=True)"
   ]
  },
  {
   "cell_type": "code",
   "execution_count": null,
   "metadata": {},
   "outputs": [],
   "source": [
    "# Save to csv\n",
    "df_master_table.to_csv('data/master_table.csv', index=False, header=True)"
   ]
  },
  {
   "cell_type": "code",
   "execution_count": null,
   "metadata": {},
   "outputs": [],
   "source": [
    "df_tableau = df_master_table[['lab_name', 'subscription_plan_id', 'subscription_plan_name', 'subscriber_last_updated',\n",
    "                             'client_id', 'client_name', 'shipping_city', 'shipping_state', 'shipping_zipcode',\n",
    "                             'shipping_country_name', 'shipping_country_code', 'billing_city', 'billing_state',\n",
    "                             'billing_zipcode', 'billing_country_name', 'billing_country_code',\n",
    "                             'case_item_product_id', 'product_name', 'case_item_tooth_num',\n",
    "                             'tooth_type_oid', 'tooth_type_label', 'case_item_crown_type',\n",
    "                              'case_item_client_estimated_price', 'case_item_vendor_estimated_price',\n",
    "                              'case_item_created_on', 'case_item_last_updated', 'case_item_nb_other_settings',\n",
    "                             'product_type_id', 'product_type_name', 'prod_type_oth_id', 'prod_type_oth_name',\n",
    "                             'case_vendor_estimated_price', 'case_client_estimated_price', 'case_state',\n",
    "                             'case_created_on', 'case_tdelta_hours', 'case_nb_other_products',\n",
    "                              'case_product_additional_id', 'case_product_additional_name', 'billing_item_id',\n",
    "                             'billing_id', 'charging_item_id', 'case_id_x', 'case_id_y', 'billing_item_case_id',\n",
    "                             'charging_item_case_id', 'case_item_id', 'billing_item_case_item_id',\n",
    "                             'charging_item_case_item_id', 'billing_item_amount', 'billing_item_payment',\n",
    "                             'billing_item_status', 'billing_item_created_on', 'billing_item_last_updated',\n",
    "                             'billing_item_tdelta_hours', 'charging_item_product_id', 'charging_item_tooth_num',\n",
    "                              'charging_item_unit_price', 'charging_item_quantity', 'charging_item_discount',\n",
    "                              'charging_item_adjustment', 'charging_item_payment', 'charging_item_status',\n",
    "                              'charging_item_created_on', 'charging_item_last_updated', 'charging_item_tdelta_hours', \n",
    "                              'billing_payment', 'billing_amount', 'billing_status', 'billing_calculation',\n",
    "                              'billing_created_on', 'billing_due_on', 'billing_settled_on', 'billing_last_updated',\n",
    "                              'billing_tdelta_hours']]"
   ]
  },
  {
   "cell_type": "code",
   "execution_count": null,
   "metadata": {},
   "outputs": [],
   "source": [
    "# Save to csv\n",
    "df_tableau.to_csv('data/data_tableau.csv', index=False, header=True)"
   ]
  },
  {
   "cell_type": "markdown",
   "metadata": {},
   "source": [
    "# Preparing 'master_billings' table"
   ]
  },
  {
   "cell_type": "code",
   "execution_count": null,
   "metadata": {},
   "outputs": [],
   "source": [
    "df_billings = pd.read_csv(\"data/billings_clean2.csv\")\n",
    "df_billings.info()"
   ]
  },
  {
   "cell_type": "code",
   "execution_count": null,
   "metadata": {},
   "outputs": [],
   "source": [
    "# Rename some columns\n",
    "df_billings = df_billings.rename(columns={'ref': 'billing_ref', 'ref_id': 'billing_ref_id',\n",
    "                                         'ref_type': 'billing_ref_type'})\n",
    "df_billings.info()"
   ]
  },
  {
   "cell_type": "code",
   "execution_count": null,
   "metadata": {},
   "outputs": [],
   "source": [
    "df_billings.isnull().sum()"
   ]
  },
  {
   "cell_type": "code",
   "execution_count": null,
   "metadata": {},
   "outputs": [],
   "source": [
    "df_billing_items = pd.read_csv(\"data/billing_items_clean2.csv\")\n",
    "df_billing_items.info()"
   ]
  },
  {
   "cell_type": "code",
   "execution_count": null,
   "metadata": {},
   "outputs": [],
   "source": [
    "df_billing_items.isnull().sum()"
   ]
  },
  {
   "cell_type": "code",
   "execution_count": null,
   "metadata": {},
   "outputs": [],
   "source": [
    "df_charging_items = pd.read_csv(\"data/charging_items_clean2.csv\")\n",
    "df_charging_items.info()"
   ]
  },
  {
   "cell_type": "code",
   "execution_count": null,
   "metadata": {},
   "outputs": [],
   "source": [
    "df_charging_items.isnull().sum()"
   ]
  },
  {
   "cell_type": "code",
   "execution_count": null,
   "metadata": {},
   "outputs": [],
   "source": [
    "# Merging charging_items to billing_items\n",
    "df_billing_items = pd.merge(df_billing_items, df_charging_items, on=['lab_name', 'billing_item_id'])\n",
    "df_billing_items.drop_duplicates(keep='first', inplace=True)\n",
    "df_billing_items.info()"
   ]
  },
  {
   "cell_type": "code",
   "execution_count": null,
   "metadata": {},
   "outputs": [],
   "source": [
    "# Extract columns wanted for analysis\n",
    "df_billing_items = df_billing_items[['lab_name', 'case_id_x', 'case_id_y', 'case_item_id_x', 'case_item_id_y',\n",
    "                                     'billing_item_amount', 'charging_item_unit_price', 'charging_item_quantity',\n",
    "                                     'billing_item_payment', 'charging_item_payment', 'billing_item_status',\n",
    "                                     'charging_item_status', 'billing_item_created_on', 'charging_item_created_on',\n",
    "                                     'product_id', 'charging_item_tooth_num']]\n",
    "df_billing_items.head(10)"
   ]
  },
  {
   "cell_type": "code",
   "execution_count": null,
   "metadata": {},
   "outputs": [],
   "source": [
    "df_billing_items.tail(10)"
   ]
  },
  {
   "cell_type": "code",
   "execution_count": null,
   "metadata": {},
   "outputs": [],
   "source": [
    "# Extract columns wanted for analysis\n",
    "df_billing_items = df_billing_items[['lab_name', 'case_id_x', 'case_item_id_x',\n",
    "                                     'billing_item_amount', 'billing_item_payment', 'billing_item_status',\n",
    "                                     'charging_item_unit_price', 'charging_item_quantity',\n",
    "                                     'charging_item_status', 'billing_item_created_on',\n",
    "                                     'product_id', 'charging_item_tooth_num']]\n",
    "df_billing_items.head(10)"
   ]
  },
  {
   "cell_type": "code",
   "execution_count": null,
   "metadata": {},
   "outputs": [],
   "source": [
    "df_billing_items.isnull().sum()"
   ]
  },
  {
   "cell_type": "code",
   "execution_count": null,
   "metadata": {},
   "outputs": [],
   "source": [
    "# Rename some columns\n",
    "df_billing_items = df_billing_items.rename(columns={'case_item_id_x': 'unit_id',\n",
    "                                                    'case_id_x': 'case_id',\n",
    "                                                    'charging_item_tooth_num': 'tooth_num'})\n",
    "df_billing_items.info()"
   ]
  },
  {
   "cell_type": "code",
   "execution_count": null,
   "metadata": {},
   "outputs": [],
   "source": [
    "df_billing_items.isnull().sum()"
   ]
  },
  {
   "cell_type": "code",
   "execution_count": null,
   "metadata": {},
   "outputs": [],
   "source": [
    "# Save to csv\n",
    "df_billing_items.to_csv('data/master_units_billing.csv')"
   ]
  },
  {
   "cell_type": "markdown",
   "metadata": {},
   "source": [
    "# Preparing 'master_pricebooks' table"
   ]
  },
  {
   "cell_type": "code",
   "execution_count": null,
   "metadata": {},
   "outputs": [],
   "source": [
    "df_pricebooks = pd.read_csv(\"data/pricebooks_clean2.csv\")\n",
    "df_pricebooks.info()"
   ]
  },
  {
   "cell_type": "code",
   "execution_count": null,
   "metadata": {},
   "outputs": [],
   "source": [
    "df_pricebook_items = pd.read_csv(\"data/pricebook_items_clean2.csv\")\n",
    "df_pricebook_items.info()"
   ]
  },
  {
   "cell_type": "code",
   "execution_count": null,
   "metadata": {},
   "outputs": [],
   "source": [
    "# Merge pricebooks and pricebook_items\n",
    "df_master_pricebooks = pd.merge(df_pricebooks, df_pricebook_items, how='left', on=['lab_name', 'pricebook_id'])\n",
    "df_master_pricebooks.drop_duplicates(keep='first', inplace=True)\n",
    "df_master_pricebooks.info()"
   ]
  },
  {
   "cell_type": "code",
   "execution_count": null,
   "metadata": {},
   "outputs": [],
   "source": [
    "# Merge master_pricebooks and products\n",
    "df_products.info()"
   ]
  },
  {
   "cell_type": "code",
   "execution_count": null,
   "metadata": {},
   "outputs": [],
   "source": [
    "df_master_pricebooks = pd.merge(df_master_pricebooks, df_products, how='left', on=['lab_name', 'product_id'])\n",
    "df_master_pricebooks.drop_duplicates(keep='first', inplace=True)\n",
    "df_master_pricebooks.info()"
   ]
  },
  {
   "cell_type": "code",
   "execution_count": null,
   "metadata": {},
   "outputs": [],
   "source": [
    "# Extract columns needed for analysis\n",
    "df_master_pricebooks_reduced = df_master_pricebooks[['lab_name', 'client_id', 'client_name', 'pricebook_id',\n",
    "                                               'pricebook_last_updated', 'ref_type',\n",
    "                                               'product_id', 'price', 'product_name', 'product_type_name']]\n",
    "\n",
    "# Rename some columns\n",
    "df_master_pricebooks_reduced = df_master_pricebooks_reduced.rename(columns={'ref_type': 'pricebook_ref_type',\n",
    "                                                                           'client_id': 'pricebook_client_id',\n",
    "                                                                           'client_name': 'pricebook_client_name',\n",
    "                                                                           'product_id': 'pricebook_product_id',\n",
    "                                                                           'price': 'pricebook_price',\n",
    "                                                                           'product_name': 'pricebook_product_name',\n",
    "                                                                           'product_type_name': 'pricebook_product_type_name'})\n",
    "df_master_pricebooks_reduced.head()\n"
   ]
  },
  {
   "cell_type": "code",
   "execution_count": null,
   "metadata": {},
   "outputs": [],
   "source": [
    "df_master_pricebooks_reduced.info()"
   ]
  },
  {
   "cell_type": "code",
   "execution_count": null,
   "metadata": {},
   "outputs": [],
   "source": [
    "# Save 'master_pricebooks' to csv\n",
    "df_master_pricebooks_reduced.to_csv('data/master_pricebooks.csv')"
   ]
  },
  {
   "cell_type": "markdown",
   "metadata": {},
   "source": [
    "# Preparing 'master_clients' table"
   ]
  },
  {
   "cell_type": "code",
   "execution_count": null,
   "metadata": {},
   "outputs": [],
   "source": [
    "df_clients = pd.read_csv(\"data/clients_clean2.csv\")\n",
    "df_clients.info()"
   ]
  },
  {
   "cell_type": "code",
   "execution_count": null,
   "metadata": {},
   "outputs": [],
   "source": [
    "df_addresses = pd.read_csv(\"data/addresses_clean2.csv\")\n",
    "df_addresses.drop('Unnamed: 0', axis=1, inplace=True)\n",
    "df_addresses.info()"
   ]
  },
  {
   "cell_type": "code",
   "execution_count": null,
   "metadata": {},
   "outputs": [],
   "source": [
    "df_countries = pd.read_csv(\"data/countries_clean2.csv\")\n",
    "df_countries.drop('Unnamed: 0', axis=1, inplace=True)\n",
    "df_countries.info()"
   ]
  },
  {
   "cell_type": "code",
   "execution_count": null,
   "metadata": {},
   "outputs": [],
   "source": [
    "# Merge countries to addresses\n",
    "df_addresses = pd.merge(df_addresses, df_countries, how='left', on=['country_id'])\n",
    "df_addresses.drop_duplicates(keep='first', inplace=True)\n",
    "df_addresses.info()"
   ]
  },
  {
   "cell_type": "code",
   "execution_count": null,
   "metadata": {},
   "outputs": [],
   "source": [
    "# Merge clients and addresses\n",
    "df_master_clients = pd.merge(df_clients, df_addresses, how='left', left_on=['lab_name', 'shipping_address_id'],\n",
    "                            right_on=['lab_name', 'address_id'])\n",
    "df_master_clients.drop_duplicates(keep='first', inplace=True)\n",
    "df_master_clients.info()"
   ]
  },
  {
   "cell_type": "code",
   "execution_count": null,
   "metadata": {},
   "outputs": [],
   "source": [
    "# Extract columns needed for analysis\n",
    "df_master_clients_reduced = df_master_clients[['lab_name', 'client_id', 'bClientLab', 'client_name', 'billing_address_id',\n",
    "                                               'master_pricebook_id', 'custom_pricebook_id',\n",
    "                                               'city', 'state', 'zip', 'country_name', 'country_code']]\n",
    "\n",
    "# Rename some columns\n",
    "df_master_clients_reduced = df_master_clients_reduced.rename(columns={'city': 'shipping_city',\n",
    "                                                                      'state': 'shipping_state',\n",
    "                                                                      'zip': 'shipping_zipcode',\n",
    "                                                                     'country_name': 'shipping_country_name',\n",
    "                                                                     'country_code': 'shipping_country_code'})\n",
    "df_master_clients_reduced.head()"
   ]
  },
  {
   "cell_type": "code",
   "execution_count": null,
   "metadata": {},
   "outputs": [],
   "source": [
    "df_master_clients_reduced = pd.merge(df_master_clients_reduced, df_addresses, how='left',\n",
    "                                     left_on=['lab_name', 'billing_address_id'],\n",
    "                                     right_on=['lab_name', 'address_id'])\n",
    "df_master_clients_reduced.drop_duplicates(keep='first', inplace=True)\n",
    "df_master_clients_reduced.info()"
   ]
  },
  {
   "cell_type": "code",
   "execution_count": null,
   "metadata": {},
   "outputs": [],
   "source": [
    "# Extract columns needed for analysis\n",
    "df_master_clients_reduced = df_master_clients_reduced[['lab_name', 'client_id', 'bClientLab', 'client_name',\n",
    "                                               'master_pricebook_id', 'custom_pricebook_id',\n",
    "                                               'shipping_city', 'shipping_state', 'shipping_zipcode',\n",
    "                                               'shipping_country_name', 'shipping_country_code',\n",
    "                                               'city', 'state', 'zip', 'country_name', 'country_code']]\n",
    "\n",
    "# Rename some columns\n",
    "df_master_clients_reduced = df_master_clients_reduced.rename(columns={'city': 'billing_city',\n",
    "                                                                      'state': 'billing_state',\n",
    "                                                                      'zip': 'billing_zipcode',\n",
    "                                                                     'country_name': 'billing_country_name',\n",
    "                                                                     'country_code': 'billing_country_code'})\n",
    "df_master_clients_reduced.head()"
   ]
  },
  {
   "cell_type": "code",
   "execution_count": null,
   "metadata": {},
   "outputs": [],
   "source": [
    "df_master_clients_reduced.info()"
   ]
  },
  {
   "cell_type": "code",
   "execution_count": null,
   "metadata": {},
   "outputs": [],
   "source": [
    "# Save 'master_clients' to csv\n",
    "df_master_clients_reduced.to_csv('data/master_clients.csv')"
   ]
  },
  {
   "cell_type": "markdown",
   "metadata": {},
   "source": [
    "# Preparing 'master_users' table"
   ]
  },
  {
   "cell_type": "code",
   "execution_count": null,
   "metadata": {},
   "outputs": [],
   "source": [
    "# Merging users to master cases\n",
    "df_users = pd.read_csv(\"data/users_clean2.csv\")\n",
    "df_users.drop('Unnamed: 0', axis=1, inplace=True)\n",
    "df_users.info()"
   ]
  },
  {
   "cell_type": "code",
   "execution_count": null,
   "metadata": {},
   "outputs": [],
   "source": [
    "# Merge master_clients and users\n",
    "df_master_users = pd.merge(df_users, df_master_clients_reduced, how='left',\n",
    "                                     left_on=['lab_name', 'ref_id'],\n",
    "                                     right_on=['lab_name', 'client_id'])\n",
    "df_master_users.drop_duplicates(keep='first', inplace=True)\n",
    "df_master_users.info()"
   ]
  },
  {
   "cell_type": "code",
   "execution_count": null,
   "metadata": {},
   "outputs": [],
   "source": [
    "# Extract columns needed for analysis\n",
    "df_master_users_reduced = df_master_users[['lab_name', 'user_id', 'first_name', 'last_name',\n",
    "                                           'ref_type', 'client_id', 'bClientLab', 'client_name', 'master_pricebook_id',\n",
    "                                           'custom_pricebook_id', 'shipping_city', 'shipping_state',\n",
    "                                           'shipping_zipcode', 'shipping_country_name', 'shipping_country_code',\n",
    "                                           'billing_city', 'billing_state', 'billing_zipcode', 'billing_country_name',\n",
    "                                           'billing_country_code']]\n",
    "# Rename some columns\n",
    "df_master_clients_reduced = df_master_clients_reduced.rename(columns={'first_name': 'user_first_name',\n",
    "                                                                      'last_name': 'user_last_name',\n",
    "                                                                      'ref_type': 'user_ref_type'})\n",
    "df_master_clients_reduced.head()"
   ]
  },
  {
   "cell_type": "code",
   "execution_count": null,
   "metadata": {},
   "outputs": [],
   "source": [
    "# Save 'master_clients' to csv\n",
    "df_master_users_reduced.to_csv('data/master_users.csv')"
   ]
  },
  {
   "cell_type": "code",
   "execution_count": null,
   "metadata": {},
   "outputs": [],
   "source": []
  }
 ],
 "metadata": {
  "kernelspec": {
   "display_name": "Python 3",
   "language": "python",
   "name": "python3"
  },
  "language_info": {
   "codemirror_mode": {
    "name": "ipython",
    "version": 3
   },
   "file_extension": ".py",
   "mimetype": "text/x-python",
   "name": "python",
   "nbconvert_exporter": "python",
   "pygments_lexer": "ipython3",
   "version": "3.6.8"
  }
 },
 "nbformat": 4,
 "nbformat_minor": 2
}
