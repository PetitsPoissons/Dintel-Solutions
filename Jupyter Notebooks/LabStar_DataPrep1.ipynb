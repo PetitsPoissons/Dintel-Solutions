{
 "cells": [
  {
   "cell_type": "code",
   "execution_count": 1,
   "metadata": {},
   "outputs": [],
   "source": [
    "import pandas as pd"
   ]
  },
  {
   "cell_type": "markdown",
   "metadata": {},
   "source": [
    "### FIRST ROUND CLEANING 'union_all_clients.csv'"
   ]
  },
  {
   "cell_type": "code",
   "execution_count": 7,
   "metadata": {},
   "outputs": [
    {
     "name": "stderr",
     "output_type": "stream",
     "text": [
      "/anaconda3/lib/python3.6/site-packages/IPython/core/interactiveshell.py:2728: DtypeWarning: Columns (12,44,63) have mixed types. Specify dtype option on import or set low_memory=False.\n",
      "  interactivity=interactivity, compiler=compiler, result=result)\n"
     ]
    },
    {
     "data": {
      "text/html": [
       "<div>\n",
       "<style scoped>\n",
       "    .dataframe tbody tr th:only-of-type {\n",
       "        vertical-align: middle;\n",
       "    }\n",
       "\n",
       "    .dataframe tbody tr th {\n",
       "        vertical-align: top;\n",
       "    }\n",
       "\n",
       "    .dataframe thead th {\n",
       "        text-align: right;\n",
       "    }\n",
       "</style>\n",
       "<table border=\"1\" class=\"dataframe\">\n",
       "  <thead>\n",
       "    <tr style=\"text-align: right;\">\n",
       "      <th></th>\n",
       "      <th>master_pricebook_id</th>\n",
       "      <th>tax_rate_2_default</th>\n",
       "      <th>updatedby</th>\n",
       "      <th>channel</th>\n",
       "      <th>payment_due_date_days</th>\n",
       "      <th>inadequateClearance</th>\n",
       "      <th>labName</th>\n",
       "      <th>tax_rate_default</th>\n",
       "      <th>courier_profile_for_priority</th>\n",
       "      <th>last_activity_on</th>\n",
       "      <th>...</th>\n",
       "      <th>bDrSalutation</th>\n",
       "      <th>travelflo_lab_id</th>\n",
       "      <th>bManufacturerInvoicing</th>\n",
       "      <th>tooth_numbering_system</th>\n",
       "      <th>group_id</th>\n",
       "      <th>courier_profile</th>\n",
       "      <th>client_last_name</th>\n",
       "      <th>lastupdated</th>\n",
       "      <th>prospect_flag</th>\n",
       "      <th>remarks</th>\n",
       "    </tr>\n",
       "  </thead>\n",
       "  <tbody>\n",
       "    <tr>\n",
       "      <th>0</th>\n",
       "      <td>1.0</td>\n",
       "      <td>1.0</td>\n",
       "      <td>5</td>\n",
       "      <td>0.0</td>\n",
       "      <td>10</td>\n",
       "      <td>0</td>\n",
       "      <td>TAPDENTALART</td>\n",
       "      <td>1.0</td>\n",
       "      <td>NaN</td>\n",
       "      <td>8/8/2014 12:39:15</td>\n",
       "      <td>...</td>\n",
       "      <td>0.0</td>\n",
       "      <td>NaN</td>\n",
       "      <td>0.0</td>\n",
       "      <td>20</td>\n",
       "      <td>0.0</td>\n",
       "      <td>4</td>\n",
       "      <td>Test Client</td>\n",
       "      <td>8/8/2014 12:39:14</td>\n",
       "      <td>NaN</td>\n",
       "      <td>NaN</td>\n",
       "    </tr>\n",
       "    <tr>\n",
       "      <th>1</th>\n",
       "      <td>1.0</td>\n",
       "      <td>1.0</td>\n",
       "      <td>5</td>\n",
       "      <td>0.0</td>\n",
       "      <td>10</td>\n",
       "      <td>0</td>\n",
       "      <td>TAPDENTALART</td>\n",
       "      <td>1.0</td>\n",
       "      <td>NaN</td>\n",
       "      <td>2/25/2013 12:39:42</td>\n",
       "      <td>...</td>\n",
       "      <td>0.0</td>\n",
       "      <td>NaN</td>\n",
       "      <td>0.0</td>\n",
       "      <td>20</td>\n",
       "      <td>0.0</td>\n",
       "      <td>4</td>\n",
       "      <td>Sample Lab</td>\n",
       "      <td>2/25/2013 12:39:42</td>\n",
       "      <td>NaN</td>\n",
       "      <td>NaN</td>\n",
       "    </tr>\n",
       "    <tr>\n",
       "      <th>2</th>\n",
       "      <td>1.0</td>\n",
       "      <td>1.0</td>\n",
       "      <td>66</td>\n",
       "      <td>0.0</td>\n",
       "      <td>60</td>\n",
       "      <td>0</td>\n",
       "      <td>TAPDENTALART</td>\n",
       "      <td>1.0</td>\n",
       "      <td>NaN</td>\n",
       "      <td>5/1/2014 11:43:18</td>\n",
       "      <td>...</td>\n",
       "      <td>1.0</td>\n",
       "      <td>NaN</td>\n",
       "      <td>NaN</td>\n",
       "      <td>20</td>\n",
       "      <td>0.0</td>\n",
       "      <td>4</td>\n",
       "      <td>Katibah</td>\n",
       "      <td>5/1/2014 11:43:17</td>\n",
       "      <td>NaN</td>\n",
       "      <td>NaN</td>\n",
       "    </tr>\n",
       "    <tr>\n",
       "      <th>3</th>\n",
       "      <td>1.0</td>\n",
       "      <td>1.0</td>\n",
       "      <td>66</td>\n",
       "      <td>0.0</td>\n",
       "      <td>60</td>\n",
       "      <td>0</td>\n",
       "      <td>TAPDENTALART</td>\n",
       "      <td>1.0</td>\n",
       "      <td>NaN</td>\n",
       "      <td>5/1/2014 17:58:08</td>\n",
       "      <td>...</td>\n",
       "      <td>1.0</td>\n",
       "      <td>NaN</td>\n",
       "      <td>NaN</td>\n",
       "      <td>20</td>\n",
       "      <td>0.0</td>\n",
       "      <td>4</td>\n",
       "      <td>Orsi</td>\n",
       "      <td>5/1/2014 17:58:08</td>\n",
       "      <td>NaN</td>\n",
       "      <td>NaN</td>\n",
       "    </tr>\n",
       "    <tr>\n",
       "      <th>4</th>\n",
       "      <td>1.0</td>\n",
       "      <td>1.0</td>\n",
       "      <td>5</td>\n",
       "      <td>0.0</td>\n",
       "      <td>60</td>\n",
       "      <td>0</td>\n",
       "      <td>TAPDENTALART</td>\n",
       "      <td>1.0</td>\n",
       "      <td>NaN</td>\n",
       "      <td>5/28/2014 11:42:56</td>\n",
       "      <td>...</td>\n",
       "      <td>0.0</td>\n",
       "      <td>NaN</td>\n",
       "      <td>0.0</td>\n",
       "      <td>20</td>\n",
       "      <td>0.0</td>\n",
       "      <td>4</td>\n",
       "      <td>Dentistry By Design</td>\n",
       "      <td>5/28/2014 11:42:56</td>\n",
       "      <td>NaN</td>\n",
       "      <td>NaN</td>\n",
       "    </tr>\n",
       "  </tbody>\n",
       "</table>\n",
       "<p>5 rows × 72 columns</p>\n",
       "</div>"
      ],
      "text/plain": [
       "   master_pricebook_id  tax_rate_2_default  updatedby  channel  \\\n",
       "0                  1.0                 1.0          5      0.0   \n",
       "1                  1.0                 1.0          5      0.0   \n",
       "2                  1.0                 1.0         66      0.0   \n",
       "3                  1.0                 1.0         66      0.0   \n",
       "4                  1.0                 1.0          5      0.0   \n",
       "\n",
       "   payment_due_date_days  inadequateClearance       labName  tax_rate_default  \\\n",
       "0                     10                    0  TAPDENTALART               1.0   \n",
       "1                     10                    0  TAPDENTALART               1.0   \n",
       "2                     60                    0  TAPDENTALART               1.0   \n",
       "3                     60                    0  TAPDENTALART               1.0   \n",
       "4                     60                    0  TAPDENTALART               1.0   \n",
       "\n",
       "   courier_profile_for_priority    last_activity_on   ...     bDrSalutation  \\\n",
       "0                           NaN   8/8/2014 12:39:15   ...               0.0   \n",
       "1                           NaN  2/25/2013 12:39:42   ...               0.0   \n",
       "2                           NaN   5/1/2014 11:43:18   ...               1.0   \n",
       "3                           NaN   5/1/2014 17:58:08   ...               1.0   \n",
       "4                           NaN  5/28/2014 11:42:56   ...               0.0   \n",
       "\n",
       "   travelflo_lab_id bManufacturerInvoicing  tooth_numbering_system  group_id  \\\n",
       "0               NaN                    0.0                      20       0.0   \n",
       "1               NaN                    0.0                      20       0.0   \n",
       "2               NaN                    NaN                      20       0.0   \n",
       "3               NaN                    NaN                      20       0.0   \n",
       "4               NaN                    0.0                      20       0.0   \n",
       "\n",
       "   courier_profile     client_last_name         lastupdated  prospect_flag  \\\n",
       "0                4          Test Client   8/8/2014 12:39:14            NaN   \n",
       "1                4           Sample Lab  2/25/2013 12:39:42            NaN   \n",
       "2                4              Katibah   5/1/2014 11:43:17            NaN   \n",
       "3                4                 Orsi   5/1/2014 17:58:08            NaN   \n",
       "4                4  Dentistry By Design  5/28/2014 11:42:56            NaN   \n",
       "\n",
       "   remarks  \n",
       "0      NaN  \n",
       "1      NaN  \n",
       "2      NaN  \n",
       "3      NaN  \n",
       "4      NaN  \n",
       "\n",
       "[5 rows x 72 columns]"
      ]
     },
     "execution_count": 7,
     "metadata": {},
     "output_type": "execute_result"
    }
   ],
   "source": [
    "df_clients = pd.read_csv(\"data/union_all_clients.csv\")\n",
    "df_clients.head()"
   ]
  },
  {
   "cell_type": "code",
   "execution_count": 8,
   "metadata": {},
   "outputs": [
    {
     "name": "stdout",
     "output_type": "stream",
     "text": [
      "<class 'pandas.core.frame.DataFrame'>\n",
      "RangeIndex: 97282 entries, 0 to 97281\n",
      "Data columns (total 72 columns):\n",
      "master_pricebook_id             93112 non-null float64\n",
      "tax_rate_2_default              97275 non-null float64\n",
      "updatedby                       97282 non-null int64\n",
      "channel                         84231 non-null float64\n",
      "payment_due_date_days           97282 non-null int64\n",
      "inadequateClearance             97282 non-null int64\n",
      "labName                         97282 non-null object\n",
      "tax_rate_default                97275 non-null float64\n",
      "courier_profile_for_priority    3539 non-null float64\n",
      "last_activity_on                97281 non-null object\n",
      "tax_rate                        12657 non-null float64\n",
      "bClientLab                      97282 non-null int64\n",
      "travelflo_recipient_id          123 non-null object\n",
      "ref                             0 non-null float64\n",
      "internal_name                   0 non-null float64\n",
      "bLabPref                        97282 non-null int64\n",
      "id                              97282 non-null int64\n",
      "client_preference_id            97281 non-null float64\n",
      "transit_day                     97275 non-null float64\n",
      "pricebook_id                    0 non-null float64\n",
      "opposingTeethFutureRestore      97282 non-null int64\n",
      "billing_address_id              94260 non-null float64\n",
      "prospect_status                 81880 non-null float64\n",
      "shipping_address_id             97282 non-null int64\n",
      "bClientInvoicing                60030 non-null float64\n",
      "travelflo_enable                76679 non-null float64\n",
      "billing_cycle_days              73851 non-null float64\n",
      "pref_ssn_id                     97282 non-null int64\n",
      "address_id                      0 non-null float64\n",
      "tax_county                      1237 non-null object\n",
      "driver_reminder                 529 non-null object\n",
      "last_activity_by                97281 non-null float64\n",
      "name                            97282 non-null object\n",
      "surfaceTexture                  97282 non-null int64\n",
      "contact5                        0 non-null float64\n",
      "contact4                        0 non-null float64\n",
      "contact7                        0 non-null float64\n",
      "contact6                        3196 non-null float64\n",
      "contact1                        35161 non-null float64\n",
      "contact3                        26 non-null float64\n",
      "contact2                        100 non-null float64\n",
      "travelflo_custom_rate           76668 non-null float64\n",
      "bActive                         97282 non-null int64\n",
      "createdOn                       97282 non-null object\n",
      "long_name                       5 non-null object\n",
      "Table Names                     97282 non-null object\n",
      "bNeedQA                         0 non-null float64\n",
      "invoice_payment_due_date        97282 non-null int64\n",
      "custom_pricebook_id             97261 non-null float64\n",
      "sales_flag                      12841 non-null float64\n",
      "credit_limit                    47170 non-null float64\n",
      "bTransportationTaxable          84222 non-null float64\n",
      "courier_profile_priority        466 non-null float64\n",
      "preferred_lang                  97282 non-null int64\n",
      "inbound_transit_day             97282 non-null int64\n",
      "tax_rate_2                      2115 non-null float64\n",
      "statement_cycle_days            73061 non-null float64\n",
      "transit_time_to_lab             0 non-null float64\n",
      "website                         0 non-null float64\n",
      "contact_person                  0 non-null float64\n",
      "client_first_name               35085 non-null object\n",
      "bShipBillAddr                   96805 non-null float64\n",
      "bDrSalutation                   97272 non-null float64\n",
      "travelflo_lab_id                12 non-null object\n",
      "bManufacturerInvoicing          60030 non-null float64\n",
      "tooth_numbering_system          97282 non-null int64\n",
      "group_id                        97280 non-null float64\n",
      "courier_profile                 97282 non-null int64\n",
      "client_last_name                97273 non-null object\n",
      "lastupdated                     97282 non-null object\n",
      "prospect_flag                   7200 non-null float64\n",
      "remarks                         0 non-null float64\n",
      "dtypes: float64(43), int64(16), object(13)\n",
      "memory usage: 53.4+ MB\n"
     ]
    }
   ],
   "source": [
    "df_clients.info()"
   ]
  },
  {
   "cell_type": "code",
   "execution_count": 9,
   "metadata": {},
   "outputs": [],
   "source": [
    "# Drop 12 columns\n",
    "df_clients.drop('pricebook_id', axis=1, inplace=True)\n",
    "df_clients.drop('ref', axis=1, inplace=True)\n",
    "df_clients.drop('address_id', axis=1, inplace=True)\n",
    "df_clients.drop('contact_person', axis=1, inplace=True)\n",
    "df_clients.drop('remarks', axis=1, inplace=True)\n",
    "df_clients.drop('internal_name', axis=1, inplace=True)\n",
    "df_clients.drop('website', axis=1, inplace=True)\n",
    "df_clients.drop('bNeedQA', axis=1, inplace=True)\n",
    "df_clients.drop('contact4', axis=1, inplace=True)\n",
    "df_clients.drop('contact5', axis=1, inplace=True)\n",
    "df_clients.drop('contact7', axis=1, inplace=True)\n",
    "df_clients.drop('transit_time_to_lab', axis=1, inplace=True)"
   ]
  },
  {
   "cell_type": "code",
   "execution_count": 10,
   "metadata": {},
   "outputs": [],
   "source": [
    "# Save to csv\n",
    "df_clients.to_csv('data/clients_clean1.csv')"
   ]
  },
  {
   "cell_type": "markdown",
   "metadata": {},
   "source": [
    "### FIRST ROUND CLEANING 'union_all_pricebooks.csv'"
   ]
  },
  {
   "cell_type": "code",
   "execution_count": null,
   "metadata": {},
   "outputs": [],
   "source": [
    "df_pricebooks = pd.read_csv(\"data/union_all_pricebooks.csv\")\n",
    "df_pricebooks.head()"
   ]
  },
  {
   "cell_type": "code",
   "execution_count": null,
   "metadata": {},
   "outputs": [],
   "source": [
    "df_pricebooks.info()"
   ]
  },
  {
   "cell_type": "raw",
   "metadata": {},
   "source": [
    "# Keep only rows where bActive == 1\n",
    "df_pricebooks_rows = df_pricebooks[df_pricebooks.bActive == 1] # only 1 row gets dropped"
   ]
  },
  {
   "cell_type": "code",
   "execution_count": null,
   "metadata": {},
   "outputs": [],
   "source": [
    "# Drop 11 columns\n",
    "df_pricebooks.drop('client_group_id', axis=1, inplace=True)\n",
    "df_pricebooks.drop('vendor_id', axis=1, inplace=True)\n",
    "df_pricebooks.drop('eff_datefrom', axis=1, inplace=True)\n",
    "df_pricebooks.drop('eff_dateto', axis=1, inplace=True)\n",
    "df_pricebooks.drop('charge', axis=1, inplace=True)\n",
    "df_pricebooks.drop('bActive', axis=1, inplace=True)\n",
    "df_pricebooks.drop('discount_remarks', axis=1, inplace=True)\n",
    "df_pricebooks.drop('surcharge_remarks', axis=1, inplace=True)\n",
    "df_pricebooks.drop('transportation_fee_remarks', axis=1, inplace=True)\n",
    "df_pricebooks.drop('case_discount_remarks', axis=1, inplace=True)\n",
    "df_pricebooks.drop('case_discount_amount_remarks', axis=1, inplace=True)"
   ]
  },
  {
   "cell_type": "code",
   "execution_count": null,
   "metadata": {},
   "outputs": [],
   "source": [
    "# Save to csv\n",
    "df_pricebooks.to_csv('data/pricebooks_clean1.csv')"
   ]
  },
  {
   "cell_type": "markdown",
   "metadata": {},
   "source": [
    "### FIRST ROUND CLEANING 'union_all_pricebook_items.csv'"
   ]
  },
  {
   "cell_type": "code",
   "execution_count": null,
   "metadata": {},
   "outputs": [],
   "source": [
    "df_pricebook_items = pd.read_csv(\"data/union_all_pricebook_items.csv\")\n",
    "df_pricebook_items.head()"
   ]
  },
  {
   "cell_type": "code",
   "execution_count": null,
   "metadata": {},
   "outputs": [],
   "source": [
    "df_pricebook_items.info()"
   ]
  },
  {
   "cell_type": "code",
   "execution_count": null,
   "metadata": {},
   "outputs": [],
   "source": [
    "# Number of NaN values\n",
    "df_pricebook_items.isnull().sum()"
   ]
  },
  {
   "cell_type": "code",
   "execution_count": null,
   "metadata": {},
   "outputs": [],
   "source": [
    "# Drop 6 columns\n",
    "df_pricebook_items.drop('service_type_id', axis=1, inplace=True)\n",
    "df_pricebook_items.drop('tooth_num', axis=1, inplace=True)\n",
    "df_pricebook_items.drop('eff_datefrom', axis=1, inplace=True)\n",
    "df_pricebook_items.drop('eff_dateto', axis=1, inplace=True)\n",
    "df_pricebook_items.drop('other', axis=1, inplace=True)\n",
    "df_pricebook_items.drop('spec_remarks', axis=1, inplace=True)"
   ]
  },
  {
   "cell_type": "code",
   "execution_count": null,
   "metadata": {},
   "outputs": [],
   "source": [
    "# Save to csv\n",
    "df_pricebook_items.to_csv('data/pricebook_items_clean1.csv')"
   ]
  },
  {
   "cell_type": "markdown",
   "metadata": {},
   "source": [
    "### FIRST ROUND CLEANING 'union_all_addresses.csv'"
   ]
  },
  {
   "cell_type": "code",
   "execution_count": null,
   "metadata": {},
   "outputs": [],
   "source": [
    "df_addresses = pd.read_csv(\"data/union_all_addresses.csv\")\n",
    "df_addresses.head()"
   ]
  },
  {
   "cell_type": "code",
   "execution_count": null,
   "metadata": {},
   "outputs": [],
   "source": [
    "df_addresses.info()"
   ]
  },
  {
   "cell_type": "code",
   "execution_count": null,
   "metadata": {},
   "outputs": [],
   "source": [
    "# Drop 5 columns\n",
    "df_addresses.drop('addr4', axis=1, inplace=True)\n",
    "df_addresses.drop('mobile', axis=1, inplace=True)\n",
    "df_addresses.drop('tel_alt', axis=1, inplace=True)\n",
    "df_addresses.drop('fax', axis=1, inplace=True)\n",
    "df_addresses.drop('website', axis=1, inplace=True)"
   ]
  },
  {
   "cell_type": "code",
   "execution_count": null,
   "metadata": {},
   "outputs": [],
   "source": [
    "# Save to csv\n",
    "df_addresses.to_csv('data/addresses_clean1.csv')"
   ]
  },
  {
   "cell_type": "markdown",
   "metadata": {},
   "source": [
    "### FIRST ROUND CLEANING 'union_all_attachment.csv'"
   ]
  },
  {
   "cell_type": "code",
   "execution_count": null,
   "metadata": {},
   "outputs": [],
   "source": [
    "df_attachment = pd.read_csv(\"data/union_all_attachment.csv\")\n",
    "df_attachment.head()"
   ]
  },
  {
   "cell_type": "code",
   "execution_count": null,
   "metadata": {},
   "outputs": [],
   "source": [
    "df_attachment.info()"
   ]
  },
  {
   "cell_type": "code",
   "execution_count": null,
   "metadata": {},
   "outputs": [],
   "source": [
    "# Number of NaN values\n",
    "df_attachment.isnull().sum()"
   ]
  },
  {
   "cell_type": "code",
   "execution_count": null,
   "metadata": {},
   "outputs": [],
   "source": [
    "# Drop 6 columns\n",
    "df_attachment.drop('comment', axis=1, inplace=True)\n",
    "df_attachment.drop('bIsRX', axis=1, inplace=True)\n",
    "df_attachment.drop('barcode', axis=1, inplace=True)\n",
    "df_attachment.drop('ref', axis=1, inplace=True)\n",
    "df_attachment.drop('purgedOn', axis=1, inplace=True)\n",
    "df_attachment.drop('bPurged', axis=1, inplace=True)"
   ]
  },
  {
   "cell_type": "code",
   "execution_count": null,
   "metadata": {},
   "outputs": [],
   "source": [
    "# Save to csv\n",
    "df_attachment.to_csv('data/attachment_clean1.csv')"
   ]
  },
  {
   "cell_type": "markdown",
   "metadata": {},
   "source": [
    "### FIRST ROUND CLEANING 'union_all_product_additional.csv'"
   ]
  },
  {
   "cell_type": "code",
   "execution_count": null,
   "metadata": {},
   "outputs": [],
   "source": [
    "df_product_additional = pd.read_csv(\"data/union_all_product_additional.csv\")\n",
    "df_product_additional.head()"
   ]
  },
  {
   "cell_type": "code",
   "execution_count": null,
   "metadata": {},
   "outputs": [],
   "source": [
    "df_product_additional.info()"
   ]
  },
  {
   "cell_type": "code",
   "execution_count": null,
   "metadata": {},
   "outputs": [],
   "source": [
    "# Drop 3 columns\n",
    "df_product_additional.drop('remarks', axis=1, inplace=True)\n",
    "df_product_additional.drop('manufacture_profile_id', axis=1, inplace=True)\n",
    "df_product_additional.drop('xero_account_code', axis=1, inplace=True)"
   ]
  },
  {
   "cell_type": "code",
   "execution_count": null,
   "metadata": {},
   "outputs": [],
   "source": [
    "# Save to csv\n",
    "df_product_additional.to_csv('data/product_additional_clean1.csv')"
   ]
  },
  {
   "cell_type": "markdown",
   "metadata": {},
   "source": [
    "### FIRST ROUND CLEANING 'union_all_product_type_others.csv'"
   ]
  },
  {
   "cell_type": "code",
   "execution_count": null,
   "metadata": {},
   "outputs": [],
   "source": [
    "df_product_type_others = pd.read_csv(\"data/union_all_product_type_others.csv\")\n",
    "df_product_type_others.head()"
   ]
  },
  {
   "cell_type": "code",
   "execution_count": null,
   "metadata": {},
   "outputs": [],
   "source": [
    "df_product_type_others.info()"
   ]
  },
  {
   "cell_type": "code",
   "execution_count": null,
   "metadata": {},
   "outputs": [],
   "source": [
    "# Drop 3 columns\n",
    "df_product_type_others.drop('type_id', axis=1, inplace=True)\n",
    "df_product_type_others.drop('remarks', axis=1, inplace=True)\n",
    "df_product_type_others.drop('xero_account_code', axis=1, inplace=True)"
   ]
  },
  {
   "cell_type": "code",
   "execution_count": null,
   "metadata": {},
   "outputs": [],
   "source": [
    "# Save to csv\n",
    "df_product_type_others.to_csv('data/product_type_others_clean1.csv')"
   ]
  },
  {
   "cell_type": "markdown",
   "metadata": {},
   "source": [
    "### FIRST ROUND CLEANING 'union_all_product_types.csv'"
   ]
  },
  {
   "cell_type": "code",
   "execution_count": null,
   "metadata": {},
   "outputs": [],
   "source": [
    "df_product_types = pd.read_csv(\"data/union_all_product_types.csv\")\n",
    "df_product_types.head()"
   ]
  },
  {
   "cell_type": "code",
   "execution_count": null,
   "metadata": {},
   "outputs": [],
   "source": [
    "df_product_types.info()"
   ]
  },
  {
   "cell_type": "code",
   "execution_count": null,
   "metadata": {},
   "outputs": [],
   "source": [
    "# Drop 2 columns\n",
    "df_product_types.drop('remarks', axis=1, inplace=True)\n",
    "df_product_types.drop('customization_list', axis=1, inplace=True)"
   ]
  },
  {
   "cell_type": "code",
   "execution_count": null,
   "metadata": {},
   "outputs": [],
   "source": [
    "# Save to csv\n",
    "df_product_types.to_csv('data/product_types_clean1.csv')"
   ]
  },
  {
   "cell_type": "markdown",
   "metadata": {},
   "source": [
    "### FIRST ROUND CLEANING 'union_all_products.csv'"
   ]
  },
  {
   "cell_type": "code",
   "execution_count": null,
   "metadata": {},
   "outputs": [],
   "source": [
    "df_products = pd.read_csv(\"data/union_all_products.csv\")\n",
    "df_products.head()"
   ]
  },
  {
   "cell_type": "code",
   "execution_count": null,
   "metadata": {},
   "outputs": [],
   "source": [
    "df_products.info()"
   ]
  },
  {
   "cell_type": "code",
   "execution_count": null,
   "metadata": {},
   "outputs": [],
   "source": [
    "# Drop 4 columns\n",
    "df_products.drop('remarks', axis=1, inplace=True)\n",
    "df_products.drop('product_code', axis=1, inplace=True)\n",
    "df_products.drop('manufacture_profile_id', axis=1, inplace=True)\n",
    "df_products.drop('xero_account_code', axis=1, inplace=True)"
   ]
  },
  {
   "cell_type": "code",
   "execution_count": null,
   "metadata": {},
   "outputs": [],
   "source": [
    "# Save to csv\n",
    "df_products.to_csv('data/products_clean1.csv')"
   ]
  },
  {
   "cell_type": "markdown",
   "metadata": {},
   "source": [
    "### FIRST ROUND CLEANING 'union_all_tooth_type.csv'"
   ]
  },
  {
   "cell_type": "code",
   "execution_count": null,
   "metadata": {},
   "outputs": [],
   "source": [
    "df_tooth_type = pd.read_csv(\"data/union_all_tooth_type.csv\")\n",
    "df_tooth_type.head()"
   ]
  },
  {
   "cell_type": "code",
   "execution_count": null,
   "metadata": {},
   "outputs": [],
   "source": [
    "df_tooth_type.info()"
   ]
  },
  {
   "cell_type": "code",
   "execution_count": null,
   "metadata": {},
   "outputs": [],
   "source": [
    "# Save to csv\n",
    "df_tooth_type.to_csv('data/tooth_type_clean1.csv')"
   ]
  },
  {
   "cell_type": "markdown",
   "metadata": {},
   "source": [
    "### FIRST ROUND CLEANING 'union_all_users.csv'"
   ]
  },
  {
   "cell_type": "code",
   "execution_count": null,
   "metadata": {},
   "outputs": [],
   "source": [
    "df_users = pd.read_csv(\"data/union_all_users.csv\")\n",
    "df_users.head()"
   ]
  },
  {
   "cell_type": "code",
   "execution_count": null,
   "metadata": {},
   "outputs": [],
   "source": [
    "df_users.info()"
   ]
  },
  {
   "cell_type": "code",
   "execution_count": null,
   "metadata": {},
   "outputs": [],
   "source": [
    "# Drop 16 columns\n",
    "df_users.drop('username', axis=1, inplace=True)\n",
    "df_users.drop('password', axis=1, inplace=True)\n",
    "df_users.drop('email', axis=1, inplace=True)\n",
    "df_users.drop('login_url', axis=1, inplace=True)\n",
    "df_users.drop('user_pref_id', axis=1, inplace=True)\n",
    "df_users.drop('address_id', axis=1, inplace=True)\n",
    "df_users.drop('pref_homepage', axis=1, inplace=True)\n",
    "df_users.drop('clinic_id', axis=1, inplace=True)\n",
    "df_users.drop('provider_id', axis=1, inplace=True)\n",
    "df_users.drop('password_reminder', axis=1, inplace=True)\n",
    "df_users.drop('doctor_lab_blacklist', axis=1, inplace=True)\n",
    "df_users.drop('legacy_ref', axis=1, inplace=True)\n",
    "df_users.drop('telephone', axis=1, inplace=True)\n",
    "df_users.drop('cellphone', axis=1, inplace=True)\n",
    "df_users.drop('time_zone_id', axis=1, inplace=True)\n",
    "df_users.drop('staffId', axis=1, inplace=True)"
   ]
  },
  {
   "cell_type": "code",
   "execution_count": null,
   "metadata": {},
   "outputs": [],
   "source": [
    "# Save to csv\n",
    "df_users.to_csv('data/users_clean1.csv')"
   ]
  },
  {
   "cell_type": "markdown",
   "metadata": {},
   "source": [
    "### FIRST ROUND CLEANING 'union_all_billings.csv'"
   ]
  },
  {
   "cell_type": "code",
   "execution_count": 43,
   "metadata": {},
   "outputs": [
    {
     "name": "stderr",
     "output_type": "stream",
     "text": [
      "/anaconda3/lib/python3.6/site-packages/IPython/core/interactiveshell.py:2728: DtypeWarning: Columns (1,25,26,29,31,32,38,39,41,42) have mixed types. Specify dtype option on import or set low_memory=False.\n",
      "  interactivity=interactivity, compiler=compiler, result=result)\n"
     ]
    },
    {
     "data": {
      "text/html": [
       "<div>\n",
       "<style scoped>\n",
       "    .dataframe tbody tr th:only-of-type {\n",
       "        vertical-align: middle;\n",
       "    }\n",
       "\n",
       "    .dataframe tbody tr th {\n",
       "        vertical-align: top;\n",
       "    }\n",
       "\n",
       "    .dataframe thead th {\n",
       "        text-align: right;\n",
       "    }\n",
       "</style>\n",
       "<table border=\"1\" class=\"dataframe\">\n",
       "  <thead>\n",
       "    <tr style=\"text-align: right;\">\n",
       "      <th></th>\n",
       "      <th>id</th>\n",
       "      <th>ref</th>\n",
       "      <th>ref_id</th>\n",
       "      <th>ref_type</th>\n",
       "      <th>curr</th>\n",
       "      <th>amount</th>\n",
       "      <th>discount</th>\n",
       "      <th>surcharge</th>\n",
       "      <th>payment_curr</th>\n",
       "      <th>payment</th>\n",
       "      <th>...</th>\n",
       "      <th>bGroup</th>\n",
       "      <th>case_discount</th>\n",
       "      <th>case_discount_amount</th>\n",
       "      <th>remarks9</th>\n",
       "      <th>remarks10</th>\n",
       "      <th>calculation</th>\n",
       "      <th>tax_rate_2</th>\n",
       "      <th>first_case_id</th>\n",
       "      <th>bEnableItemBasedAdj</th>\n",
       "      <th>labName</th>\n",
       "    </tr>\n",
       "  </thead>\n",
       "  <tbody>\n",
       "    <tr>\n",
       "      <th>0</th>\n",
       "      <td>7</td>\n",
       "      <td>0017000004</td>\n",
       "      <td>10</td>\n",
       "      <td>10</td>\n",
       "      <td>NaN</td>\n",
       "      <td>515.0</td>\n",
       "      <td>0.0</td>\n",
       "      <td>0.0</td>\n",
       "      <td>NaN</td>\n",
       "      <td>515.0</td>\n",
       "      <td>...</td>\n",
       "      <td>NaN</td>\n",
       "      <td>0.0</td>\n",
       "      <td>0.0</td>\n",
       "      <td>NaN</td>\n",
       "      <td>NaN</td>\n",
       "      <td>40.0</td>\n",
       "      <td>0.0</td>\n",
       "      <td>5.0</td>\n",
       "      <td>1.0</td>\n",
       "      <td>3DDENTALLABORATORIES</td>\n",
       "    </tr>\n",
       "    <tr>\n",
       "      <th>1</th>\n",
       "      <td>8</td>\n",
       "      <td>0017000029</td>\n",
       "      <td>8</td>\n",
       "      <td>10</td>\n",
       "      <td>NaN</td>\n",
       "      <td>69.0</td>\n",
       "      <td>0.0</td>\n",
       "      <td>0.0</td>\n",
       "      <td>NaN</td>\n",
       "      <td>69.0</td>\n",
       "      <td>...</td>\n",
       "      <td>NaN</td>\n",
       "      <td>0.0</td>\n",
       "      <td>0.0</td>\n",
       "      <td>NaN</td>\n",
       "      <td>NaN</td>\n",
       "      <td>40.0</td>\n",
       "      <td>0.0</td>\n",
       "      <td>30.0</td>\n",
       "      <td>1.0</td>\n",
       "      <td>3DDENTALLABORATORIES</td>\n",
       "    </tr>\n",
       "    <tr>\n",
       "      <th>2</th>\n",
       "      <td>9</td>\n",
       "      <td>0017000030</td>\n",
       "      <td>5</td>\n",
       "      <td>10</td>\n",
       "      <td>NaN</td>\n",
       "      <td>69.0</td>\n",
       "      <td>0.0</td>\n",
       "      <td>0.0</td>\n",
       "      <td>NaN</td>\n",
       "      <td>69.0</td>\n",
       "      <td>...</td>\n",
       "      <td>NaN</td>\n",
       "      <td>0.0</td>\n",
       "      <td>0.0</td>\n",
       "      <td>NaN</td>\n",
       "      <td>NaN</td>\n",
       "      <td>40.0</td>\n",
       "      <td>0.0</td>\n",
       "      <td>31.0</td>\n",
       "      <td>1.0</td>\n",
       "      <td>3DDENTALLABORATORIES</td>\n",
       "    </tr>\n",
       "    <tr>\n",
       "      <th>3</th>\n",
       "      <td>10</td>\n",
       "      <td>0017000008</td>\n",
       "      <td>4</td>\n",
       "      <td>10</td>\n",
       "      <td>NaN</td>\n",
       "      <td>147.0</td>\n",
       "      <td>0.0</td>\n",
       "      <td>0.0</td>\n",
       "      <td>NaN</td>\n",
       "      <td>147.0</td>\n",
       "      <td>...</td>\n",
       "      <td>NaN</td>\n",
       "      <td>0.0</td>\n",
       "      <td>0.0</td>\n",
       "      <td>NaN</td>\n",
       "      <td>NaN</td>\n",
       "      <td>40.0</td>\n",
       "      <td>0.0</td>\n",
       "      <td>9.0</td>\n",
       "      <td>1.0</td>\n",
       "      <td>3DDENTALLABORATORIES</td>\n",
       "    </tr>\n",
       "    <tr>\n",
       "      <th>4</th>\n",
       "      <td>11</td>\n",
       "      <td>0017000027</td>\n",
       "      <td>5</td>\n",
       "      <td>10</td>\n",
       "      <td>NaN</td>\n",
       "      <td>49.0</td>\n",
       "      <td>0.0</td>\n",
       "      <td>0.0</td>\n",
       "      <td>NaN</td>\n",
       "      <td>49.0</td>\n",
       "      <td>...</td>\n",
       "      <td>NaN</td>\n",
       "      <td>0.0</td>\n",
       "      <td>0.0</td>\n",
       "      <td>NaN</td>\n",
       "      <td>NaN</td>\n",
       "      <td>40.0</td>\n",
       "      <td>0.0</td>\n",
       "      <td>28.0</td>\n",
       "      <td>1.0</td>\n",
       "      <td>3DDENTALLABORATORIES</td>\n",
       "    </tr>\n",
       "  </tbody>\n",
       "</table>\n",
       "<p>5 rows × 56 columns</p>\n",
       "</div>"
      ],
      "text/plain": [
       "   id         ref  ref_id  ref_type  curr  amount  discount  surcharge  \\\n",
       "0   7  0017000004      10        10   NaN   515.0       0.0        0.0   \n",
       "1   8  0017000029       8        10   NaN    69.0       0.0        0.0   \n",
       "2   9  0017000030       5        10   NaN    69.0       0.0        0.0   \n",
       "3  10  0017000008       4        10   NaN   147.0       0.0        0.0   \n",
       "4  11  0017000027       5        10   NaN    49.0       0.0        0.0   \n",
       "\n",
       "   payment_curr  payment          ...           bGroup case_discount  \\\n",
       "0           NaN    515.0          ...              NaN           0.0   \n",
       "1           NaN     69.0          ...              NaN           0.0   \n",
       "2           NaN     69.0          ...              NaN           0.0   \n",
       "3           NaN    147.0          ...              NaN           0.0   \n",
       "4           NaN     49.0          ...              NaN           0.0   \n",
       "\n",
       "  case_discount_amount  remarks9 remarks10 calculation tax_rate_2  \\\n",
       "0                  0.0       NaN       NaN        40.0        0.0   \n",
       "1                  0.0       NaN       NaN        40.0        0.0   \n",
       "2                  0.0       NaN       NaN        40.0        0.0   \n",
       "3                  0.0       NaN       NaN        40.0        0.0   \n",
       "4                  0.0       NaN       NaN        40.0        0.0   \n",
       "\n",
       "   first_case_id  bEnableItemBasedAdj               labName  \n",
       "0            5.0                  1.0  3DDENTALLABORATORIES  \n",
       "1           30.0                  1.0  3DDENTALLABORATORIES  \n",
       "2           31.0                  1.0  3DDENTALLABORATORIES  \n",
       "3            9.0                  1.0  3DDENTALLABORATORIES  \n",
       "4           28.0                  1.0  3DDENTALLABORATORIES  \n",
       "\n",
       "[5 rows x 56 columns]"
      ]
     },
     "execution_count": 43,
     "metadata": {},
     "output_type": "execute_result"
    }
   ],
   "source": [
    "df_billings = pd.read_csv(\"data/union_all_billings.csv\")\n",
    "df_billings.head()"
   ]
  },
  {
   "cell_type": "code",
   "execution_count": null,
   "metadata": {},
   "outputs": [],
   "source": [
    "df_billings.info()"
   ]
  },
  {
   "cell_type": "code",
   "execution_count": 44,
   "metadata": {},
   "outputs": [
    {
     "data": {
      "text/plain": [
       "id                                       0\n",
       "ref                                   6901\n",
       "ref_id                                   0\n",
       "ref_type                                 0\n",
       "curr                               5593756\n",
       "amount                                   5\n",
       "discount                            139893\n",
       "surcharge                           140195\n",
       "payment_curr                       5593756\n",
       "payment                                  5\n",
       "exrate                             5593756\n",
       "dueOn                                 6946\n",
       "settledOn                           464548\n",
       "status                                   5\n",
       "remarks                            4558393\n",
       "createdOn                                0\n",
       "lastupdated                              0\n",
       "updatedby                                0\n",
       "transportation_fee                  123947\n",
       "tax_rate                            135229\n",
       "createdByOfficeId                       55\n",
       "adjustment                              13\n",
       "misc_paid_amount                   5593751\n",
       "billing_item_paid_amount            863795\n",
       "late_fee                           5593756\n",
       "sentOn                             5414887\n",
       "partialPaidOn                      5588439\n",
       "statement_id                        209537\n",
       "statementAttachedOn                 211420\n",
       "remarks2                           5592988\n",
       "ref_billing_id                     5593747\n",
       "adjustedOn                         5593738\n",
       "adjustConfirmedOn                  5593738\n",
       "credit_debit_adjustment            5593756\n",
       "credit_debit_adjustment_remarks    5593756\n",
       "lastExportedOn                     5593756\n",
       "bHide                              5590351\n",
       "custom_billing_type                5507738\n",
       "remarks3                           5545606\n",
       "memo                               5588919\n",
       "bInitBalance                       5586856\n",
       "remarks4                           5593754\n",
       "remarks5                           5593754\n",
       "remarks6                           5593756\n",
       "remarks7                           5593756\n",
       "remarks8                           5593756\n",
       "bGroup                             5556726\n",
       "case_discount                      1866497\n",
       "case_discount_amount               1866490\n",
       "remarks9                           5593756\n",
       "remarks10                          5593756\n",
       "calculation                            329\n",
       "tax_rate_2                          168084\n",
       "first_case_id                         8529\n",
       "bEnableItemBasedAdj                 684010\n",
       "labName                                  0\n",
       "dtype: int64"
      ]
     },
     "execution_count": 44,
     "metadata": {},
     "output_type": "execute_result"
    }
   ],
   "source": [
    "# Number of NaN values\n",
    "df_billings.isnull().sum()"
   ]
  },
  {
   "cell_type": "code",
   "execution_count": null,
   "metadata": {},
   "outputs": [],
   "source": [
    "# Drop 19 columns\n",
    "df_billings.drop('curr', axis=1, inplace=True)\n",
    "df_billings.drop('payment_curr', axis=1, inplace=True)\n",
    "df_billings.drop('exrate', axis=1, inplace=True)\n",
    "df_billings.drop('misc_paid_amount', axis=1, inplace=True)\n",
    "df_billings.drop('late_fee', axis=1, inplace=True)\n",
    "df_billings.drop('ref_billing_id', axis=1, inplace=True)\n",
    "df_billings.drop('adjustedOn', axis=1, inplace=True)\n",
    "df_billings.drop('adjustConfirmedOn', axis=1, inplace=True)\n",
    "df_billings.drop('credit_debit_adjustment', axis=1, inplace=True)\n",
    "df_billings.drop('credit_debit_adjustment_remarks', axis=1, inplace=True)\n",
    "df_billings.drop('lastExportedOn', axis=1, inplace=True)\n",
    "df_billings.drop('bHide', axis=1, inplace=True)\n",
    "df_billings.drop('remarks4', axis=1, inplace=True)\n",
    "df_billings.drop('remarks5', axis=1, inplace=True)\n",
    "df_billings.drop('remarks6', axis=1, inplace=True)\n",
    "df_billings.drop('remarks7', axis=1, inplace=True)\n",
    "df_billings.drop('remarks8', axis=1, inplace=True)\n",
    "df_billings.drop('remarks9', axis=1, inplace=True)\n",
    "df_billings.drop('remarks10', axis=1, inplace=True)"
   ]
  },
  {
   "cell_type": "code",
   "execution_count": null,
   "metadata": {},
   "outputs": [],
   "source": [
    "# Save to csv\n",
    "df_billings.to_csv('data/billings_clean1.csv')"
   ]
  },
  {
   "cell_type": "markdown",
   "metadata": {},
   "source": [
    "### FIRST ROUND CLEANING 'union_all_cases.csv'"
   ]
  },
  {
   "cell_type": "code",
   "execution_count": null,
   "metadata": {},
   "outputs": [],
   "source": [
    "df_cases = pd.DataFrame()"
   ]
  },
  {
   "cell_type": "code",
   "execution_count": null,
   "metadata": {},
   "outputs": [],
   "source": [
    "df_cases_labstar3A = pd.read_csv(\"data/union_cases_labstar3A.csv\")\n",
    "df_cases_labstar3A.info()"
   ]
  },
  {
   "cell_type": "code",
   "execution_count": null,
   "metadata": {},
   "outputs": [],
   "source": [
    "df_cases = df_cases.append(df_cases_labstar3A, ignore_index=True)"
   ]
  },
  {
   "cell_type": "code",
   "execution_count": null,
   "metadata": {},
   "outputs": [],
   "source": [
    "df_cases_labstarBB = pd.read_csv(\"data/union_cases_labstarBB.csv\")\n",
    "df_cases_labstarBB.info()"
   ]
  },
  {
   "cell_type": "code",
   "execution_count": null,
   "metadata": {},
   "outputs": [],
   "source": [
    "df_cases = df_cases.append(df_cases_labstarBB, ignore_index=True)"
   ]
  },
  {
   "cell_type": "code",
   "execution_count": null,
   "metadata": {},
   "outputs": [],
   "source": [
    "df_cases_labstarCC = pd.read_csv(\"data/union_cases_labstarCC.csv\")\n",
    "df_cases_labstarCC.info()"
   ]
  },
  {
   "cell_type": "code",
   "execution_count": null,
   "metadata": {},
   "outputs": [],
   "source": [
    "df_cases = df_cases.append(df_cases_labstarCC, ignore_index=True)"
   ]
  },
  {
   "cell_type": "code",
   "execution_count": null,
   "metadata": {},
   "outputs": [],
   "source": [
    "df_cases_labstarDD = pd.read_csv(\"data/union_cases_labstarDD.csv\")\n",
    "df_cases_labstarDD.info()"
   ]
  },
  {
   "cell_type": "code",
   "execution_count": null,
   "metadata": {},
   "outputs": [],
   "source": [
    "df_cases = df_cases.append(df_cases_labstarDD, ignore_index=True)"
   ]
  },
  {
   "cell_type": "code",
   "execution_count": null,
   "metadata": {},
   "outputs": [],
   "source": [
    "df_cases_labstarEE = pd.read_csv(\"data/union_cases_labstarEE.csv\")\n",
    "df_cases_labstarEE.info()"
   ]
  },
  {
   "cell_type": "code",
   "execution_count": null,
   "metadata": {},
   "outputs": [],
   "source": [
    "df_cases = df_cases.append(df_cases_labstarEE, ignore_index=True)"
   ]
  },
  {
   "cell_type": "code",
   "execution_count": null,
   "metadata": {},
   "outputs": [],
   "source": [
    "df_cases_labstarFG = pd.read_csv(\"data/union_cases_labstarFG.csv\")\n",
    "df_cases_labstarFG.info()"
   ]
  },
  {
   "cell_type": "code",
   "execution_count": null,
   "metadata": {},
   "outputs": [],
   "source": [
    "df_cases = df_cases.append(df_cases_labstarFG, ignore_index=True)"
   ]
  },
  {
   "cell_type": "code",
   "execution_count": null,
   "metadata": {},
   "outputs": [],
   "source": [
    "df_cases_labstarHH = pd.read_csv(\"data/union_cases_labstarHH.csv\")\n",
    "df_cases_labstarHH.info()"
   ]
  },
  {
   "cell_type": "code",
   "execution_count": null,
   "metadata": {},
   "outputs": [],
   "source": [
    "df_cases = df_cases.append(df_cases_labstarHH, ignore_index=True)"
   ]
  },
  {
   "cell_type": "code",
   "execution_count": null,
   "metadata": {},
   "outputs": [],
   "source": [
    "df_cases_labstarII = pd.read_csv(\"data/union_cases_labstarII.csv\")\n",
    "df_cases_labstarII.info()"
   ]
  },
  {
   "cell_type": "code",
   "execution_count": null,
   "metadata": {},
   "outputs": [],
   "source": [
    "df_cases = df_cases.append(df_cases_labstarII, ignore_index=True)"
   ]
  },
  {
   "cell_type": "code",
   "execution_count": null,
   "metadata": {},
   "outputs": [],
   "source": [
    "df_cases_labstarJK = pd.read_csv(\"data/union_cases_labstarJK.csv\")\n",
    "df_cases_labstarJK.info()"
   ]
  },
  {
   "cell_type": "code",
   "execution_count": null,
   "metadata": {},
   "outputs": [],
   "source": [
    "df_cases = df_cases.append(df_cases_labstarJK, ignore_index=True)"
   ]
  },
  {
   "cell_type": "code",
   "execution_count": null,
   "metadata": {},
   "outputs": [],
   "source": [
    "df_cases_labstarLL = pd.read_csv(\"data/union_cases_labstarLL.csv\")\n",
    "df_cases_labstarLL.info()"
   ]
  },
  {
   "cell_type": "code",
   "execution_count": null,
   "metadata": {},
   "outputs": [],
   "source": [
    "df_cases = df_cases.append(df_cases_labstarLL, ignore_index=True)"
   ]
  },
  {
   "cell_type": "code",
   "execution_count": null,
   "metadata": {},
   "outputs": [],
   "source": [
    "df_cases_labstarMM = pd.read_csv(\"data/union_cases_labstarMM.csv\")\n",
    "df_cases_labstarMM.info()"
   ]
  },
  {
   "cell_type": "code",
   "execution_count": null,
   "metadata": {},
   "outputs": [],
   "source": [
    "df_cases = df_cases.append(df_cases_labstarMM, ignore_index=True)"
   ]
  },
  {
   "cell_type": "code",
   "execution_count": null,
   "metadata": {},
   "outputs": [],
   "source": [
    "df_cases_labstarNO = pd.read_csv(\"data/union_cases_labstarNO.csv\")\n",
    "df_cases_labstarNO.info()"
   ]
  },
  {
   "cell_type": "code",
   "execution_count": null,
   "metadata": {},
   "outputs": [],
   "source": [
    "df_cases = df_cases.append(df_cases_labstarNO, ignore_index=True)"
   ]
  },
  {
   "cell_type": "code",
   "execution_count": null,
   "metadata": {},
   "outputs": [],
   "source": [
    "df_cases_labstarPQ = pd.read_csv(\"data/union_cases_labstarPQ.csv\")\n",
    "df_cases_labstarPQ.info()"
   ]
  },
  {
   "cell_type": "code",
   "execution_count": null,
   "metadata": {},
   "outputs": [],
   "source": [
    "df_cases = df_cases.append(df_cases_labstarPQ, ignore_index=True)"
   ]
  },
  {
   "cell_type": "code",
   "execution_count": null,
   "metadata": {},
   "outputs": [],
   "source": [
    "df_cases_labstarRR = pd.read_csv(\"data/union_cases_labstarRR.csv\")\n",
    "df_cases_labstarRR.info()"
   ]
  },
  {
   "cell_type": "code",
   "execution_count": null,
   "metadata": {},
   "outputs": [],
   "source": [
    "df_cases = df_cases.append(df_cases_labstarRR, ignore_index=True)"
   ]
  },
  {
   "cell_type": "code",
   "execution_count": null,
   "metadata": {},
   "outputs": [],
   "source": [
    "df_cases_labstarSS = pd.read_csv(\"data/union_cases_labstarSS.csv\")\n",
    "df_cases_labstarSS.info()"
   ]
  },
  {
   "cell_type": "code",
   "execution_count": null,
   "metadata": {},
   "outputs": [],
   "source": [
    "df_cases = df_cases.append(df_cases_labstarSS, ignore_index=True)"
   ]
  },
  {
   "cell_type": "code",
   "execution_count": null,
   "metadata": {},
   "outputs": [],
   "source": [
    "df_cases_labstarTU = pd.read_csv(\"data/union_cases_labstarTU.csv\")\n",
    "df_cases_labstarTU.info()"
   ]
  },
  {
   "cell_type": "code",
   "execution_count": null,
   "metadata": {},
   "outputs": [],
   "source": [
    "df_cases = df_cases.append(df_cases_labstarTU, ignore_index=True)"
   ]
  },
  {
   "cell_type": "code",
   "execution_count": null,
   "metadata": {},
   "outputs": [],
   "source": [
    "df_cases_labstarV2Z = pd.read_csv(\"data/union_cases_labstarV2Z.csv\")\n",
    "df_cases_labstarV2Z.info()"
   ]
  },
  {
   "cell_type": "code",
   "execution_count": null,
   "metadata": {},
   "outputs": [],
   "source": [
    "df_cases = df_cases.append(df_cases_labstarV2Z, ignore_index=True)"
   ]
  },
  {
   "cell_type": "code",
   "execution_count": null,
   "metadata": {},
   "outputs": [],
   "source": [
    "df_cases.info()"
   ]
  },
  {
   "cell_type": "code",
   "execution_count": null,
   "metadata": {},
   "outputs": [],
   "source": [
    "# Save to csv\n",
    "df_cases.to_csv('data/union_cases_labstar.csv')"
   ]
  },
  {
   "cell_type": "code",
   "execution_count": null,
   "metadata": {},
   "outputs": [],
   "source": [
    "df_cases_soundtrack_32L = pd.read_csv(\"data/union_cases_soundtrack32L.csv\")\n",
    "df_cases_soundtrack_32L.info()"
   ]
  },
  {
   "cell_type": "code",
   "execution_count": null,
   "metadata": {},
   "outputs": [],
   "source": [
    "df_cases = df_cases.append(df_cases_soundtrack_32L, ignore_index=True)"
   ]
  },
  {
   "cell_type": "code",
   "execution_count": null,
   "metadata": {},
   "outputs": [],
   "source": [
    "df_cases_soundtrack_M2Z = pd.read_csv(\"data/union_cases_soundtrackM2Z.csv\")\n",
    "df_cases_soundtrack_M2Z.info()"
   ]
  },
  {
   "cell_type": "code",
   "execution_count": null,
   "metadata": {},
   "outputs": [],
   "source": [
    "df_cases = df_cases.append(df_cases_soundtrack_M2Z, ignore_index=True)"
   ]
  },
  {
   "cell_type": "code",
   "execution_count": null,
   "metadata": {},
   "outputs": [],
   "source": [
    "df_cases.info()"
   ]
  },
  {
   "cell_type": "code",
   "execution_count": null,
   "metadata": {},
   "outputs": [],
   "source": [
    "# Save to csv\n",
    "df_cases.to_csv('data/union_all_cases.csv')"
   ]
  },
  {
   "cell_type": "code",
   "execution_count": null,
   "metadata": {},
   "outputs": [],
   "source": [
    "df_cases.isnull().sum()"
   ]
  },
  {
   "cell_type": "code",
   "execution_count": null,
   "metadata": {},
   "outputs": [],
   "source": [
    "# Drop 62 columns\n",
    "df_cases.drop('patient_remarks', axis=1, inplace=True)\n",
    "df_cases.drop('appointment_dt', axis=1, inplace=True)\n",
    "df_cases.drop('crown_tooth_number', axis=1, inplace=True)\n",
    "df_cases.drop('pontic_tooth_number', axis=1, inplace=True)\n",
    "df_cases.drop('inlay_tooth_number', axis=1, inplace=True)\n",
    "df_cases.drop('datewant', axis=1, inplace=True)\n",
    "df_cases.drop('age', axis=1, inplace=True)\n",
    "df_cases.drop('shade', axis=1, inplace=True)\n",
    "df_cases.drop('total_unit', axis=1, inplace=True)\n",
    "df_cases.drop('lab_processing_day', axis=1, inplace=True)\n",
    "df_cases.drop('service_ty', axis=1, inplace=True)\n",
    "df_cases.drop('pontic_design_ovate', axis=1, inplace=True)\n",
    "df_cases.drop('lavaProcessCompleteOn', axis=1, inplace=True)\n",
    "df_cases.drop('remarks_admin', axis=1, inplace=True)\n",
    "df_cases.drop('remarks_client', axis=1, inplace=True)\n",
    "df_cases.drop('remarks_vendor', axis=1, inplace=True)\n",
    "df_cases.drop('remarks_admin_log', axis=1, inplace=True)\n",
    "df_cases.drop('flag_admin_txt', axis=1, inplace=True)\n",
    "df_cases.drop('flag_client_txt', axis=1, inplace=True)\n",
    "df_cases.drop('flag_manufacturer_txt', axis=1, inplace=True)\n",
    "df_cases.drop('preference_0', axis=1, inplace=True)\n",
    "df_cases.drop('preference_1', axis=1, inplace=True)\n",
    "df_cases.drop('preference_2', axis=1, inplace=True)\n",
    "df_cases.drop('preference_3', axis=1, inplace=True)\n",
    "df_cases.drop('preference_4', axis=1, inplace=True)\n",
    "df_cases.drop('preference_5', axis=1, inplace=True)\n",
    "df_cases.drop('preference_6', axis=1, inplace=True)\n",
    "df_cases.drop('preference_7', axis=1, inplace=True)\n",
    "df_cases.drop('preference_8', axis=1, inplace=True)\n",
    "df_cases.drop('bEnclosedArticulator', axis=1, inplace=True)\n",
    "df_cases.drop('bEnclosedReturnArticulator', axis=1, inplace=True)\n",
    "df_cases.drop('bPartialImpression', axis=1, inplace=True)\n",
    "df_cases.drop('ssnHubLocation', axis=1, inplace=True)\n",
    "df_cases.drop('product_id', axis=1, inplace=True)\n",
    "df_cases.drop('rx_id', axis=1, inplace=True)\n",
    "df_cases.drop('title', axis=1, inplace=True)\n",
    "df_cases.drop('partial_state', axis=1, inplace=True)\n",
    "df_cases.drop('lab_work_estimate', axis=1, inplace=True)\n",
    "df_cases.drop('delivery_commit', axis=1, inplace=True)\n",
    "df_cases.drop('bBilled', axis=1, inplace=True)\n",
    "df_cases.drop('ownBy', axis=1, inplace=True)\n",
    "df_cases.drop('production_line_deadline', axis=1, inplace=True)\n",
    "df_cases.drop('appointment_duration', axis=1, inplace=True)\n",
    "df_cases.drop('flag_admin_state', axis=1, inplace=True)\n",
    "df_cases.drop('flag_client_state', axis=1, inplace=True)\n",
    "df_cases.drop('flag_manufacturer_state', axis=1, inplace=True)\n",
    "df_cases.drop('bDeepHold', axis=1, inplace=True)\n",
    "df_cases.drop('caseChangeOn', axis=1, inplace=True)\n",
    "df_cases.drop('lead1', axis=1, inplace=True)\n",
    "df_cases.drop('lead2', axis=1, inplace=True)\n",
    "df_cases.drop('lava_vendor_pricebook_id', axis=1, inplace=True)\n",
    "df_cases.drop('lead1_remarks', axis=1, inplace=True)\n",
    "df_cases.drop('lead2_remarks', axis=1, inplace=True)\n",
    "df_cases.drop('pan_num', axis=1, inplace=True)\n",
    "df_cases.drop('lava_pan_num', axis=1, inplace=True)\n",
    "df_cases.drop('vendor_barcode', axis=1, inplace=True)\n",
    "df_cases.drop('lava_vendor_barcode', axis=1, inplace=True)\n",
    "df_cases.drop('caseChangeApprovedOn', axis=1, inplace=True)\n",
    "df_cases.drop('patient_name_anonymized', axis=1, inplace=True)\n",
    "df_cases.drop('bEnclosedBiteRim', axis=1, inplace=True)\n",
    "df_cases.drop('removable_untils', axis=1, inplace=True)\n",
    "df_cases.drop('doctor_office', axis=1, inplace=True)"
   ]
  },
  {
   "cell_type": "code",
   "execution_count": null,
   "metadata": {},
   "outputs": [],
   "source": [
    "# Save to csv\n",
    "df_cases.to_csv('data/cases_clean1.csv')"
   ]
  },
  {
   "cell_type": "markdown",
   "metadata": {},
   "source": [
    "### FIRST ROUND CLEANING 'union_all_case_items.csv'"
   ]
  },
  {
   "cell_type": "code",
   "execution_count": null,
   "metadata": {},
   "outputs": [],
   "source": [
    "df_case_items = pd.DataFrame()"
   ]
  },
  {
   "cell_type": "code",
   "execution_count": null,
   "metadata": {},
   "outputs": [],
   "source": [
    "df_case_items_labstar3A = pd.read_csv(\"data/union_case_items_labstar3A.csv\")\n",
    "df_case_items_labstar3A.info()"
   ]
  },
  {
   "cell_type": "code",
   "execution_count": null,
   "metadata": {},
   "outputs": [],
   "source": [
    "df_case_items = df_case_items.append(df_case_items_labstar3A, ignore_index=True)"
   ]
  },
  {
   "cell_type": "code",
   "execution_count": null,
   "metadata": {},
   "outputs": [],
   "source": [
    "df_case_items_labstarBB = pd.read_csv(\"data/union_case_items_labstarBB.csv\")\n",
    "df_case_items_labstarBB.info()"
   ]
  },
  {
   "cell_type": "code",
   "execution_count": null,
   "metadata": {},
   "outputs": [],
   "source": [
    "df_case_items = df_case_items.append(df_case_items_labstarBB, ignore_index=True)"
   ]
  },
  {
   "cell_type": "code",
   "execution_count": null,
   "metadata": {},
   "outputs": [],
   "source": [
    "df_case_items_labstarCC = pd.read_csv(\"data/union_case_items_labstarCC.csv\")\n",
    "df_case_items_labstarCC.info()"
   ]
  },
  {
   "cell_type": "code",
   "execution_count": null,
   "metadata": {},
   "outputs": [],
   "source": [
    "df_case_items = df_case_items.append(df_case_items_labstarCC, ignore_index=True)"
   ]
  },
  {
   "cell_type": "code",
   "execution_count": null,
   "metadata": {},
   "outputs": [],
   "source": [
    "df_case_items_labstarDD = pd.read_csv(\"data/union_case_items_labstarDD.csv\")\n",
    "df_case_items_labstarDD.info()"
   ]
  },
  {
   "cell_type": "code",
   "execution_count": null,
   "metadata": {},
   "outputs": [],
   "source": [
    "df_case_items = df_case_items.append(df_case_items_labstarDD, ignore_index=True)"
   ]
  },
  {
   "cell_type": "code",
   "execution_count": null,
   "metadata": {},
   "outputs": [],
   "source": [
    "df_case_items_labstarEE = pd.read_csv(\"data/union_case_items_labstarEE.csv\")\n",
    "df_case_items_labstarEE.info()"
   ]
  },
  {
   "cell_type": "code",
   "execution_count": null,
   "metadata": {},
   "outputs": [],
   "source": [
    "df_case_items = df_case_items.append(df_case_items_labstarEE, ignore_index=True)"
   ]
  },
  {
   "cell_type": "code",
   "execution_count": null,
   "metadata": {},
   "outputs": [],
   "source": [
    "df_case_items_labstarFG = pd.read_csv(\"data/union_case_items_labstarFG.csv\")\n",
    "df_case_items_labstarFG.info()"
   ]
  },
  {
   "cell_type": "code",
   "execution_count": null,
   "metadata": {},
   "outputs": [],
   "source": [
    "df_case_items = df_case_items.append(df_case_items_labstarFG, ignore_index=True)"
   ]
  },
  {
   "cell_type": "code",
   "execution_count": null,
   "metadata": {},
   "outputs": [],
   "source": [
    "df_case_items_labstarHH = pd.read_csv(\"data/union_case_items_labstarHH.csv\")\n",
    "df_case_items_labstarHH.info()"
   ]
  },
  {
   "cell_type": "code",
   "execution_count": null,
   "metadata": {},
   "outputs": [],
   "source": [
    "df_case_items = df_case_items.append(df_case_items_labstarHH, ignore_index=True)"
   ]
  },
  {
   "cell_type": "code",
   "execution_count": null,
   "metadata": {},
   "outputs": [],
   "source": [
    "df_case_items_labstarII = pd.read_csv(\"data/union_case_items_labstarII.csv\")\n",
    "df_case_items_labstarII.info()"
   ]
  },
  {
   "cell_type": "code",
   "execution_count": null,
   "metadata": {},
   "outputs": [],
   "source": [
    "df_case_items = df_case_items.append(df_case_items_labstarII, ignore_index=True)"
   ]
  },
  {
   "cell_type": "code",
   "execution_count": null,
   "metadata": {},
   "outputs": [],
   "source": [
    "df_case_items_labstarJK = pd.read_csv(\"data/union_case_items_labstarJK.csv\")\n",
    "df_case_items_labstarJK.info()"
   ]
  },
  {
   "cell_type": "code",
   "execution_count": null,
   "metadata": {},
   "outputs": [],
   "source": [
    "df_case_items = df_case_items.append(df_case_items_labstarJK, ignore_index=True)"
   ]
  },
  {
   "cell_type": "code",
   "execution_count": null,
   "metadata": {},
   "outputs": [],
   "source": [
    "df_case_items_labstarLL = pd.read_csv(\"data/union_case_items_labstarLL.csv\")\n",
    "df_case_items_labstarLL.info()"
   ]
  },
  {
   "cell_type": "code",
   "execution_count": null,
   "metadata": {},
   "outputs": [],
   "source": [
    "df_case_items = df_case_items.append(df_case_items_labstarLL, ignore_index=True)"
   ]
  },
  {
   "cell_type": "code",
   "execution_count": null,
   "metadata": {},
   "outputs": [],
   "source": [
    "df_case_items_labstarMM = pd.read_csv(\"data/union_case_items_labstarMM.csv\")\n",
    "df_case_items_labstarMM.info()"
   ]
  },
  {
   "cell_type": "code",
   "execution_count": null,
   "metadata": {},
   "outputs": [],
   "source": [
    "df_case_items = df_case_items.append(df_case_items_labstarMM, ignore_index=True)"
   ]
  },
  {
   "cell_type": "code",
   "execution_count": null,
   "metadata": {},
   "outputs": [],
   "source": [
    "df_case_items_labstarNO = pd.read_csv(\"data/union_case_items_labstarNO.csv\")\n",
    "df_case_items_labstarNO.info()"
   ]
  },
  {
   "cell_type": "code",
   "execution_count": null,
   "metadata": {},
   "outputs": [],
   "source": [
    "df_case_items = df_case_items.append(df_case_items_labstarNO, ignore_index=True)"
   ]
  },
  {
   "cell_type": "code",
   "execution_count": null,
   "metadata": {},
   "outputs": [],
   "source": [
    "df_case_items_labstarPQ = pd.read_csv(\"data/union_case_items_labstarPQ.csv\")\n",
    "df_case_items_labstarPQ.info()"
   ]
  },
  {
   "cell_type": "code",
   "execution_count": null,
   "metadata": {},
   "outputs": [],
   "source": [
    "df_case_items = df_case_items.append(df_case_items_labstarPQ, ignore_index=True)"
   ]
  },
  {
   "cell_type": "code",
   "execution_count": null,
   "metadata": {},
   "outputs": [],
   "source": [
    "df_case_items_labstarRR = pd.read_csv(\"data/union_case_items_labstarRR.csv\")\n",
    "df_case_items_labstarRR.info()"
   ]
  },
  {
   "cell_type": "code",
   "execution_count": null,
   "metadata": {},
   "outputs": [],
   "source": [
    "df_case_items = df_case_items.append(df_case_items_labstarRR, ignore_index=True)"
   ]
  },
  {
   "cell_type": "code",
   "execution_count": null,
   "metadata": {},
   "outputs": [],
   "source": [
    "df_case_items_labstarSS = pd.read_csv(\"data/union_case_items_labstarSS.csv\")\n",
    "df_case_items_labstarSS.info()"
   ]
  },
  {
   "cell_type": "code",
   "execution_count": null,
   "metadata": {},
   "outputs": [],
   "source": [
    "df_case_items = df_case_items.append(df_case_items_labstarSS, ignore_index=True)"
   ]
  },
  {
   "cell_type": "code",
   "execution_count": null,
   "metadata": {},
   "outputs": [],
   "source": [
    "df_case_items_labstarTU = pd.read_csv(\"data/union_case_items_labstarTU.csv\")\n",
    "df_case_items_labstarTU.info()"
   ]
  },
  {
   "cell_type": "code",
   "execution_count": null,
   "metadata": {},
   "outputs": [],
   "source": [
    "df_case_items = df_case_items.append(df_case_items_labstarTU, ignore_index=True)"
   ]
  },
  {
   "cell_type": "code",
   "execution_count": null,
   "metadata": {},
   "outputs": [],
   "source": [
    "df_case_items_labstarV2Z = pd.read_csv(\"data/union_case_items_labstarV2Z.csv\")\n",
    "df_case_items_labstarV2Z.info()"
   ]
  },
  {
   "cell_type": "code",
   "execution_count": null,
   "metadata": {},
   "outputs": [],
   "source": [
    "df_case_items = df_case_items.append(df_case_items_labstarV2Z, ignore_index=True)"
   ]
  },
  {
   "cell_type": "code",
   "execution_count": null,
   "metadata": {},
   "outputs": [],
   "source": [
    "df_case_items_soundtrack32L = pd.read_csv(\"data/union_case_items_soundtrack32L.csv\")\n",
    "df_case_items_soundtrack32L.info()"
   ]
  },
  {
   "cell_type": "code",
   "execution_count": null,
   "metadata": {},
   "outputs": [],
   "source": [
    "df_case_items = df_case_items.append(df_case_items_soundtrack32L, ignore_index=True)"
   ]
  },
  {
   "cell_type": "code",
   "execution_count": null,
   "metadata": {},
   "outputs": [],
   "source": [
    "df_case_items_soundtrackM2Z = pd.read_csv(\"data/union_case_items_soundtrackM2Z.csv\")\n",
    "df_case_items_soundtrackM2Z.info()"
   ]
  },
  {
   "cell_type": "code",
   "execution_count": null,
   "metadata": {},
   "outputs": [],
   "source": [
    "df_case_items = df_case_items.append(df_case_items_soundtrackM2Z, ignore_index=True)"
   ]
  },
  {
   "cell_type": "code",
   "execution_count": null,
   "metadata": {},
   "outputs": [],
   "source": [
    "df_case_items.info()"
   ]
  },
  {
   "cell_type": "code",
   "execution_count": null,
   "metadata": {},
   "outputs": [],
   "source": [
    "# Number of NaN values\n",
    "df_case_items.isnull().sum()"
   ]
  },
  {
   "cell_type": "code",
   "execution_count": null,
   "metadata": {},
   "outputs": [],
   "source": [
    "# Drop columns\n",
    "df_case_items.drop('metal_design_collar', axis=1, inplace=True)\n",
    "df_case_items.drop('shade', axis=1, inplace=True)\n",
    "df_case_items.drop('stump_shade', axis=1, inplace=True)\n",
    "df_case_items.drop('tooth_shade_guide_hue', axis=1, inplace=True)\n",
    "df_case_items.drop('stump_shade_guide_hue', axis=1, inplace=True)\n",
    "df_case_items.drop('implant_platform_type', axis=1, inplace=True)\n",
    "df_case_items.drop('implant_platform_type_txt', axis=1, inplace=True)\n",
    "df_case_items.drop('implant_abutment_type', axis=1, inplace=True)\n",
    "df_case_items.drop('implant_abutment_type_txt', axis=1, inplace=True)\n",
    "df_case_items.drop('implant_site_instruction', axis=1, inplace=True)\n",
    "df_case_items.drop('implant_site_instruction_other', axis=1, inplace=True)\n",
    "df_case_items.drop('case_item_group_id', axis=1, inplace=True)\n",
    "df_case_items.drop('multiple_shade_guide_toi_hue', axis=1, inplace=True)\n",
    "df_case_items.drop('multiple_shade_guide_middle_hue', axis=1, inplace=True)\n",
    "df_case_items.drop('multiple_shade_guide_bgc_hue', axis=1, inplace=True)"
   ]
  },
  {
   "cell_type": "code",
   "execution_count": null,
   "metadata": {},
   "outputs": [],
   "source": [
    "df_case_items.drop('multiple_shade_guide_toi_hue', axis=1, inplace=True)\n",
    "df_case_items.drop('multiple_shade_guide_middle_hue', axis=1, inplace=True)\n",
    "df_case_items.drop('multiple_shade_guide_bgc_hue', axis=1, inplace=True)"
   ]
  },
  {
   "cell_type": "code",
   "execution_count": null,
   "metadata": {},
   "outputs": [],
   "source": [
    "# Save to csv\n",
    "df_case_items.to_csv('data/case_items_clean1.csv')"
   ]
  },
  {
   "cell_type": "markdown",
   "metadata": {},
   "source": [
    "### FIRST ROUND CLEANING 'union_all_charging_items.csv'"
   ]
  },
  {
   "cell_type": "code",
   "execution_count": 2,
   "metadata": {},
   "outputs": [],
   "source": [
    "df_charging_items = pd.DataFrame()"
   ]
  },
  {
   "cell_type": "code",
   "execution_count": 3,
   "metadata": {},
   "outputs": [
    {
     "name": "stdout",
     "output_type": "stream",
     "text": [
      "<class 'pandas.core.frame.DataFrame'>\n",
      "RangeIndex: 503135 entries, 0 to 503134\n",
      "Data columns (total 35 columns):\n",
      "id                 503135 non-null int64\n",
      "ref_type           503135 non-null int64\n",
      "charge_ty          503135 non-null int64\n",
      "billing_item_id    503135 non-null int64\n",
      "case_id            503135 non-null int64\n",
      "case_item_id       503135 non-null int64\n",
      "ref_id             503135 non-null int64\n",
      "product_id         503135 non-null int64\n",
      "tooth_num          503135 non-null int64\n",
      "pricebook_id       503135 non-null int64\n",
      "material_id        503135 non-null int64\n",
      "unit_price         503135 non-null float64\n",
      "quantity           503135 non-null float64\n",
      "currency           0 non-null float64\n",
      "discount           503135 non-null float64\n",
      "surcharge          0 non-null float64\n",
      "adjustment         503135 non-null int64\n",
      "payment            503135 non-null float64\n",
      "status             503135 non-null int64\n",
      "createdOn          503135 non-null object\n",
      "remarks            10178 non-null object\n",
      "lastupdated        503135 non-null object\n",
      "updatedby          503135 non-null int64\n",
      "bLava              503135 non-null int64\n",
      "additional_type    503135 non-null int64\n",
      "remake_id          503135 non-null int64\n",
      "additional_id      503135 non-null int64\n",
      "discount_amt       503135 non-null float64\n",
      "priority           503135 non-null int64\n",
      "tax_1              503135 non-null float64\n",
      "tax_2              503135 non-null int64\n",
      "enable_tax_1       503135 non-null int64\n",
      "enable_tax_2       503135 non-null int64\n",
      "enable_discount    503135 non-null int64\n",
      "labName            503135 non-null object\n",
      "dtypes: float64(8), int64(23), object(4)\n",
      "memory usage: 134.4+ MB\n"
     ]
    }
   ],
   "source": [
    "df_charging_items_labstar3A = pd.read_csv(\"data/union_charging_items_labstar3A.csv\")\n",
    "df_charging_items_labstar3A.info()"
   ]
  },
  {
   "cell_type": "code",
   "execution_count": 4,
   "metadata": {},
   "outputs": [],
   "source": [
    "df_charging_items = df_charging_items.append(df_charging_items_labstar3A, ignore_index=True)"
   ]
  },
  {
   "cell_type": "code",
   "execution_count": 5,
   "metadata": {},
   "outputs": [
    {
     "name": "stdout",
     "output_type": "stream",
     "text": [
      "<class 'pandas.core.frame.DataFrame'>\n",
      "RangeIndex: 403868 entries, 0 to 403867\n",
      "Data columns (total 35 columns):\n",
      "id                 403868 non-null int64\n",
      "ref_type           403868 non-null int64\n",
      "charge_ty          403868 non-null int64\n",
      "billing_item_id    403868 non-null int64\n",
      "case_id            403868 non-null int64\n",
      "case_item_id       403868 non-null int64\n",
      "ref_id             403868 non-null int64\n",
      "product_id         403868 non-null int64\n",
      "tooth_num          403868 non-null int64\n",
      "pricebook_id       403868 non-null int64\n",
      "material_id        403868 non-null int64\n",
      "unit_price         403868 non-null float64\n",
      "quantity           403868 non-null float64\n",
      "currency           0 non-null float64\n",
      "discount           403868 non-null float64\n",
      "surcharge          0 non-null float64\n",
      "adjustment         403868 non-null int64\n",
      "payment            403868 non-null float64\n",
      "status             403868 non-null int64\n",
      "createdOn          403868 non-null object\n",
      "remarks            6547 non-null object\n",
      "lastupdated        403868 non-null object\n",
      "updatedby          403868 non-null int64\n",
      "bLava              403868 non-null int64\n",
      "additional_type    403868 non-null int64\n",
      "remake_id          403868 non-null int64\n",
      "additional_id      403868 non-null int64\n",
      "discount_amt       402259 non-null float64\n",
      "priority           403868 non-null int64\n",
      "tax_1              402259 non-null float64\n",
      "tax_2              402259 non-null float64\n",
      "enable_tax_1       402259 non-null float64\n",
      "enable_tax_2       402259 non-null float64\n",
      "enable_discount    402259 non-null float64\n",
      "labName            403868 non-null object\n",
      "dtypes: float64(12), int64(19), object(4)\n",
      "memory usage: 107.8+ MB\n"
     ]
    }
   ],
   "source": [
    "df_charging_items_labstarBB = pd.read_csv(\"data/union_charging_items_labstarBB.csv\")\n",
    "df_charging_items_labstarBB.info()"
   ]
  },
  {
   "cell_type": "code",
   "execution_count": 6,
   "metadata": {},
   "outputs": [],
   "source": [
    "df_charging_items = df_charging_items.append(df_charging_items_labstarBB, ignore_index=True)"
   ]
  },
  {
   "cell_type": "code",
   "execution_count": 7,
   "metadata": {},
   "outputs": [
    {
     "name": "stderr",
     "output_type": "stream",
     "text": [
      "/anaconda3/lib/python3.6/site-packages/IPython/core/interactiveshell.py:2728: DtypeWarning: Columns (20) have mixed types. Specify dtype option on import or set low_memory=False.\n",
      "  interactivity=interactivity, compiler=compiler, result=result)\n"
     ]
    },
    {
     "name": "stdout",
     "output_type": "stream",
     "text": [
      "<class 'pandas.core.frame.DataFrame'>\n",
      "RangeIndex: 381982 entries, 0 to 381981\n",
      "Data columns (total 35 columns):\n",
      "id                 381982 non-null int64\n",
      "ref_type           381982 non-null int64\n",
      "charge_ty          381982 non-null int64\n",
      "billing_item_id    381982 non-null int64\n",
      "case_id            381982 non-null int64\n",
      "case_item_id       381982 non-null int64\n",
      "ref_id             381982 non-null int64\n",
      "product_id         381982 non-null int64\n",
      "tooth_num          381982 non-null int64\n",
      "pricebook_id       381982 non-null int64\n",
      "material_id        381982 non-null int64\n",
      "unit_price         381982 non-null float64\n",
      "quantity           381982 non-null float64\n",
      "currency           0 non-null float64\n",
      "discount           381982 non-null float64\n",
      "surcharge          0 non-null float64\n",
      "adjustment         381982 non-null int64\n",
      "payment            381982 non-null float64\n",
      "status             381982 non-null int64\n",
      "createdOn          381982 non-null object\n",
      "remarks            4318 non-null object\n",
      "lastupdated        381982 non-null object\n",
      "updatedby          381982 non-null int64\n",
      "bLava              381982 non-null int64\n",
      "additional_type    381982 non-null int64\n",
      "remake_id          381982 non-null int64\n",
      "additional_id      381982 non-null int64\n",
      "discount_amt       381982 non-null float64\n",
      "priority           381982 non-null int64\n",
      "tax_1              381982 non-null float64\n",
      "tax_2              381982 non-null int64\n",
      "enable_tax_1       381982 non-null int64\n",
      "enable_tax_2       381982 non-null int64\n",
      "enable_discount    381982 non-null int64\n",
      "labName            381982 non-null object\n",
      "dtypes: float64(8), int64(23), object(4)\n",
      "memory usage: 102.0+ MB\n"
     ]
    }
   ],
   "source": [
    "df_charging_items_labstarCC = pd.read_csv(\"data/union_charging_items_labstarCC.csv\")\n",
    "df_charging_items_labstarCC.info()"
   ]
  },
  {
   "cell_type": "code",
   "execution_count": 8,
   "metadata": {},
   "outputs": [],
   "source": [
    "df_charging_items = df_charging_items.append(df_charging_items_labstarCC, ignore_index=True)"
   ]
  },
  {
   "cell_type": "code",
   "execution_count": 9,
   "metadata": {},
   "outputs": [
    {
     "name": "stderr",
     "output_type": "stream",
     "text": [
      "/anaconda3/lib/python3.6/site-packages/IPython/core/interactiveshell.py:2728: DtypeWarning: Columns (20) have mixed types. Specify dtype option on import or set low_memory=False.\n",
      "  interactivity=interactivity, compiler=compiler, result=result)\n"
     ]
    },
    {
     "name": "stdout",
     "output_type": "stream",
     "text": [
      "<class 'pandas.core.frame.DataFrame'>\n",
      "RangeIndex: 649231 entries, 0 to 649230\n",
      "Data columns (total 35 columns):\n",
      "id                 649231 non-null int64\n",
      "ref_type           649231 non-null int64\n",
      "charge_ty          649231 non-null int64\n",
      "billing_item_id    649231 non-null int64\n",
      "case_id            649231 non-null int64\n",
      "case_item_id       649231 non-null int64\n",
      "ref_id             649231 non-null int64\n",
      "product_id         649231 non-null int64\n",
      "tooth_num          649231 non-null int64\n",
      "pricebook_id       649231 non-null int64\n",
      "material_id        649215 non-null float64\n",
      "unit_price         649231 non-null float64\n",
      "quantity           649231 non-null float64\n",
      "currency           0 non-null float64\n",
      "discount           649231 non-null float64\n",
      "surcharge          0 non-null float64\n",
      "adjustment         649231 non-null float64\n",
      "payment            649231 non-null float64\n",
      "status             649231 non-null int64\n",
      "createdOn          649231 non-null object\n",
      "remarks            7600 non-null object\n",
      "lastupdated        649231 non-null object\n",
      "updatedby          649231 non-null int64\n",
      "bLava              649231 non-null int64\n",
      "additional_type    649215 non-null float64\n",
      "remake_id          649231 non-null int64\n",
      "additional_id      648601 non-null float64\n",
      "discount_amt       619629 non-null float64\n",
      "priority           649231 non-null int64\n",
      "tax_1              619629 non-null float64\n",
      "tax_2              619629 non-null float64\n",
      "enable_tax_1       619629 non-null float64\n",
      "enable_tax_2       619629 non-null float64\n",
      "enable_discount    619629 non-null float64\n",
      "labName            649231 non-null object\n",
      "dtypes: float64(16), int64(15), object(4)\n",
      "memory usage: 173.4+ MB\n"
     ]
    }
   ],
   "source": [
    "df_charging_items_labstarDD = pd.read_csv(\"data/union_charging_items_labstarDD.csv\")\n",
    "df_charging_items_labstarDD.info()"
   ]
  },
  {
   "cell_type": "code",
   "execution_count": 10,
   "metadata": {},
   "outputs": [],
   "source": [
    "df_charging_items = df_charging_items.append(df_charging_items_labstarDD, ignore_index=True)"
   ]
  },
  {
   "cell_type": "code",
   "execution_count": 11,
   "metadata": {},
   "outputs": [
    {
     "name": "stderr",
     "output_type": "stream",
     "text": [
      "/anaconda3/lib/python3.6/site-packages/IPython/core/interactiveshell.py:2728: DtypeWarning: Columns (20) have mixed types. Specify dtype option on import or set low_memory=False.\n",
      "  interactivity=interactivity, compiler=compiler, result=result)\n"
     ]
    },
    {
     "name": "stdout",
     "output_type": "stream",
     "text": [
      "<class 'pandas.core.frame.DataFrame'>\n",
      "RangeIndex: 520200 entries, 0 to 520199\n",
      "Data columns (total 35 columns):\n",
      "id                 520200 non-null int64\n",
      "ref_type           520200 non-null int64\n",
      "charge_ty          520200 non-null int64\n",
      "billing_item_id    520200 non-null int64\n",
      "case_id            520200 non-null int64\n",
      "case_item_id       520200 non-null int64\n",
      "ref_id             520200 non-null int64\n",
      "product_id         520200 non-null int64\n",
      "tooth_num          520200 non-null int64\n",
      "pricebook_id       520200 non-null int64\n",
      "material_id        520200 non-null int64\n",
      "unit_price         520200 non-null float64\n",
      "quantity           520200 non-null float64\n",
      "currency           0 non-null float64\n",
      "discount           520200 non-null float64\n",
      "surcharge          0 non-null float64\n",
      "adjustment         520200 non-null int64\n",
      "payment            520200 non-null float64\n",
      "status             520200 non-null int64\n",
      "createdOn          520200 non-null object\n",
      "remarks            9572 non-null object\n",
      "lastupdated        520200 non-null object\n",
      "updatedby          520200 non-null int64\n",
      "bLava              520200 non-null int64\n",
      "additional_type    520200 non-null int64\n",
      "remake_id          520200 non-null int64\n",
      "additional_id      520200 non-null int64\n",
      "discount_amt       513285 non-null float64\n",
      "priority           520200 non-null int64\n",
      "tax_1              513285 non-null float64\n",
      "tax_2              513285 non-null float64\n",
      "enable_tax_1       513285 non-null float64\n",
      "enable_tax_2       513285 non-null float64\n",
      "enable_discount    513285 non-null float64\n",
      "labName            520200 non-null object\n",
      "dtypes: float64(12), int64(19), object(4)\n",
      "memory usage: 138.9+ MB\n"
     ]
    }
   ],
   "source": [
    "df_charging_items_labstarEE = pd.read_csv(\"data/union_charging_items_labstarEE.csv\")\n",
    "df_charging_items_labstarEE.info()"
   ]
  },
  {
   "cell_type": "code",
   "execution_count": 12,
   "metadata": {},
   "outputs": [],
   "source": [
    "df_charging_items = df_charging_items.append(df_charging_items_labstarEE, ignore_index=True)"
   ]
  },
  {
   "cell_type": "code",
   "execution_count": 13,
   "metadata": {},
   "outputs": [
    {
     "name": "stderr",
     "output_type": "stream",
     "text": [
      "/anaconda3/lib/python3.6/site-packages/IPython/core/interactiveshell.py:2728: DtypeWarning: Columns (20) have mixed types. Specify dtype option on import or set low_memory=False.\n",
      "  interactivity=interactivity, compiler=compiler, result=result)\n"
     ]
    },
    {
     "name": "stdout",
     "output_type": "stream",
     "text": [
      "<class 'pandas.core.frame.DataFrame'>\n",
      "RangeIndex: 665907 entries, 0 to 665906\n",
      "Data columns (total 35 columns):\n",
      "id                 665907 non-null int64\n",
      "ref_type           665907 non-null int64\n",
      "charge_ty          665907 non-null int64\n",
      "billing_item_id    665907 non-null int64\n",
      "case_id            665907 non-null int64\n",
      "case_item_id       665907 non-null int64\n",
      "ref_id             665907 non-null int64\n",
      "product_id         665907 non-null int64\n",
      "tooth_num          665907 non-null int64\n",
      "pricebook_id       665907 non-null int64\n",
      "material_id        665907 non-null int64\n",
      "unit_price         665907 non-null float64\n",
      "quantity           665907 non-null float64\n",
      "currency           0 non-null float64\n",
      "discount           665907 non-null float64\n",
      "surcharge          0 non-null float64\n",
      "adjustment         665907 non-null int64\n",
      "payment            665907 non-null float64\n",
      "status             665907 non-null int64\n",
      "createdOn          665907 non-null object\n",
      "remarks            3555 non-null object\n",
      "lastupdated        665907 non-null object\n",
      "updatedby          665907 non-null int64\n",
      "bLava              665907 non-null int64\n",
      "additional_type    665907 non-null int64\n",
      "remake_id          665907 non-null int64\n",
      "additional_id      665907 non-null int64\n",
      "discount_amt       659641 non-null float64\n",
      "priority           665907 non-null int64\n",
      "tax_1              659641 non-null float64\n",
      "tax_2              659641 non-null float64\n",
      "enable_tax_1       659641 non-null float64\n",
      "enable_tax_2       659641 non-null float64\n",
      "enable_discount    659641 non-null float64\n",
      "labName            665907 non-null object\n",
      "dtypes: float64(12), int64(19), object(4)\n",
      "memory usage: 177.8+ MB\n"
     ]
    }
   ],
   "source": [
    "df_charging_items_labstarFG = pd.read_csv(\"data/union_charging_items_labstarFG.csv\")\n",
    "df_charging_items_labstarFG.info()"
   ]
  },
  {
   "cell_type": "code",
   "execution_count": 14,
   "metadata": {},
   "outputs": [],
   "source": [
    "df_charging_items = df_charging_items.append(df_charging_items_labstarFG, ignore_index=True)"
   ]
  },
  {
   "cell_type": "code",
   "execution_count": 15,
   "metadata": {},
   "outputs": [
    {
     "name": "stdout",
     "output_type": "stream",
     "text": [
      "<class 'pandas.core.frame.DataFrame'>\n",
      "RangeIndex: 181059 entries, 0 to 181058\n",
      "Data columns (total 35 columns):\n",
      "id                 181059 non-null int64\n",
      "ref_type           181059 non-null int64\n",
      "charge_ty          181059 non-null int64\n",
      "billing_item_id    181059 non-null int64\n",
      "case_id            181059 non-null int64\n",
      "case_item_id       181059 non-null int64\n",
      "ref_id             181059 non-null int64\n",
      "product_id         181059 non-null int64\n",
      "tooth_num          181059 non-null int64\n",
      "pricebook_id       181059 non-null int64\n",
      "material_id        181059 non-null int64\n",
      "unit_price         181059 non-null float64\n",
      "quantity           181059 non-null float64\n",
      "currency           0 non-null float64\n",
      "discount           181059 non-null float64\n",
      "surcharge          0 non-null float64\n",
      "adjustment         181059 non-null int64\n",
      "payment            181059 non-null float64\n",
      "status             181059 non-null int64\n",
      "createdOn          181059 non-null object\n",
      "remarks            4178 non-null object\n",
      "lastupdated        181059 non-null object\n",
      "updatedby          181059 non-null int64\n",
      "bLava              181059 non-null int64\n",
      "additional_type    181059 non-null int64\n",
      "remake_id          181059 non-null int64\n",
      "additional_id      181059 non-null int64\n",
      "discount_amt       180764 non-null float64\n",
      "priority           181059 non-null int64\n",
      "tax_1              180764 non-null float64\n",
      "tax_2              180764 non-null float64\n",
      "enable_tax_1       180764 non-null float64\n",
      "enable_tax_2       180764 non-null float64\n",
      "enable_discount    180764 non-null float64\n",
      "labName            181059 non-null object\n",
      "dtypes: float64(12), int64(19), object(4)\n",
      "memory usage: 48.3+ MB\n"
     ]
    },
    {
     "name": "stderr",
     "output_type": "stream",
     "text": [
      "/anaconda3/lib/python3.6/site-packages/IPython/core/interactiveshell.py:2728: DtypeWarning: Columns (20) have mixed types. Specify dtype option on import or set low_memory=False.\n",
      "  interactivity=interactivity, compiler=compiler, result=result)\n"
     ]
    }
   ],
   "source": [
    "df_charging_items_labstarHH = pd.read_csv(\"data/union_charging_items_labstarHH.csv\")\n",
    "df_charging_items_labstarHH.info()"
   ]
  },
  {
   "cell_type": "code",
   "execution_count": 16,
   "metadata": {},
   "outputs": [],
   "source": [
    "df_charging_items = df_charging_items.append(df_charging_items_labstarHH, ignore_index=True)"
   ]
  },
  {
   "cell_type": "code",
   "execution_count": 17,
   "metadata": {},
   "outputs": [
    {
     "name": "stderr",
     "output_type": "stream",
     "text": [
      "/anaconda3/lib/python3.6/site-packages/IPython/core/interactiveshell.py:2728: DtypeWarning: Columns (20) have mixed types. Specify dtype option on import or set low_memory=False.\n",
      "  interactivity=interactivity, compiler=compiler, result=result)\n"
     ]
    },
    {
     "name": "stdout",
     "output_type": "stream",
     "text": [
      "<class 'pandas.core.frame.DataFrame'>\n",
      "RangeIndex: 361624 entries, 0 to 361623\n",
      "Data columns (total 35 columns):\n",
      "id                 361624 non-null int64\n",
      "ref_type           361624 non-null int64\n",
      "charge_ty          361624 non-null int64\n",
      "billing_item_id    361624 non-null int64\n",
      "case_id            361624 non-null int64\n",
      "case_item_id       361624 non-null int64\n",
      "ref_id             361624 non-null int64\n",
      "product_id         361624 non-null int64\n",
      "tooth_num          361624 non-null int64\n",
      "pricebook_id       361624 non-null int64\n",
      "material_id        361624 non-null int64\n",
      "unit_price         361624 non-null float64\n",
      "quantity           361624 non-null float64\n",
      "currency           0 non-null float64\n",
      "discount           361624 non-null float64\n",
      "surcharge          0 non-null float64\n",
      "adjustment         361624 non-null int64\n",
      "payment            361624 non-null float64\n",
      "status             361624 non-null int64\n",
      "createdOn          361624 non-null object\n",
      "remarks            5768 non-null object\n",
      "lastupdated        361624 non-null object\n",
      "updatedby          361624 non-null int64\n",
      "bLava              361624 non-null int64\n",
      "additional_type    361624 non-null int64\n",
      "remake_id          361624 non-null int64\n",
      "additional_id      361624 non-null int64\n",
      "discount_amt       358587 non-null float64\n",
      "priority           361624 non-null int64\n",
      "tax_1              358587 non-null float64\n",
      "tax_2              358587 non-null float64\n",
      "enable_tax_1       358587 non-null float64\n",
      "enable_tax_2       358587 non-null float64\n",
      "enable_discount    358587 non-null float64\n",
      "labName            361624 non-null object\n",
      "dtypes: float64(12), int64(19), object(4)\n",
      "memory usage: 96.6+ MB\n"
     ]
    }
   ],
   "source": [
    "df_charging_items_labstarII = pd.read_csv(\"data/union_charging_items_labstarII.csv\")\n",
    "df_charging_items_labstarII.info()"
   ]
  },
  {
   "cell_type": "code",
   "execution_count": 18,
   "metadata": {},
   "outputs": [],
   "source": [
    "df_charging_items = df_charging_items.append(df_charging_items_labstarII, ignore_index=True)"
   ]
  },
  {
   "cell_type": "code",
   "execution_count": 19,
   "metadata": {},
   "outputs": [
    {
     "name": "stdout",
     "output_type": "stream",
     "text": [
      "<class 'pandas.core.frame.DataFrame'>\n",
      "RangeIndex: 446896 entries, 0 to 446895\n",
      "Data columns (total 35 columns):\n",
      "id                 446896 non-null int64\n",
      "ref_type           446896 non-null int64\n",
      "charge_ty          446896 non-null int64\n",
      "billing_item_id    446896 non-null int64\n",
      "case_id            446896 non-null int64\n",
      "case_item_id       446896 non-null int64\n",
      "ref_id             446896 non-null int64\n",
      "product_id         446896 non-null int64\n",
      "tooth_num          446896 non-null int64\n",
      "pricebook_id       446896 non-null int64\n",
      "material_id        446896 non-null int64\n",
      "unit_price         446896 non-null float64\n",
      "quantity           446896 non-null float64\n",
      "currency           0 non-null float64\n",
      "discount           446896 non-null float64\n",
      "surcharge          0 non-null float64\n",
      "adjustment         446896 non-null int64\n",
      "payment            446896 non-null float64\n",
      "status             446896 non-null int64\n",
      "createdOn          446896 non-null object\n",
      "remarks            11444 non-null object\n",
      "lastupdated        446896 non-null object\n",
      "updatedby          446896 non-null int64\n",
      "bLava              446896 non-null int64\n",
      "additional_type    446896 non-null int64\n",
      "remake_id          446896 non-null int64\n",
      "additional_id      446896 non-null int64\n",
      "discount_amt       441875 non-null float64\n",
      "priority           446896 non-null int64\n",
      "tax_1              441875 non-null float64\n",
      "tax_2              441875 non-null float64\n",
      "enable_tax_1       441875 non-null float64\n",
      "enable_tax_2       441875 non-null float64\n",
      "enable_discount    441875 non-null float64\n",
      "labName            446896 non-null object\n",
      "dtypes: float64(12), int64(19), object(4)\n",
      "memory usage: 119.3+ MB\n"
     ]
    }
   ],
   "source": [
    "df_charging_items_labstarJK = pd.read_csv(\"data/union_charging_items_labstarJK.csv\")\n",
    "df_charging_items_labstarJK.info()"
   ]
  },
  {
   "cell_type": "code",
   "execution_count": 20,
   "metadata": {},
   "outputs": [],
   "source": [
    "df_charging_items = df_charging_items.append(df_charging_items_labstarJK, ignore_index=True)"
   ]
  },
  {
   "cell_type": "code",
   "execution_count": 21,
   "metadata": {},
   "outputs": [
    {
     "name": "stdout",
     "output_type": "stream",
     "text": [
      "<class 'pandas.core.frame.DataFrame'>\n",
      "RangeIndex: 339398 entries, 0 to 339397\n",
      "Data columns (total 35 columns):\n",
      "id                 339398 non-null int64\n",
      "ref_type           339398 non-null int64\n",
      "charge_ty          339398 non-null int64\n",
      "billing_item_id    339398 non-null int64\n",
      "case_id            339398 non-null int64\n",
      "case_item_id       339398 non-null int64\n",
      "ref_id             339398 non-null int64\n",
      "product_id         339398 non-null int64\n",
      "tooth_num          339398 non-null int64\n",
      "pricebook_id       339398 non-null int64\n",
      "material_id        339398 non-null int64\n",
      "unit_price         339398 non-null float64\n",
      "quantity           339398 non-null float64\n",
      "currency           0 non-null float64\n",
      "discount           339398 non-null float64\n",
      "surcharge          0 non-null float64\n",
      "adjustment         339398 non-null int64\n",
      "payment            339398 non-null float64\n",
      "status             339398 non-null int64\n",
      "createdOn          339398 non-null object\n",
      "remarks            3318 non-null object\n",
      "lastupdated        339398 non-null object\n",
      "updatedby          339398 non-null int64\n",
      "bLava              339398 non-null int64\n",
      "additional_type    339398 non-null int64\n",
      "remake_id          339398 non-null int64\n",
      "additional_id      339398 non-null int64\n",
      "discount_amt       332294 non-null float64\n",
      "priority           339398 non-null int64\n",
      "tax_1              332294 non-null float64\n",
      "tax_2              332294 non-null float64\n",
      "enable_tax_1       332294 non-null float64\n",
      "enable_tax_2       332294 non-null float64\n",
      "enable_discount    332294 non-null float64\n",
      "labName            339398 non-null object\n",
      "dtypes: float64(12), int64(19), object(4)\n",
      "memory usage: 90.6+ MB\n"
     ]
    }
   ],
   "source": [
    "df_charging_items_labstarLL = pd.read_csv(\"data/union_charging_items_labstarLL.csv\")\n",
    "df_charging_items_labstarLL.info()"
   ]
  },
  {
   "cell_type": "code",
   "execution_count": 22,
   "metadata": {},
   "outputs": [],
   "source": [
    "df_charging_items = df_charging_items.append(df_charging_items_labstarLL, ignore_index=True)"
   ]
  },
  {
   "cell_type": "code",
   "execution_count": 23,
   "metadata": {},
   "outputs": [
    {
     "name": "stderr",
     "output_type": "stream",
     "text": [
      "/anaconda3/lib/python3.6/site-packages/IPython/core/interactiveshell.py:2728: DtypeWarning: Columns (20) have mixed types. Specify dtype option on import or set low_memory=False.\n",
      "  interactivity=interactivity, compiler=compiler, result=result)\n"
     ]
    },
    {
     "name": "stdout",
     "output_type": "stream",
     "text": [
      "<class 'pandas.core.frame.DataFrame'>\n",
      "RangeIndex: 415365 entries, 0 to 415364\n",
      "Data columns (total 35 columns):\n",
      "id                 415365 non-null int64\n",
      "ref_type           415365 non-null int64\n",
      "charge_ty          415365 non-null int64\n",
      "billing_item_id    415365 non-null int64\n",
      "case_id            415365 non-null int64\n",
      "case_item_id       415365 non-null int64\n",
      "ref_id             415365 non-null int64\n",
      "product_id         415365 non-null int64\n",
      "tooth_num          415365 non-null int64\n",
      "pricebook_id       415365 non-null int64\n",
      "material_id        415365 non-null int64\n",
      "unit_price         415365 non-null float64\n",
      "quantity           415365 non-null float64\n",
      "currency           0 non-null float64\n",
      "discount           415365 non-null float64\n",
      "surcharge          0 non-null float64\n",
      "adjustment         415365 non-null int64\n",
      "payment            415365 non-null float64\n",
      "status             415365 non-null int64\n",
      "createdOn          415365 non-null object\n",
      "remarks            6523 non-null object\n",
      "lastupdated        415365 non-null object\n",
      "updatedby          415365 non-null int64\n",
      "bLava              415365 non-null int64\n",
      "additional_type    415365 non-null int64\n",
      "remake_id          415365 non-null int64\n",
      "additional_id      415365 non-null int64\n",
      "discount_amt       411697 non-null float64\n",
      "priority           415364 non-null float64\n",
      "tax_1              411697 non-null float64\n",
      "tax_2              411697 non-null float64\n",
      "enable_tax_1       411697 non-null float64\n",
      "enable_tax_2       411697 non-null float64\n",
      "enable_discount    411697 non-null float64\n",
      "labName            415365 non-null object\n",
      "dtypes: float64(13), int64(18), object(4)\n",
      "memory usage: 110.9+ MB\n"
     ]
    }
   ],
   "source": [
    "df_charging_items_labstarMM = pd.read_csv(\"data/union_charging_items_labstarMM.csv\")\n",
    "df_charging_items_labstarMM.info()"
   ]
  },
  {
   "cell_type": "code",
   "execution_count": 24,
   "metadata": {},
   "outputs": [],
   "source": [
    "df_charging_items = df_charging_items.append(df_charging_items_labstarMM, ignore_index=True)"
   ]
  },
  {
   "cell_type": "code",
   "execution_count": 25,
   "metadata": {},
   "outputs": [
    {
     "name": "stderr",
     "output_type": "stream",
     "text": [
      "/anaconda3/lib/python3.6/site-packages/IPython/core/interactiveshell.py:2728: DtypeWarning: Columns (20) have mixed types. Specify dtype option on import or set low_memory=False.\n",
      "  interactivity=interactivity, compiler=compiler, result=result)\n"
     ]
    },
    {
     "name": "stdout",
     "output_type": "stream",
     "text": [
      "<class 'pandas.core.frame.DataFrame'>\n",
      "RangeIndex: 314128 entries, 0 to 314127\n",
      "Data columns (total 35 columns):\n",
      "id                 314128 non-null int64\n",
      "ref_type           314128 non-null int64\n",
      "charge_ty          314128 non-null int64\n",
      "billing_item_id    314128 non-null int64\n",
      "case_id            314128 non-null int64\n",
      "case_item_id       314128 non-null int64\n",
      "ref_id             314128 non-null int64\n",
      "product_id         314128 non-null int64\n",
      "tooth_num          314128 non-null int64\n",
      "pricebook_id       314128 non-null int64\n",
      "material_id        314128 non-null int64\n",
      "unit_price         314128 non-null float64\n",
      "quantity           314128 non-null float64\n",
      "currency           0 non-null float64\n",
      "discount           314128 non-null float64\n",
      "surcharge          0 non-null float64\n",
      "adjustment         314128 non-null int64\n",
      "payment            314128 non-null float64\n",
      "status             314128 non-null int64\n",
      "createdOn          314128 non-null object\n",
      "remarks            12947 non-null object\n",
      "lastupdated        314128 non-null object\n",
      "updatedby          314128 non-null int64\n",
      "bLava              314128 non-null int64\n",
      "additional_type    314128 non-null int64\n",
      "remake_id          314128 non-null int64\n",
      "additional_id      314128 non-null int64\n",
      "discount_amt       314128 non-null float64\n",
      "priority           314128 non-null int64\n",
      "tax_1              314128 non-null float64\n",
      "tax_2              314128 non-null int64\n",
      "enable_tax_1       314128 non-null int64\n",
      "enable_tax_2       314128 non-null int64\n",
      "enable_discount    314128 non-null int64\n",
      "labName            314128 non-null object\n",
      "dtypes: float64(8), int64(23), object(4)\n",
      "memory usage: 83.9+ MB\n"
     ]
    }
   ],
   "source": [
    "df_charging_items_labstarNO = pd.read_csv(\"data/union_charging_items_labstarNO.csv\")\n",
    "df_charging_items_labstarNO.info()"
   ]
  },
  {
   "cell_type": "code",
   "execution_count": 26,
   "metadata": {},
   "outputs": [],
   "source": [
    "df_charging_items = df_charging_items.append(df_charging_items_labstarNO, ignore_index=True)"
   ]
  },
  {
   "cell_type": "code",
   "execution_count": 27,
   "metadata": {},
   "outputs": [
    {
     "name": "stdout",
     "output_type": "stream",
     "text": [
      "<class 'pandas.core.frame.DataFrame'>\n",
      "RangeIndex: 781274 entries, 0 to 781273\n",
      "Data columns (total 35 columns):\n",
      "id                 781274 non-null int64\n",
      "ref_type           781274 non-null int64\n",
      "charge_ty          781274 non-null int64\n",
      "billing_item_id    781274 non-null int64\n",
      "case_id            781274 non-null int64\n",
      "case_item_id       781274 non-null int64\n",
      "ref_id             781274 non-null int64\n",
      "product_id         781274 non-null int64\n",
      "tooth_num          781274 non-null int64\n",
      "pricebook_id       781274 non-null int64\n",
      "material_id        781274 non-null int64\n",
      "unit_price         781274 non-null float64\n",
      "quantity           781274 non-null float64\n",
      "currency           0 non-null float64\n",
      "discount           781274 non-null float64\n",
      "surcharge          0 non-null float64\n",
      "adjustment         781274 non-null int64\n",
      "payment            781274 non-null float64\n",
      "status             781274 non-null int64\n",
      "createdOn          781274 non-null object\n",
      "remarks            30585 non-null object\n",
      "lastupdated        781274 non-null object\n",
      "updatedby          781274 non-null int64\n",
      "bLava              781274 non-null int64\n",
      "additional_type    781274 non-null int64\n",
      "remake_id          781274 non-null int64\n",
      "additional_id      781274 non-null int64\n",
      "discount_amt       779036 non-null float64\n",
      "priority           781274 non-null int64\n",
      "tax_1              779036 non-null float64\n",
      "tax_2              779036 non-null float64\n",
      "enable_tax_1       779036 non-null float64\n",
      "enable_tax_2       779036 non-null float64\n",
      "enable_discount    779036 non-null float64\n",
      "labName            781274 non-null object\n",
      "dtypes: float64(12), int64(19), object(4)\n",
      "memory usage: 208.6+ MB\n"
     ]
    }
   ],
   "source": [
    "df_charging_items_labstarPQ = pd.read_csv(\"data/union_charging_items_labstarPQ.csv\")\n",
    "df_charging_items_labstarPQ.info()"
   ]
  },
  {
   "cell_type": "code",
   "execution_count": 28,
   "metadata": {},
   "outputs": [],
   "source": [
    "df_charging_items = df_charging_items.append(df_charging_items_labstarPQ, ignore_index=True)"
   ]
  },
  {
   "cell_type": "code",
   "execution_count": 29,
   "metadata": {},
   "outputs": [
    {
     "name": "stderr",
     "output_type": "stream",
     "text": [
      "/anaconda3/lib/python3.6/site-packages/IPython/core/interactiveshell.py:2728: DtypeWarning: Columns (20) have mixed types. Specify dtype option on import or set low_memory=False.\n",
      "  interactivity=interactivity, compiler=compiler, result=result)\n"
     ]
    },
    {
     "name": "stdout",
     "output_type": "stream",
     "text": [
      "<class 'pandas.core.frame.DataFrame'>\n",
      "RangeIndex: 360855 entries, 0 to 360854\n",
      "Data columns (total 35 columns):\n",
      "id                 360855 non-null int64\n",
      "ref_type           360855 non-null int64\n",
      "charge_ty          360855 non-null int64\n",
      "billing_item_id    360855 non-null int64\n",
      "case_id            360855 non-null int64\n",
      "case_item_id       360855 non-null int64\n",
      "ref_id             360855 non-null int64\n",
      "product_id         360855 non-null int64\n",
      "tooth_num          360855 non-null int64\n",
      "pricebook_id       360855 non-null int64\n",
      "material_id        360855 non-null int64\n",
      "unit_price         360855 non-null float64\n",
      "quantity           360855 non-null float64\n",
      "currency           0 non-null float64\n",
      "discount           360855 non-null float64\n",
      "surcharge          0 non-null float64\n",
      "adjustment         360855 non-null int64\n",
      "payment            360855 non-null float64\n",
      "status             360855 non-null int64\n",
      "createdOn          360855 non-null object\n",
      "remarks            4984 non-null object\n",
      "lastupdated        360855 non-null object\n",
      "updatedby          360855 non-null int64\n",
      "bLava              360855 non-null int64\n",
      "additional_type    360855 non-null int64\n",
      "remake_id          360855 non-null int64\n",
      "additional_id      360855 non-null int64\n",
      "discount_amt       360512 non-null float64\n",
      "priority           360855 non-null int64\n",
      "tax_1              360512 non-null float64\n",
      "tax_2              360512 non-null float64\n",
      "enable_tax_1       360512 non-null float64\n",
      "enable_tax_2       360512 non-null float64\n",
      "enable_discount    360512 non-null float64\n",
      "labName            360855 non-null object\n",
      "dtypes: float64(12), int64(19), object(4)\n",
      "memory usage: 96.4+ MB\n"
     ]
    }
   ],
   "source": [
    "df_charging_items_labstarRR = pd.read_csv(\"data/union_charging_items_labstarRR.csv\")\n",
    "df_charging_items_labstarRR.info()"
   ]
  },
  {
   "cell_type": "code",
   "execution_count": 30,
   "metadata": {},
   "outputs": [],
   "source": [
    "df_charging_items = df_charging_items.append(df_charging_items_labstarRR, ignore_index=True)"
   ]
  },
  {
   "cell_type": "code",
   "execution_count": 31,
   "metadata": {},
   "outputs": [
    {
     "name": "stdout",
     "output_type": "stream",
     "text": [
      "<class 'pandas.core.frame.DataFrame'>\n",
      "RangeIndex: 1039048 entries, 0 to 1039047\n",
      "Data columns (total 35 columns):\n",
      "id                 1039048 non-null int64\n",
      "ref_type           1039048 non-null int64\n",
      "charge_ty          1039048 non-null int64\n",
      "billing_item_id    1039048 non-null int64\n",
      "case_id            1039048 non-null int64\n",
      "case_item_id       1039048 non-null int64\n",
      "ref_id             1039048 non-null int64\n",
      "product_id         1039048 non-null int64\n",
      "tooth_num          1039048 non-null int64\n",
      "pricebook_id       1039048 non-null int64\n",
      "material_id        1039048 non-null int64\n",
      "unit_price         1039048 non-null float64\n",
      "quantity           1039048 non-null float64\n",
      "currency           0 non-null float64\n",
      "discount           1039048 non-null float64\n",
      "surcharge          0 non-null float64\n",
      "adjustment         1039048 non-null int64\n",
      "payment            1039048 non-null float64\n",
      "status             1039048 non-null int64\n",
      "createdOn          1039048 non-null object\n",
      "remarks            28766 non-null object\n",
      "lastupdated        1039048 non-null object\n",
      "updatedby          1039048 non-null int64\n",
      "bLava              1039048 non-null int64\n",
      "additional_type    1039048 non-null int64\n",
      "remake_id          1039048 non-null int64\n",
      "additional_id      1039048 non-null int64\n",
      "discount_amt       1030996 non-null float64\n",
      "priority           1039047 non-null float64\n",
      "tax_1              1030996 non-null float64\n",
      "tax_2              1030996 non-null float64\n",
      "enable_tax_1       1030996 non-null float64\n",
      "enable_tax_2       1030996 non-null float64\n",
      "enable_discount    1030996 non-null float64\n",
      "labName            1039048 non-null object\n",
      "dtypes: float64(13), int64(18), object(4)\n",
      "memory usage: 277.5+ MB\n"
     ]
    }
   ],
   "source": [
    "df_charging_items_labstarSS = pd.read_csv(\"data/union_charging_items_labstarSS.csv\")\n",
    "df_charging_items_labstarSS.info()"
   ]
  },
  {
   "cell_type": "code",
   "execution_count": 32,
   "metadata": {},
   "outputs": [],
   "source": [
    "df_charging_items = df_charging_items.append(df_charging_items_labstarSS, ignore_index=True)"
   ]
  },
  {
   "cell_type": "code",
   "execution_count": 33,
   "metadata": {},
   "outputs": [
    {
     "name": "stdout",
     "output_type": "stream",
     "text": [
      "<class 'pandas.core.frame.DataFrame'>\n",
      "RangeIndex: 253797 entries, 0 to 253796\n",
      "Data columns (total 35 columns):\n",
      "id                 253797 non-null int64\n",
      "ref_type           253797 non-null int64\n",
      "charge_ty          253797 non-null int64\n",
      "billing_item_id    253797 non-null int64\n",
      "case_id            253797 non-null int64\n",
      "case_item_id       253797 non-null int64\n",
      "ref_id             253797 non-null int64\n",
      "product_id         253797 non-null int64\n",
      "tooth_num          253797 non-null int64\n",
      "pricebook_id       253797 non-null int64\n",
      "material_id        253797 non-null int64\n",
      "unit_price         253797 non-null float64\n",
      "quantity           253797 non-null float64\n",
      "currency           0 non-null float64\n",
      "discount           253797 non-null float64\n",
      "surcharge          0 non-null float64\n",
      "adjustment         253797 non-null int64\n",
      "payment            253797 non-null float64\n",
      "status             253797 non-null int64\n",
      "createdOn          253797 non-null object\n",
      "remarks            9757 non-null object\n",
      "lastupdated        253797 non-null object\n",
      "updatedby          253797 non-null int64\n",
      "bLava              253797 non-null int64\n",
      "additional_type    253797 non-null int64\n",
      "remake_id          253797 non-null int64\n",
      "additional_id      253797 non-null int64\n",
      "discount_amt       253040 non-null float64\n",
      "priority           253794 non-null float64\n",
      "tax_1              253040 non-null float64\n",
      "tax_2              253040 non-null float64\n",
      "enable_tax_1       253040 non-null float64\n",
      "enable_tax_2       253040 non-null float64\n",
      "enable_discount    253040 non-null float64\n",
      "labName            253797 non-null object\n",
      "dtypes: float64(13), int64(18), object(4)\n",
      "memory usage: 67.8+ MB\n"
     ]
    }
   ],
   "source": [
    "df_charging_items_labstarTU = pd.read_csv(\"data/union_charging_items_labstarTU.csv\")\n",
    "df_charging_items_labstarTU.info()"
   ]
  },
  {
   "cell_type": "code",
   "execution_count": 34,
   "metadata": {},
   "outputs": [],
   "source": [
    "df_charging_items = df_charging_items.append(df_charging_items_labstarTU, ignore_index=True)"
   ]
  },
  {
   "cell_type": "code",
   "execution_count": 35,
   "metadata": {},
   "outputs": [
    {
     "name": "stderr",
     "output_type": "stream",
     "text": [
      "/anaconda3/lib/python3.6/site-packages/IPython/core/interactiveshell.py:2728: DtypeWarning: Columns (20) have mixed types. Specify dtype option on import or set low_memory=False.\n",
      "  interactivity=interactivity, compiler=compiler, result=result)\n"
     ]
    },
    {
     "name": "stdout",
     "output_type": "stream",
     "text": [
      "<class 'pandas.core.frame.DataFrame'>\n",
      "RangeIndex: 307153 entries, 0 to 307152\n",
      "Data columns (total 35 columns):\n",
      "id                 307153 non-null int64\n",
      "ref_type           307153 non-null int64\n",
      "charge_ty          307153 non-null int64\n",
      "billing_item_id    307153 non-null int64\n",
      "case_id            307153 non-null int64\n",
      "case_item_id       307153 non-null int64\n",
      "ref_id             307153 non-null int64\n",
      "product_id         307153 non-null int64\n",
      "tooth_num          307153 non-null int64\n",
      "pricebook_id       307153 non-null int64\n",
      "material_id        307153 non-null int64\n",
      "unit_price         307153 non-null float64\n",
      "quantity           307153 non-null float64\n",
      "currency           0 non-null float64\n",
      "discount           307153 non-null float64\n",
      "surcharge          0 non-null float64\n",
      "adjustment         307153 non-null float64\n",
      "payment            307153 non-null float64\n",
      "status             307153 non-null int64\n",
      "createdOn          307153 non-null object\n",
      "remarks            3898 non-null object\n",
      "lastupdated        307153 non-null object\n",
      "updatedby          307153 non-null int64\n",
      "bLava              307153 non-null int64\n",
      "additional_type    307153 non-null int64\n",
      "remake_id          307153 non-null int64\n",
      "additional_id      307153 non-null int64\n",
      "discount_amt       301368 non-null float64\n",
      "priority           307153 non-null int64\n",
      "tax_1              301368 non-null float64\n",
      "tax_2              301368 non-null float64\n",
      "enable_tax_1       301368 non-null float64\n",
      "enable_tax_2       301368 non-null float64\n",
      "enable_discount    301368 non-null float64\n",
      "labName            307153 non-null object\n",
      "dtypes: float64(13), int64(18), object(4)\n",
      "memory usage: 82.0+ MB\n"
     ]
    }
   ],
   "source": [
    "df_charging_items_labstarV2Z = pd.read_csv(\"data/union_charging_items_labstarV2Z.csv\")\n",
    "df_charging_items_labstarV2Z.info()"
   ]
  },
  {
   "cell_type": "code",
   "execution_count": 36,
   "metadata": {},
   "outputs": [],
   "source": [
    "df_charging_items = df_charging_items.append(df_charging_items_labstarV2Z, ignore_index=True)"
   ]
  },
  {
   "cell_type": "code",
   "execution_count": 37,
   "metadata": {},
   "outputs": [
    {
     "name": "stderr",
     "output_type": "stream",
     "text": [
      "/anaconda3/lib/python3.6/site-packages/IPython/core/interactiveshell.py:2728: DtypeWarning: Columns (20) have mixed types. Specify dtype option on import or set low_memory=False.\n",
      "  interactivity=interactivity, compiler=compiler, result=result)\n"
     ]
    },
    {
     "name": "stdout",
     "output_type": "stream",
     "text": [
      "<class 'pandas.core.frame.DataFrame'>\n",
      "RangeIndex: 1620284 entries, 0 to 1620283\n",
      "Data columns (total 35 columns):\n",
      "id                 1620284 non-null int64\n",
      "ref_type           1620284 non-null int64\n",
      "charge_ty          1620284 non-null int64\n",
      "billing_item_id    1620284 non-null int64\n",
      "case_id            1620284 non-null int64\n",
      "case_item_id       1620284 non-null int64\n",
      "ref_id             1620284 non-null int64\n",
      "product_id         1620284 non-null int64\n",
      "tooth_num          1620284 non-null int64\n",
      "pricebook_id       1620284 non-null int64\n",
      "material_id        1620284 non-null int64\n",
      "unit_price         1620284 non-null float64\n",
      "quantity           1620284 non-null float64\n",
      "currency           0 non-null float64\n",
      "discount           1620284 non-null float64\n",
      "surcharge          0 non-null float64\n",
      "adjustment         1620284 non-null float64\n",
      "payment            1620284 non-null float64\n",
      "status             1620284 non-null int64\n",
      "createdOn          1620284 non-null object\n",
      "remarks            33816 non-null object\n",
      "lastupdated        1620284 non-null object\n",
      "updatedby          1620284 non-null int64\n",
      "bLava              1620284 non-null int64\n",
      "additional_type    1620284 non-null int64\n",
      "remake_id          1620284 non-null int64\n",
      "additional_id      1620284 non-null int64\n",
      "discount_amt       1353505 non-null float64\n",
      "priority           1620282 non-null float64\n",
      "tax_1              1353505 non-null float64\n",
      "tax_2              1353505 non-null float64\n",
      "enable_tax_1       1353505 non-null float64\n",
      "enable_tax_2       1353505 non-null float64\n",
      "enable_discount    1353505 non-null float64\n",
      "labName            1620284 non-null object\n",
      "dtypes: float64(14), int64(17), object(4)\n",
      "memory usage: 432.7+ MB\n"
     ]
    }
   ],
   "source": [
    "df_charging_items_soundtrack32L = pd.read_csv(\"data/union_charging_items_soundtrack32L.csv\")\n",
    "df_charging_items_soundtrack32L.info()"
   ]
  },
  {
   "cell_type": "code",
   "execution_count": 38,
   "metadata": {},
   "outputs": [],
   "source": [
    "df_charging_items = df_charging_items.append(df_charging_items_soundtrack32L, ignore_index=True)"
   ]
  },
  {
   "cell_type": "code",
   "execution_count": 39,
   "metadata": {},
   "outputs": [
    {
     "name": "stderr",
     "output_type": "stream",
     "text": [
      "/anaconda3/lib/python3.6/site-packages/IPython/core/interactiveshell.py:2728: DtypeWarning: Columns (20) have mixed types. Specify dtype option on import or set low_memory=False.\n",
      "  interactivity=interactivity, compiler=compiler, result=result)\n"
     ]
    },
    {
     "name": "stdout",
     "output_type": "stream",
     "text": [
      "<class 'pandas.core.frame.DataFrame'>\n",
      "RangeIndex: 1562745 entries, 0 to 1562744\n",
      "Data columns (total 35 columns):\n",
      "id                 1562745 non-null int64\n",
      "ref_type           1562745 non-null int64\n",
      "charge_ty          1562745 non-null int64\n",
      "billing_item_id    1562745 non-null int64\n",
      "case_id            1562745 non-null int64\n",
      "case_item_id       1562745 non-null int64\n",
      "ref_id             1562745 non-null int64\n",
      "product_id         1562745 non-null int64\n",
      "tooth_num          1562745 non-null int64\n",
      "pricebook_id       1562745 non-null int64\n",
      "material_id        1562721 non-null float64\n",
      "unit_price         1562745 non-null float64\n",
      "quantity           1562745 non-null float64\n",
      "currency           0 non-null float64\n",
      "discount           1562745 non-null float64\n",
      "surcharge          0 non-null float64\n",
      "adjustment         1562745 non-null float64\n",
      "payment            1562745 non-null float64\n",
      "status             1562745 non-null int64\n",
      "createdOn          1562745 non-null object\n",
      "remarks            31089 non-null object\n",
      "lastupdated        1562745 non-null object\n",
      "updatedby          1562745 non-null int64\n",
      "bLava              1562745 non-null int64\n",
      "additional_type    1562721 non-null float64\n",
      "remake_id          1562745 non-null int64\n",
      "additional_id      1561800 non-null float64\n",
      "discount_amt       1300322 non-null float64\n",
      "priority           1562745 non-null int64\n",
      "tax_1              1300322 non-null float64\n",
      "tax_2              1300322 non-null float64\n",
      "enable_tax_1       1300322 non-null float64\n",
      "enable_tax_2       1300322 non-null float64\n",
      "enable_discount    1300322 non-null float64\n",
      "labName            1562745 non-null object\n",
      "dtypes: float64(16), int64(15), object(4)\n",
      "memory usage: 417.3+ MB\n"
     ]
    }
   ],
   "source": [
    "df_charging_items_soundtrackM2Z = pd.read_csv(\"data/union_charging_items_soundtrackM2Z.csv\")\n",
    "df_charging_items_soundtrackM2Z.info()"
   ]
  },
  {
   "cell_type": "code",
   "execution_count": 40,
   "metadata": {},
   "outputs": [],
   "source": [
    "df_charging_items = df_charging_items.append(df_charging_items_soundtrackM2Z, ignore_index=True)"
   ]
  },
  {
   "cell_type": "code",
   "execution_count": 41,
   "metadata": {},
   "outputs": [
    {
     "name": "stdout",
     "output_type": "stream",
     "text": [
      "<class 'pandas.core.frame.DataFrame'>\n",
      "RangeIndex: 11107949 entries, 0 to 11107948\n",
      "Data columns (total 35 columns):\n",
      "id                 int64\n",
      "ref_type           int64\n",
      "charge_ty          int64\n",
      "billing_item_id    int64\n",
      "case_id            int64\n",
      "case_item_id       int64\n",
      "ref_id             int64\n",
      "product_id         int64\n",
      "tooth_num          int64\n",
      "pricebook_id       int64\n",
      "material_id        float64\n",
      "unit_price         float64\n",
      "quantity           float64\n",
      "currency           float64\n",
      "discount           float64\n",
      "surcharge          float64\n",
      "adjustment         float64\n",
      "payment            float64\n",
      "status             int64\n",
      "createdOn          object\n",
      "remarks            object\n",
      "lastupdated        object\n",
      "updatedby          int64\n",
      "bLava              int64\n",
      "additional_type    float64\n",
      "remake_id          int64\n",
      "additional_id      float64\n",
      "discount_amt       float64\n",
      "priority           float64\n",
      "tax_1              float64\n",
      "tax_2              float64\n",
      "enable_tax_1       float64\n",
      "enable_tax_2       float64\n",
      "enable_discount    float64\n",
      "labName            object\n",
      "dtypes: float64(17), int64(14), object(4)\n",
      "memory usage: 2.9+ GB\n"
     ]
    }
   ],
   "source": [
    "df_charging_items.info()"
   ]
  },
  {
   "cell_type": "code",
   "execution_count": 43,
   "metadata": {},
   "outputs": [
    {
     "data": {
      "text/plain": [
       "id                        0\n",
       "ref_type                  0\n",
       "charge_ty                 0\n",
       "billing_item_id           0\n",
       "case_id                   0\n",
       "case_item_id              0\n",
       "ref_id                    0\n",
       "product_id                0\n",
       "tooth_num                 0\n",
       "pricebook_id              0\n",
       "material_id              40\n",
       "unit_price                0\n",
       "quantity                  0\n",
       "currency           11107949\n",
       "discount                  0\n",
       "surcharge          11107949\n",
       "adjustment                0\n",
       "payment                   0\n",
       "status                    0\n",
       "createdOn                 0\n",
       "remarks            10879106\n",
       "lastupdated               0\n",
       "updatedby                 0\n",
       "bLava                     0\n",
       "additional_type          40\n",
       "remake_id                 0\n",
       "additional_id          1575\n",
       "discount_amt         609894\n",
       "priority                  7\n",
       "tax_1                609894\n",
       "tax_2                609894\n",
       "enable_tax_1         609894\n",
       "enable_tax_2         609894\n",
       "enable_discount      609894\n",
       "labName                   0\n",
       "dtype: int64"
      ]
     },
     "execution_count": 43,
     "metadata": {},
     "output_type": "execute_result"
    }
   ],
   "source": [
    "df_charging_items.isnull().sum()"
   ]
  },
  {
   "cell_type": "code",
   "execution_count": null,
   "metadata": {},
   "outputs": [],
   "source": [
    "df_charging_items.currency.unique()"
   ]
  },
  {
   "cell_type": "code",
   "execution_count": 42,
   "metadata": {},
   "outputs": [],
   "source": [
    "# Save to csv\n",
    "df_charging_items.to_csv('data/charging_items_clean1.csv')"
   ]
  },
  {
   "cell_type": "markdown",
   "metadata": {},
   "source": [
    "### FIRST ROUND CLEANING 'union_all_billing_items.csv'"
   ]
  },
  {
   "cell_type": "code",
   "execution_count": null,
   "metadata": {},
   "outputs": [],
   "source": [
    "df_billing_items = pd.read_csv(\"data/union_all_billing_items.csv\")\n",
    "df_billing_items.head()"
   ]
  },
  {
   "cell_type": "code",
   "execution_count": null,
   "metadata": {},
   "outputs": [],
   "source": [
    "df_billing_items.info()"
   ]
  },
  {
   "cell_type": "code",
   "execution_count": null,
   "metadata": {},
   "outputs": [],
   "source": [
    "# Number of NaN values\n",
    "df_billing_items.isnull().sum()"
   ]
  },
  {
   "cell_type": "code",
   "execution_count": null,
   "metadata": {},
   "outputs": [],
   "source": [
    "# Drop 14 columns\n",
    "df_billing_items.drop('exrate', axis=1, inplace=True)\n",
    "df_billing_items.drop('currency', axis=1, inplace=True)\n",
    "df_billing_items.drop('material_id', axis=1, inplace=True)\n",
    "df_billing_items.drop('material_price', axis=1, inplace=True)\n",
    "df_billing_items.drop('material_quantity', axis=1, inplace=True)\n",
    "df_billing_items.drop('material_payment', axis=1, inplace=True)\n",
    "df_billing_items.drop('bValidated', axis=1, inplace=True)\n",
    "df_billing_items.drop('bill_charge_ty', axis=1, inplace=True)\n",
    "df_billing_items.drop('restoration_ty', axis=1, inplace=True)\n",
    "df_billing_items.drop('quantity', axis=1, inplace=True)\n",
    "df_billing_items.drop('descriptions', axis=1, inplace=True)\n",
    "df_billing_items.drop('case_change_id', axis=1, inplace=True)\n",
    "df_billing_items.drop('refund_id', axis=1, inplace=True)\n",
    "df_billing_items.drop('accepted_remarks', axis=1, inplace=True)"
   ]
  },
  {
   "cell_type": "code",
   "execution_count": null,
   "metadata": {},
   "outputs": [],
   "source": [
    "# Save to csv\n",
    "df_billing_items.to_csv('data/billing_items_clean1.csv')"
   ]
  },
  {
   "cell_type": "code",
   "execution_count": null,
   "metadata": {},
   "outputs": [],
   "source": []
  }
 ],
 "metadata": {
  "kernelspec": {
   "display_name": "Python 3",
   "language": "python",
   "name": "python3"
  },
  "language_info": {
   "codemirror_mode": {
    "name": "ipython",
    "version": 3
   },
   "file_extension": ".py",
   "mimetype": "text/x-python",
   "name": "python",
   "nbconvert_exporter": "python",
   "pygments_lexer": "ipython3",
   "version": "3.6.8"
  }
 },
 "nbformat": 4,
 "nbformat_minor": 2
}
