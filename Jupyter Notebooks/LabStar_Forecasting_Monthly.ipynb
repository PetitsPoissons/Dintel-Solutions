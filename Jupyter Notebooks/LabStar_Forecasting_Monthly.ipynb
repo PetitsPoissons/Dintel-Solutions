{
 "cells": [
  {
   "cell_type": "code",
   "execution_count": 1,
   "metadata": {},
   "outputs": [],
   "source": [
    "import warnings\n",
    "warnings.simplefilter('ignore')\n",
    "\n",
    "%matplotlib inline\n",
    "import numpy as np\n",
    "import pandas as pd\n",
    "from datetime import datetime\n",
    "from scipy import stats\n",
    "import statsmodels.api as sm\n",
    "import matplotlib.pyplot as plt\n",
    "import matplotlib.dates as mdates\n",
    "import matplotlib\n",
    "%matplotlib inline\n",
    "matplotlib.rcParams['figure.figsize'] = [12.0, 8.0]"
   ]
  },
  {
   "cell_type": "code",
   "execution_count": 2,
   "metadata": {},
   "outputs": [],
   "source": [
    "all = pd.read_csv(\"data/labstar_tableau.csv\")"
   ]
  },
  {
   "cell_type": "code",
   "execution_count": 3,
   "metadata": {},
   "outputs": [
    {
     "name": "stdout",
     "output_type": "stream",
     "text": [
      "<class 'pandas.core.frame.DataFrame'>\n",
      "RangeIndex: 10637773 entries, 0 to 10637772\n",
      "Data columns (total 44 columns):\n",
      "lab_name                       object\n",
      "subscriber_id                  int64\n",
      "subscriber_name                object\n",
      "subscriber_plan_id             int64\n",
      "nb_subscriber_features         int64\n",
      "subscriber_last_updated        object\n",
      "subscriber_plan_name           object\n",
      "case_id                        int64\n",
      "case_state                     float64\n",
      "case_created_on                object\n",
      "case_client_estimated_price    float64\n",
      "case_nb_other_products         float64\n",
      "client_id                      float64\n",
      "client_name                    object\n",
      "shipping_city                  object\n",
      "shipping_state                 object\n",
      "shipping_zipcode               object\n",
      "shipping_country_name          object\n",
      "shipping_country_code          object\n",
      "billing_city                   object\n",
      "billing_state                  object\n",
      "billing_zipcode                object\n",
      "billing_country_name           object\n",
      "billing_country_code           object\n",
      "unit_id                        float64\n",
      "unit_product_id                float64\n",
      "unit_tooth_num                 float64\n",
      "unit_tooth_type_oid            float64\n",
      "unit_crown_type                float64\n",
      "unit_created_on                object\n",
      "unit_last_updated              object\n",
      "unit_client_estimated_price    float64\n",
      "unit_nb_other_settings         float64\n",
      "unit_product_name              object\n",
      "unit_product_type_id           float64\n",
      "unit_product_type_name         object\n",
      "unit_tooth_type_label          object\n",
      "billing_item_amount            float64\n",
      "billing_item_payment           float64\n",
      "billing_item_status            float64\n",
      "charging_item_unit_price       float64\n",
      "charging_item_quantity         float64\n",
      "charging_item_status           float64\n",
      "billing_item_created_on        object\n",
      "dtypes: float64(18), int64(4), object(22)\n",
      "memory usage: 3.5+ GB\n"
     ]
    }
   ],
   "source": [
    "all.info()"
   ]
  },
  {
   "cell_type": "code",
   "execution_count": 4,
   "metadata": {},
   "outputs": [
    {
     "data": {
      "text/plain": [
       "lab_name                              0\n",
       "subscriber_id                         0\n",
       "subscriber_name                       0\n",
       "subscriber_plan_id                    0\n",
       "nb_subscriber_features                0\n",
       "subscriber_last_updated               0\n",
       "subscriber_plan_name                  0\n",
       "case_id                               0\n",
       "case_state                          142\n",
       "case_created_on                       0\n",
       "case_client_estimated_price         727\n",
       "case_nb_other_products         10128792\n",
       "client_id                            35\n",
       "client_name                          64\n",
       "shipping_city                      3336\n",
       "shipping_state                  1417618\n",
       "shipping_zipcode                1048347\n",
       "shipping_country_name             36280\n",
       "shipping_country_code             36380\n",
       "billing_city                     906221\n",
       "billing_state                   2132065\n",
       "billing_zipcode                 1794227\n",
       "billing_country_name             233045\n",
       "billing_country_code             233145\n",
       "unit_id                           52425\n",
       "unit_product_id                   52425\n",
       "unit_tooth_num                    52425\n",
       "unit_tooth_type_oid               52425\n",
       "unit_crown_type                   52425\n",
       "unit_created_on                   89582\n",
       "unit_last_updated                 52448\n",
       "unit_client_estimated_price       52658\n",
       "unit_nb_other_settings          9348159\n",
       "unit_product_name                 53564\n",
       "unit_product_type_id              53553\n",
       "unit_product_type_name            53553\n",
       "unit_tooth_type_label             52426\n",
       "billing_item_amount             1002088\n",
       "billing_item_payment            1002088\n",
       "billing_item_status             1002088\n",
       "charging_item_unit_price        1002088\n",
       "charging_item_quantity          1002088\n",
       "charging_item_status            1002088\n",
       "billing_item_created_on         1002088\n",
       "dtype: int64"
      ]
     },
     "execution_count": 4,
     "metadata": {},
     "output_type": "execute_result"
    }
   ],
   "source": [
    "all.isnull().sum()"
   ]
  },
  {
   "cell_type": "raw",
   "metadata": {},
   "source": [
    "all_reduced = all[['lab_name', 'subscriber_plan_id', 'subscriber_plan_name', 'nb_subscriber_features',\n",
    "              'case_id', 'unit_id', 'case_state', 'case_created_on', 'unit_last_updated',\n",
    "              'billing_item_created_on', 'unit_tooth_num', 'unit_tooth_type_oid', 'unit_tooth_type_label',\n",
    "              'unit_crown_type', 'unit_product_id', 'unit_product_name', 'unit_product_type_id',\n",
    "              'unit_product_type_name', 'unit_nb_other_settings', 'case_nb_other_products', 'client_id',\n",
    "              'client_name', 'shipping_zipcode']]"
   ]
  },
  {
   "cell_type": "code",
   "execution_count": 6,
   "metadata": {},
   "outputs": [],
   "source": [
    "all_reduced = all[['lab_name', 'case_id', 'unit_id', 'case_created_on']]"
   ]
  },
  {
   "cell_type": "code",
   "execution_count": 17,
   "metadata": {},
   "outputs": [],
   "source": [
    "all_reduced.drop_duplicates(keep='first', inplace=True)"
   ]
  },
  {
   "cell_type": "code",
   "execution_count": 18,
   "metadata": {},
   "outputs": [
    {
     "name": "stdout",
     "output_type": "stream",
     "text": [
      "<class 'pandas.core.frame.DataFrame'>\n",
      "Int64Index: 9467199 entries, 0 to 10637772\n",
      "Data columns (total 5 columns):\n",
      "lab_name           object\n",
      "case_id            int64\n",
      "unit_id            float64\n",
      "case_created_on    datetime64[ns]\n",
      "month              object\n",
      "dtypes: datetime64[ns](1), float64(1), int64(1), object(2)\n",
      "memory usage: 433.4+ MB\n"
     ]
    }
   ],
   "source": [
    "all_reduced.info()"
   ]
  },
  {
   "cell_type": "code",
   "execution_count": 24,
   "metadata": {},
   "outputs": [
    {
     "data": {
      "text/plain": [
       "lab_name               0\n",
       "case_id                0\n",
       "unit_id            52425\n",
       "case_created_on        0\n",
       "month                  0\n",
       "day                    0\n",
       "dtype: int64"
      ]
     },
     "execution_count": 24,
     "metadata": {},
     "output_type": "execute_result"
    }
   ],
   "source": [
    "all_reduced.isnull().sum()"
   ]
  },
  {
   "cell_type": "code",
   "execution_count": 12,
   "metadata": {},
   "outputs": [],
   "source": [
    "# Transform dtype where appropriate\n",
    "all_reduced['case_created_on'] = pd.to_datetime(all_reduced['case_created_on'])\n",
    "#all_reduced['billing_item_created_on'] = pd.to_datetime(all_reduced['billing_item_created_on'])"
   ]
  },
  {
   "cell_type": "code",
   "execution_count": 16,
   "metadata": {},
   "outputs": [
    {
     "data": {
      "text/html": [
       "<div>\n",
       "<style scoped>\n",
       "    .dataframe tbody tr th:only-of-type {\n",
       "        vertical-align: middle;\n",
       "    }\n",
       "\n",
       "    .dataframe tbody tr th {\n",
       "        vertical-align: top;\n",
       "    }\n",
       "\n",
       "    .dataframe thead th {\n",
       "        text-align: right;\n",
       "    }\n",
       "</style>\n",
       "<table border=\"1\" class=\"dataframe\">\n",
       "  <thead>\n",
       "    <tr style=\"text-align: right;\">\n",
       "      <th></th>\n",
       "      <th>case_created_on</th>\n",
       "      <th>month</th>\n",
       "    </tr>\n",
       "  </thead>\n",
       "  <tbody>\n",
       "    <tr>\n",
       "      <th>0</th>\n",
       "      <td>2017-06-28 18:48:08.793</td>\n",
       "      <td>2017-06</td>\n",
       "    </tr>\n",
       "    <tr>\n",
       "      <th>1</th>\n",
       "      <td>2017-06-28 18:48:08.793</td>\n",
       "      <td>2017-06</td>\n",
       "    </tr>\n",
       "    <tr>\n",
       "      <th>2</th>\n",
       "      <td>2017-06-28 18:48:08.793</td>\n",
       "      <td>2017-06</td>\n",
       "    </tr>\n",
       "    <tr>\n",
       "      <th>3</th>\n",
       "      <td>2017-06-29 12:43:38.153</td>\n",
       "      <td>2017-06</td>\n",
       "    </tr>\n",
       "    <tr>\n",
       "      <th>4</th>\n",
       "      <td>2017-06-29 12:43:38.153</td>\n",
       "      <td>2017-06</td>\n",
       "    </tr>\n",
       "  </tbody>\n",
       "</table>\n",
       "</div>"
      ],
      "text/plain": [
       "          case_created_on    month\n",
       "0 2017-06-28 18:48:08.793  2017-06\n",
       "1 2017-06-28 18:48:08.793  2017-06\n",
       "2 2017-06-28 18:48:08.793  2017-06\n",
       "3 2017-06-29 12:43:38.153  2017-06\n",
       "4 2017-06-29 12:43:38.153  2017-06"
      ]
     },
     "execution_count": 16,
     "metadata": {},
     "output_type": "execute_result"
    }
   ],
   "source": [
    "# Create column 'month'\n",
    "#all_reduced['month'] = all_reduced['case_created_on'].apply(lambda x: x.strftime('%Y-%m'))\n",
    "all_reduced[['case_created_on', 'month']].head()"
   ]
  },
  {
   "cell_type": "code",
   "execution_count": 19,
   "metadata": {},
   "outputs": [
    {
     "data": {
      "text/html": [
       "<div>\n",
       "<style scoped>\n",
       "    .dataframe tbody tr th:only-of-type {\n",
       "        vertical-align: middle;\n",
       "    }\n",
       "\n",
       "    .dataframe tbody tr th {\n",
       "        vertical-align: top;\n",
       "    }\n",
       "\n",
       "    .dataframe thead th {\n",
       "        text-align: right;\n",
       "    }\n",
       "</style>\n",
       "<table border=\"1\" class=\"dataframe\">\n",
       "  <thead>\n",
       "    <tr style=\"text-align: right;\">\n",
       "      <th></th>\n",
       "      <th>case_created_on</th>\n",
       "      <th>day</th>\n",
       "    </tr>\n",
       "  </thead>\n",
       "  <tbody>\n",
       "    <tr>\n",
       "      <th>0</th>\n",
       "      <td>2017-06-28 18:48:08.793</td>\n",
       "      <td>2017-06-28</td>\n",
       "    </tr>\n",
       "    <tr>\n",
       "      <th>1</th>\n",
       "      <td>2017-06-28 18:48:08.793</td>\n",
       "      <td>2017-06-28</td>\n",
       "    </tr>\n",
       "    <tr>\n",
       "      <th>2</th>\n",
       "      <td>2017-06-28 18:48:08.793</td>\n",
       "      <td>2017-06-28</td>\n",
       "    </tr>\n",
       "    <tr>\n",
       "      <th>3</th>\n",
       "      <td>2017-06-29 12:43:38.153</td>\n",
       "      <td>2017-06-29</td>\n",
       "    </tr>\n",
       "    <tr>\n",
       "      <th>4</th>\n",
       "      <td>2017-06-29 12:43:38.153</td>\n",
       "      <td>2017-06-29</td>\n",
       "    </tr>\n",
       "  </tbody>\n",
       "</table>\n",
       "</div>"
      ],
      "text/plain": [
       "          case_created_on         day\n",
       "0 2017-06-28 18:48:08.793  2017-06-28\n",
       "1 2017-06-28 18:48:08.793  2017-06-28\n",
       "2 2017-06-28 18:48:08.793  2017-06-28\n",
       "3 2017-06-29 12:43:38.153  2017-06-29\n",
       "4 2017-06-29 12:43:38.153  2017-06-29"
      ]
     },
     "execution_count": 19,
     "metadata": {},
     "output_type": "execute_result"
    }
   ],
   "source": [
    "# Create column 'day'\n",
    "all_reduced['day'] = all_reduced['case_created_on'].apply(lambda x: x.strftime('%Y-%m-%d'))\n",
    "all_reduced[['case_created_on', 'day']].head()"
   ]
  },
  {
   "cell_type": "code",
   "execution_count": 22,
   "metadata": {},
   "outputs": [
    {
     "data": {
      "text/plain": [
       "array(['2017-06', '2017-07', '2017-08', '2017-09', '2017-10', '2017-11',\n",
       "       '2017-12', '2018-01', '2018-02', '2018-03', '2018-04', '2018-05',\n",
       "       '2018-06', '2018-07', '2018-08', '2018-09', '2018-10', '2018-11',\n",
       "       '2018-12', '2019-01', '2019-02', '2019-03', '2019-04', '2019-05',\n",
       "       '2013-10', '2013-11', '2013-12', '2014-01', '2014-02', '2014-03',\n",
       "       '2014-04', '2014-05', '2014-06', '2014-07', '2014-08', '2014-09',\n",
       "       '2014-10', '2014-11', '2014-12', '2015-01', '2015-07', '2015-02',\n",
       "       '2015-03', '2015-09', '2015-05', '2015-04', '2015-06', '2015-10',\n",
       "       '2015-08', '2015-11', '2015-12', '2016-01', '2016-02', '2016-03',\n",
       "       '2016-04', '2016-05', '2016-06', '2016-07', '2016-08', '2016-09',\n",
       "       '2016-10', '2016-11', '2016-12', '2017-01', '2017-02', '2017-03',\n",
       "       '2017-04', '2017-05', '2012-08', '2012-07', '2012-09', '2012-10',\n",
       "       '2012-11', '2012-12', '2012-01', '2013-01', '2013-02', '2013-03',\n",
       "       '2013-04', '2013-05', '2013-06', '2013-07', '2013-08', '2013-09',\n",
       "       '2012-05', '2012-06', '2012-02', '2012-03', '2012-04', '2011-07',\n",
       "       '2011-08', '2011-09', '2011-10', '2011-11', '2011-12'],\n",
       "      dtype=object)"
      ]
     },
     "execution_count": 22,
     "metadata": {},
     "output_type": "execute_result"
    }
   ],
   "source": [
    "all_reduced.month.unique()"
   ]
  },
  {
   "cell_type": "code",
   "execution_count": 23,
   "metadata": {},
   "outputs": [],
   "source": [
    "# Save to csv\n",
    "all_reduced.to_csv('data/labstar_time_series_analysis_all_for_presentation.csv', index=False, header=True)"
   ]
  },
  {
   "cell_type": "markdown",
   "metadata": {},
   "source": [
    "# Perform time-series analysis on all cases and all units"
   ]
  },
  {
   "cell_type": "code",
   "execution_count": null,
   "metadata": {},
   "outputs": [],
   "source": [
    "# Load the data\n",
    "all_reduced = pd.read_csv(\"data/labstar_time_series_analysis_all_reduced.csv\")"
   ]
  },
  {
   "cell_type": "code",
   "execution_count": 29,
   "metadata": {},
   "outputs": [
    {
     "name": "stdout",
     "output_type": "stream",
     "text": [
      "<class 'pandas.core.frame.DataFrame'>\n",
      "Int64Index: 9414774 entries, 0 to 10637772\n",
      "Data columns (total 6 columns):\n",
      "lab_name           object\n",
      "case_id            int64\n",
      "unit_id            int64\n",
      "case_created_on    datetime64[ns]\n",
      "month              object\n",
      "day                object\n",
      "dtypes: datetime64[ns](1), int64(2), object(3)\n",
      "memory usage: 502.8+ MB\n"
     ]
    }
   ],
   "source": [
    "data = all_reduced\n",
    "data.info()"
   ]
  },
  {
   "cell_type": "code",
   "execution_count": 52,
   "metadata": {},
   "outputs": [],
   "source": [
    "data.drop_duplicates(keep='first', inplace=True)"
   ]
  },
  {
   "cell_type": "raw",
   "metadata": {},
   "source": [
    "data_units = data\n",
    "data_units.dropna(subset=['unit_id'], inplace=True)\n",
    "data_units.info()"
   ]
  },
  {
   "cell_type": "raw",
   "metadata": {},
   "source": [
    "# Fill NaN with placeholder -9999999 in 'unit_id'\n",
    "data_cases['unit_id'].fillna(-9999999, inplace = True)"
   ]
  },
  {
   "cell_type": "raw",
   "metadata": {},
   "source": [
    "data_cases['unit_id'] = data_cases['unit_id'].astype(np.int64)"
   ]
  },
  {
   "cell_type": "raw",
   "metadata": {},
   "source": [
    "df_cluster['delta_price_estimate'] = df_cluster.apply(lambda row: row['client_estimated_price'] - row['billing_item_amount']\n",
    "                                                     if row['billing_item_amount'] != -9999999 else -9999999, axis=1)\n",
    "df_cluster.head()"
   ]
  },
  {
   "cell_type": "code",
   "execution_count": 53,
   "metadata": {},
   "outputs": [
    {
     "name": "stdout",
     "output_type": "stream",
     "text": [
      "<class 'pandas.core.frame.DataFrame'>\n",
      "Int64Index: 9414774 entries, 0 to 10637772\n",
      "Data columns (total 6 columns):\n",
      "lab_name           object\n",
      "case_id            int64\n",
      "unit_id            int64\n",
      "case_created_on    datetime64[ns]\n",
      "month              object\n",
      "day                object\n",
      "dtypes: datetime64[ns](1), int64(2), object(3)\n",
      "memory usage: 502.8+ MB\n"
     ]
    }
   ],
   "source": [
    "data.info()"
   ]
  },
  {
   "cell_type": "code",
   "execution_count": 54,
   "metadata": {},
   "outputs": [
    {
     "data": {
      "text/plain": [
       "lab_name           0\n",
       "case_id            0\n",
       "unit_id            0\n",
       "case_created_on    0\n",
       "month              0\n",
       "day                0\n",
       "dtype: int64"
      ]
     },
     "execution_count": 54,
     "metadata": {},
     "output_type": "execute_result"
    }
   ],
   "source": [
    "data.isnull().sum()"
   ]
  },
  {
   "cell_type": "code",
   "execution_count": 28,
   "metadata": {},
   "outputs": [],
   "source": [
    "# Drop rows with no unit_id\n",
    "data.dropna(subset=['unit_id'], inplace=True)\n",
    "data['unit_id'] = data['unit_id'].astype(np.int64)"
   ]
  },
  {
   "cell_type": "raw",
   "metadata": {},
   "source": [
    "# Group by 'lab_name', 'month', 'day', 'case_id', 'unit_id'\n",
    "g_by_all = data.groupby(by=['lab_name', 'month', 'day', 'case_id', 'unit_id'], as_index=False)\n",
    "data_wanted = g_by_all.agg({'unit_tooth_num': 'count'})\n",
    "data_wanted.head()"
   ]
  },
  {
   "cell_type": "raw",
   "metadata": {},
   "source": [
    "data_wanted.info()"
   ]
  },
  {
   "cell_type": "raw",
   "metadata": {},
   "source": [
    "data_wanted.isnull().sum()"
   ]
  },
  {
   "cell_type": "code",
   "execution_count": 55,
   "metadata": {},
   "outputs": [
    {
     "data": {
      "text/html": [
       "<div>\n",
       "<style scoped>\n",
       "    .dataframe tbody tr th:only-of-type {\n",
       "        vertical-align: middle;\n",
       "    }\n",
       "\n",
       "    .dataframe tbody tr th {\n",
       "        vertical-align: top;\n",
       "    }\n",
       "\n",
       "    .dataframe thead th {\n",
       "        text-align: right;\n",
       "    }\n",
       "</style>\n",
       "<table border=\"1\" class=\"dataframe\">\n",
       "  <thead>\n",
       "    <tr style=\"text-align: right;\">\n",
       "      <th></th>\n",
       "      <th>lab_name</th>\n",
       "      <th>month</th>\n",
       "      <th>day</th>\n",
       "      <th>case_id</th>\n",
       "      <th>nb_units</th>\n",
       "    </tr>\n",
       "  </thead>\n",
       "  <tbody>\n",
       "    <tr>\n",
       "      <th>0</th>\n",
       "      <td>3DDENTALLABORATORIES</td>\n",
       "      <td>2017-06</td>\n",
       "      <td>2017-06-28</td>\n",
       "      <td>5</td>\n",
       "      <td>3</td>\n",
       "    </tr>\n",
       "    <tr>\n",
       "      <th>1</th>\n",
       "      <td>3DDENTALLABORATORIES</td>\n",
       "      <td>2017-06</td>\n",
       "      <td>2017-06-29</td>\n",
       "      <td>7</td>\n",
       "      <td>3</td>\n",
       "    </tr>\n",
       "    <tr>\n",
       "      <th>2</th>\n",
       "      <td>3DDENTALLABORATORIES</td>\n",
       "      <td>2017-06</td>\n",
       "      <td>2017-06-29</td>\n",
       "      <td>8</td>\n",
       "      <td>1</td>\n",
       "    </tr>\n",
       "    <tr>\n",
       "      <th>3</th>\n",
       "      <td>3DDENTALLABORATORIES</td>\n",
       "      <td>2017-06</td>\n",
       "      <td>2017-06-30</td>\n",
       "      <td>9</td>\n",
       "      <td>3</td>\n",
       "    </tr>\n",
       "    <tr>\n",
       "      <th>4</th>\n",
       "      <td>3DDENTALLABORATORIES</td>\n",
       "      <td>2017-06</td>\n",
       "      <td>2017-06-30</td>\n",
       "      <td>11</td>\n",
       "      <td>1</td>\n",
       "    </tr>\n",
       "  </tbody>\n",
       "</table>\n",
       "</div>"
      ],
      "text/plain": [
       "               lab_name    month         day  case_id  nb_units\n",
       "0  3DDENTALLABORATORIES  2017-06  2017-06-28        5         3\n",
       "1  3DDENTALLABORATORIES  2017-06  2017-06-29        7         3\n",
       "2  3DDENTALLABORATORIES  2017-06  2017-06-29        8         1\n",
       "3  3DDENTALLABORATORIES  2017-06  2017-06-30        9         3\n",
       "4  3DDENTALLABORATORIES  2017-06  2017-06-30       11         1"
      ]
     },
     "execution_count": 55,
     "metadata": {},
     "output_type": "execute_result"
    }
   ],
   "source": [
    "# Group by 'lab_name', 'month', 'day', 'case_id'\n",
    "g_by_cases = data.groupby(by=['lab_name', 'month', 'day', 'case_id'], as_index=False)\n",
    "data_by_cases = g_by_cases.agg({'unit_id': 'count'})\n",
    "data_by_cases.rename(columns={'unit_id': 'nb_units'}, inplace=True)\n",
    "data_by_cases.head()"
   ]
  },
  {
   "cell_type": "code",
   "execution_count": 56,
   "metadata": {},
   "outputs": [
    {
     "name": "stdout",
     "output_type": "stream",
     "text": [
      "<class 'pandas.core.frame.DataFrame'>\n",
      "Int64Index: 5904296 entries, 0 to 5904295\n",
      "Data columns (total 5 columns):\n",
      "lab_name    object\n",
      "month       object\n",
      "day         object\n",
      "case_id     int64\n",
      "nb_units    int64\n",
      "dtypes: int64(2), object(3)\n",
      "memory usage: 270.3+ MB\n"
     ]
    }
   ],
   "source": [
    "data_by_cases.info()"
   ]
  },
  {
   "cell_type": "code",
   "execution_count": 57,
   "metadata": {},
   "outputs": [
    {
     "data": {
      "text/html": [
       "<div>\n",
       "<style scoped>\n",
       "    .dataframe tbody tr th:only-of-type {\n",
       "        vertical-align: middle;\n",
       "    }\n",
       "\n",
       "    .dataframe tbody tr th {\n",
       "        vertical-align: top;\n",
       "    }\n",
       "\n",
       "    .dataframe thead th {\n",
       "        text-align: right;\n",
       "    }\n",
       "</style>\n",
       "<table border=\"1\" class=\"dataframe\">\n",
       "  <thead>\n",
       "    <tr style=\"text-align: right;\">\n",
       "      <th></th>\n",
       "      <th>case_id</th>\n",
       "      <th>nb_units</th>\n",
       "    </tr>\n",
       "  </thead>\n",
       "  <tbody>\n",
       "    <tr>\n",
       "      <th>count</th>\n",
       "      <td>5.904296e+06</td>\n",
       "      <td>5.904296e+06</td>\n",
       "    </tr>\n",
       "    <tr>\n",
       "      <th>mean</th>\n",
       "      <td>2.356408e+04</td>\n",
       "      <td>1.594563e+00</td>\n",
       "    </tr>\n",
       "    <tr>\n",
       "      <th>std</th>\n",
       "      <td>2.717662e+04</td>\n",
       "      <td>1.809069e+00</td>\n",
       "    </tr>\n",
       "    <tr>\n",
       "      <th>min</th>\n",
       "      <td>1.000000e+00</td>\n",
       "      <td>1.000000e+00</td>\n",
       "    </tr>\n",
       "    <tr>\n",
       "      <th>25%</th>\n",
       "      <td>5.017000e+03</td>\n",
       "      <td>1.000000e+00</td>\n",
       "    </tr>\n",
       "    <tr>\n",
       "      <th>50%</th>\n",
       "      <td>1.365400e+04</td>\n",
       "      <td>1.000000e+00</td>\n",
       "    </tr>\n",
       "    <tr>\n",
       "      <th>75%</th>\n",
       "      <td>3.231100e+04</td>\n",
       "      <td>1.000000e+00</td>\n",
       "    </tr>\n",
       "    <tr>\n",
       "      <th>max</th>\n",
       "      <td>1.708730e+05</td>\n",
       "      <td>9.600000e+01</td>\n",
       "    </tr>\n",
       "  </tbody>\n",
       "</table>\n",
       "</div>"
      ],
      "text/plain": [
       "            case_id      nb_units\n",
       "count  5.904296e+06  5.904296e+06\n",
       "mean   2.356408e+04  1.594563e+00\n",
       "std    2.717662e+04  1.809069e+00\n",
       "min    1.000000e+00  1.000000e+00\n",
       "25%    5.017000e+03  1.000000e+00\n",
       "50%    1.365400e+04  1.000000e+00\n",
       "75%    3.231100e+04  1.000000e+00\n",
       "max    1.708730e+05  9.600000e+01"
      ]
     },
     "execution_count": 57,
     "metadata": {},
     "output_type": "execute_result"
    }
   ],
   "source": [
    "data_by_cases.describe()"
   ]
  },
  {
   "cell_type": "code",
   "execution_count": 58,
   "metadata": {},
   "outputs": [
    {
     "data": {
      "text/html": [
       "<div>\n",
       "<style scoped>\n",
       "    .dataframe tbody tr th:only-of-type {\n",
       "        vertical-align: middle;\n",
       "    }\n",
       "\n",
       "    .dataframe tbody tr th {\n",
       "        vertical-align: top;\n",
       "    }\n",
       "\n",
       "    .dataframe thead th {\n",
       "        text-align: right;\n",
       "    }\n",
       "</style>\n",
       "<table border=\"1\" class=\"dataframe\">\n",
       "  <thead>\n",
       "    <tr style=\"text-align: right;\">\n",
       "      <th></th>\n",
       "      <th>lab_name</th>\n",
       "      <th>month</th>\n",
       "      <th>day</th>\n",
       "      <th>nb_cases</th>\n",
       "      <th>nb_units</th>\n",
       "    </tr>\n",
       "  </thead>\n",
       "  <tbody>\n",
       "    <tr>\n",
       "      <th>0</th>\n",
       "      <td>3DDENTALLABORATORIES</td>\n",
       "      <td>2017-06</td>\n",
       "      <td>2017-06-28</td>\n",
       "      <td>1</td>\n",
       "      <td>3</td>\n",
       "    </tr>\n",
       "    <tr>\n",
       "      <th>1</th>\n",
       "      <td>3DDENTALLABORATORIES</td>\n",
       "      <td>2017-06</td>\n",
       "      <td>2017-06-29</td>\n",
       "      <td>2</td>\n",
       "      <td>4</td>\n",
       "    </tr>\n",
       "    <tr>\n",
       "      <th>2</th>\n",
       "      <td>3DDENTALLABORATORIES</td>\n",
       "      <td>2017-06</td>\n",
       "      <td>2017-06-30</td>\n",
       "      <td>12</td>\n",
       "      <td>17</td>\n",
       "    </tr>\n",
       "    <tr>\n",
       "      <th>3</th>\n",
       "      <td>3DDENTALLABORATORIES</td>\n",
       "      <td>2017-07</td>\n",
       "      <td>2017-07-03</td>\n",
       "      <td>8</td>\n",
       "      <td>9</td>\n",
       "    </tr>\n",
       "    <tr>\n",
       "      <th>4</th>\n",
       "      <td>3DDENTALLABORATORIES</td>\n",
       "      <td>2017-07</td>\n",
       "      <td>2017-07-05</td>\n",
       "      <td>4</td>\n",
       "      <td>4</td>\n",
       "    </tr>\n",
       "  </tbody>\n",
       "</table>\n",
       "</div>"
      ],
      "text/plain": [
       "               lab_name    month         day  nb_cases  nb_units\n",
       "0  3DDENTALLABORATORIES  2017-06  2017-06-28         1         3\n",
       "1  3DDENTALLABORATORIES  2017-06  2017-06-29         2         4\n",
       "2  3DDENTALLABORATORIES  2017-06  2017-06-30        12        17\n",
       "3  3DDENTALLABORATORIES  2017-07  2017-07-03         8         9\n",
       "4  3DDENTALLABORATORIES  2017-07  2017-07-05         4         4"
      ]
     },
     "execution_count": 58,
     "metadata": {},
     "output_type": "execute_result"
    }
   ],
   "source": [
    "# Group by 'lab_name', 'month', 'day'\n",
    "g_by_day = data_by_cases.groupby(by=['lab_name', 'month', 'day'], as_index=False)\n",
    "data_daily = g_by_day.agg({'case_id': 'count', 'nb_units': 'sum'})\n",
    "data_daily.rename(columns={'case_id': 'nb_cases'}, inplace=True)\n",
    "data_daily.head()"
   ]
  },
  {
   "cell_type": "code",
   "execution_count": 64,
   "metadata": {},
   "outputs": [
    {
     "name": "stdout",
     "output_type": "stream",
     "text": [
      "<class 'pandas.core.frame.DataFrame'>\n",
      "Int64Index: 289002 entries, 0 to 289001\n",
      "Data columns (total 4 columns):\n",
      "lab_name    289002 non-null object\n",
      "day         289002 non-null object\n",
      "nb_cases    289002 non-null int64\n",
      "nb_units    289002 non-null int64\n",
      "dtypes: int64(2), object(2)\n",
      "memory usage: 11.0+ MB\n"
     ]
    }
   ],
   "source": [
    "data_daily.info()"
   ]
  },
  {
   "cell_type": "code",
   "execution_count": 60,
   "metadata": {},
   "outputs": [
    {
     "data": {
      "text/html": [
       "<div>\n",
       "<style scoped>\n",
       "    .dataframe tbody tr th:only-of-type {\n",
       "        vertical-align: middle;\n",
       "    }\n",
       "\n",
       "    .dataframe tbody tr th {\n",
       "        vertical-align: top;\n",
       "    }\n",
       "\n",
       "    .dataframe thead th {\n",
       "        text-align: right;\n",
       "    }\n",
       "</style>\n",
       "<table border=\"1\" class=\"dataframe\">\n",
       "  <thead>\n",
       "    <tr style=\"text-align: right;\">\n",
       "      <th></th>\n",
       "      <th>nb_cases</th>\n",
       "      <th>nb_units</th>\n",
       "    </tr>\n",
       "  </thead>\n",
       "  <tbody>\n",
       "    <tr>\n",
       "      <th>count</th>\n",
       "      <td>289002.000000</td>\n",
       "      <td>289002.000000</td>\n",
       "    </tr>\n",
       "    <tr>\n",
       "      <th>mean</th>\n",
       "      <td>20.429949</td>\n",
       "      <td>32.576847</td>\n",
       "    </tr>\n",
       "    <tr>\n",
       "      <th>std</th>\n",
       "      <td>26.869866</td>\n",
       "      <td>42.485713</td>\n",
       "    </tr>\n",
       "    <tr>\n",
       "      <th>min</th>\n",
       "      <td>1.000000</td>\n",
       "      <td>1.000000</td>\n",
       "    </tr>\n",
       "    <tr>\n",
       "      <th>25%</th>\n",
       "      <td>5.000000</td>\n",
       "      <td>7.000000</td>\n",
       "    </tr>\n",
       "    <tr>\n",
       "      <th>50%</th>\n",
       "      <td>12.000000</td>\n",
       "      <td>18.000000</td>\n",
       "    </tr>\n",
       "    <tr>\n",
       "      <th>75%</th>\n",
       "      <td>26.000000</td>\n",
       "      <td>41.000000</td>\n",
       "    </tr>\n",
       "    <tr>\n",
       "      <th>max</th>\n",
       "      <td>512.000000</td>\n",
       "      <td>639.000000</td>\n",
       "    </tr>\n",
       "  </tbody>\n",
       "</table>\n",
       "</div>"
      ],
      "text/plain": [
       "            nb_cases       nb_units\n",
       "count  289002.000000  289002.000000\n",
       "mean       20.429949      32.576847\n",
       "std        26.869866      42.485713\n",
       "min         1.000000       1.000000\n",
       "25%         5.000000       7.000000\n",
       "50%        12.000000      18.000000\n",
       "75%        26.000000      41.000000\n",
       "max       512.000000     639.000000"
      ]
     },
     "execution_count": 60,
     "metadata": {},
     "output_type": "execute_result"
    }
   ],
   "source": [
    "data_daily.describe()"
   ]
  },
  {
   "cell_type": "code",
   "execution_count": 61,
   "metadata": {},
   "outputs": [],
   "source": [
    "data_daily.drop('month', axis=1, inplace=True)"
   ]
  },
  {
   "cell_type": "code",
   "execution_count": 62,
   "metadata": {},
   "outputs": [],
   "source": [
    "data_daily.drop_duplicates(keep='first', inplace=True)"
   ]
  },
  {
   "cell_type": "code",
   "execution_count": 65,
   "metadata": {},
   "outputs": [
    {
     "data": {
      "text/html": [
       "<div>\n",
       "<style scoped>\n",
       "    .dataframe tbody tr th:only-of-type {\n",
       "        vertical-align: middle;\n",
       "    }\n",
       "\n",
       "    .dataframe tbody tr th {\n",
       "        vertical-align: top;\n",
       "    }\n",
       "\n",
       "    .dataframe thead th {\n",
       "        text-align: right;\n",
       "    }\n",
       "</style>\n",
       "<table border=\"1\" class=\"dataframe\">\n",
       "  <thead>\n",
       "    <tr style=\"text-align: right;\">\n",
       "      <th></th>\n",
       "      <th>lab_name</th>\n",
       "      <th>day</th>\n",
       "      <th>nb_cases</th>\n",
       "      <th>nb_units</th>\n",
       "    </tr>\n",
       "  </thead>\n",
       "  <tbody>\n",
       "    <tr>\n",
       "      <th>0</th>\n",
       "      <td>3DDENTALLABORATORIES</td>\n",
       "      <td>2017-06-28</td>\n",
       "      <td>1</td>\n",
       "      <td>3</td>\n",
       "    </tr>\n",
       "    <tr>\n",
       "      <th>1</th>\n",
       "      <td>3DDENTALLABORATORIES</td>\n",
       "      <td>2017-06-29</td>\n",
       "      <td>2</td>\n",
       "      <td>4</td>\n",
       "    </tr>\n",
       "    <tr>\n",
       "      <th>2</th>\n",
       "      <td>3DDENTALLABORATORIES</td>\n",
       "      <td>2017-06-30</td>\n",
       "      <td>12</td>\n",
       "      <td>17</td>\n",
       "    </tr>\n",
       "    <tr>\n",
       "      <th>3</th>\n",
       "      <td>3DDENTALLABORATORIES</td>\n",
       "      <td>2017-07-03</td>\n",
       "      <td>8</td>\n",
       "      <td>9</td>\n",
       "    </tr>\n",
       "    <tr>\n",
       "      <th>4</th>\n",
       "      <td>3DDENTALLABORATORIES</td>\n",
       "      <td>2017-07-05</td>\n",
       "      <td>4</td>\n",
       "      <td>4</td>\n",
       "    </tr>\n",
       "  </tbody>\n",
       "</table>\n",
       "</div>"
      ],
      "text/plain": [
       "               lab_name         day  nb_cases  nb_units\n",
       "0  3DDENTALLABORATORIES  2017-06-28         1         3\n",
       "1  3DDENTALLABORATORIES  2017-06-29         2         4\n",
       "2  3DDENTALLABORATORIES  2017-06-30        12        17\n",
       "3  3DDENTALLABORATORIES  2017-07-03         8         9\n",
       "4  3DDENTALLABORATORIES  2017-07-05         4         4"
      ]
     },
     "execution_count": 65,
     "metadata": {},
     "output_type": "execute_result"
    }
   ],
   "source": [
    "#data_daily.reset_index(inplace=True)\n",
    "data_daily.rename(columns={'index': 'id'}, inplace=True)\n",
    "data_daily.head()"
   ]
  },
  {
   "cell_type": "code",
   "execution_count": 50,
   "metadata": {},
   "outputs": [
    {
     "name": "stdout",
     "output_type": "stream",
     "text": [
      "<class 'pandas.core.frame.DataFrame'>\n",
      "RangeIndex: 289002 entries, 0 to 289001\n",
      "Data columns (total 5 columns):\n",
      "id          289002 non-null int64\n",
      "lab_name    289002 non-null object\n",
      "day         289002 non-null datetime64[ns]\n",
      "nb_cases    289002 non-null int64\n",
      "nb_units    289002 non-null int64\n",
      "dtypes: datetime64[ns](1), int64(3), object(1)\n",
      "memory usage: 11.0+ MB\n"
     ]
    }
   ],
   "source": [
    "data_daily['day'] = pd.to_datetime(data_daily['day'])\n",
    "data_daily.info()"
   ]
  },
  {
   "cell_type": "code",
   "execution_count": 66,
   "metadata": {},
   "outputs": [
    {
     "name": "stdout",
     "output_type": "stream",
     "text": [
      "<class 'pandas.core.frame.DataFrame'>\n",
      "Int64Index: 289002 entries, 0 to 289001\n",
      "Data columns (total 4 columns):\n",
      "lab_name    289002 non-null object\n",
      "day         289002 non-null object\n",
      "nb_cases    289002 non-null int64\n",
      "nb_units    289002 non-null int64\n",
      "dtypes: int64(2), object(2)\n",
      "memory usage: 11.0+ MB\n"
     ]
    }
   ],
   "source": [
    "data_daily.info()"
   ]
  },
  {
   "cell_type": "code",
   "execution_count": 48,
   "metadata": {},
   "outputs": [],
   "source": [
    "# Save to csv\n",
    "data_daily.to_csv('data/data_time_series_analysis_forecasting_daily.csv', index=False, header=True)\n"
   ]
  },
  {
   "cell_type": "markdown",
   "metadata": {},
   "source": [
    "# Anonymize lab_name"
   ]
  },
  {
   "cell_type": "code",
   "execution_count": 16,
   "metadata": {},
   "outputs": [
    {
     "name": "stdout",
     "output_type": "stream",
     "text": [
      "<class 'pandas.core.frame.DataFrame'>\n",
      "RangeIndex: 289002 entries, 0 to 289001\n",
      "Data columns (total 5 columns):\n",
      "id          289002 non-null int64\n",
      "lab_name    289002 non-null object\n",
      "day         289002 non-null object\n",
      "nb_cases    289002 non-null int64\n",
      "nb_units    289002 non-null int64\n",
      "dtypes: int64(3), object(2)\n",
      "memory usage: 11.0+ MB\n"
     ]
    }
   ],
   "source": [
    "# Load data\n",
    "df = pd.read_csv('data/data_time_series_analysis_forecasting_daily.csv')\n",
    "df.info()"
   ]
  },
  {
   "cell_type": "code",
   "execution_count": 11,
   "metadata": {},
   "outputs": [
    {
     "data": {
      "text/plain": [
       "array(['3DDENTALLABORATORIES', '3DENTAL', '3DLABSMT', '3LLABORATORIES',\n",
       "       'AAA', 'AADENTALDESIGN', 'ADARDN', 'ADC', 'ADI', 'ADL', 'ADVANCED',\n",
       "       'ADVANCEDDENTALLAB', 'AESTHETIC', 'AESTHETICSOLUTIONS', 'AFX',\n",
       "       'AIRWAYCENTRICORTHOTICS', 'ALCADENT', 'ALLGOOD', 'ALOHADENTALLAB',\n",
       "       'ANTEK', 'APEXDENTAL', 'APEXDENTALMILLING_1', 'APEXLABORATOIRE',\n",
       "       'APLUSDENTALLAB_1', 'ARCHFORM', 'ARCHWORKS', 'ARDDENTTEC', 'ARIA',\n",
       "       'ARIZONADENTURESPLUS', 'ARLABS', 'ARROWLIGN', 'ARTDENTAL',\n",
       "       'ARTDENTALLAB', 'ARTFUNCTIONDENTAL', 'ARTISANDENTAL', 'ARTISAN_1',\n",
       "       'ARTISTIC', 'AUTUMNDENTALLAB', 'AVANEER', 'AVESTADENTALARTS',\n",
       "       'AZZTECH', 'BALLARDDENTALLAB', 'BALLARDDENTALLABKY', 'BARAN',\n",
       "       'BAYCROWN', 'BAYTOBAY', 'BDADENTALSTUDIO_1',\n",
       "       'BELLAVITADENTALDESIGNS', 'BESTVALUEDENTALDESIGNS',\n",
       "       'BLUEBOXDENTAL', 'BLUECHOICELABS', 'BLU_DENTAL_LAB', 'BOGEN',\n",
       "       'BOSKLAB', 'BOTANYDENTALLAB', 'BRIANTRACEY', 'BRIGHTONDENTALLAB',\n",
       "       'BROADWAYDENTALLAB', 'BROTHERSDENTALLAB', 'BRYCECANYON',\n",
       "       'BUCHERDENTALLAB', 'BVDL', 'BYDESIGN', 'CADDENTALDESIGNS',\n",
       "       'CADTECHDESIGNS', 'CAMMILLING', 'CANDPDENTAL', 'CAPTUREDENTALARTS',\n",
       "       'CARROLL', 'CCB', 'CDI', 'CDISCIENCE', 'CEFRAT', 'CENTEXDL',\n",
       "       'CERAMICSWEST', 'CERAMISTAR', 'CERAMTECH', 'CERAMTEK',\n",
       "       'CERECSEMINARS', 'CERTIFIEDDENTAL', 'CHAMPIONSCROWNANDBRIDGE',\n",
       "       'CIA', 'CIDL', 'CLEARALIGNERLAB', 'CLEARCHOICE',\n",
       "       'COLEMANDENTALLAB', 'CONFIDENTAL', 'COREMILLINGCENTER',\n",
       "       'COSMEPROSTHETICS', 'COSMETICADVANTAGE', 'COSMETICDENTALARTISTRY',\n",
       "       'COSTAAESTHETICSLABORATORIES', 'CREO28', 'CRNDENTAL', 'CRNLINK',\n",
       "       'CROWNCREATIONS', 'CROWNDENTALSERVICES', 'CUSTOMDENTURELAB',\n",
       "       'CUSTOMDIRECT', 'CYPRESS', 'DANDALAB', 'DANSODENTALLAB', 'DASC',\n",
       "       'DDALAB', 'DDDL', 'DDDLSOUTHEAST', 'DDENTLABS', 'DDSCARIBBEANLAB',\n",
       "       'DDSLABORATORY', 'DDSSELECT', 'DELICATEDENTALLAB',\n",
       "       'DENTALASSOCIATESLAB', 'DENTALCADSTUDIO', 'DENTALCERAMICSUSA',\n",
       "       'DENTALDYNAMICS', 'DENTALLAB1', 'DENTETECH', 'DENTURECARECENTER',\n",
       "       'DENTUREPRESS', 'DES', 'DESIGNLAB', 'DEUCEONEDENTALLAB',\n",
       "       'DEUTSCHLAB', 'DIABLODENTALARTS', 'DIGIDENT', 'DIGITALCENTER',\n",
       "       'DIGITALCERAMICS', 'DIGITALDENTALLAB', 'DIGITALDESIGNSDL',\n",
       "       'DIGITALMASTERS', 'DIGITALMILLING', 'DILDENTALLAB', 'DOCTECH',\n",
       "       'DONSING', 'DOXELLAB', 'DPS', 'DREAMSYSTEMSDENTALLAB', 'DWLABINC',\n",
       "       'ECDL', 'ECLIPSEDENTAL', 'ECODENT', 'EDCDENTALLAB',\n",
       "       'ELEVATEDDENTALDESIGNS', 'ELITE', 'ELITEDENTALSTUDIO', 'ELITETECH',\n",
       "       'ELLEJORDAN', 'EMERALDDENTALLAB', 'ERDENTALLABORATORY',\n",
       "       'ESSENTIALTEXAS', 'ESSEXDENTALLABORATORY', 'ESTHETIC',\n",
       "       'ESTHETICALLIANCE', 'EVANSDENTALLAB', 'EVERYONESFAMILY', 'EVOCAD',\n",
       "       'EVOLUTIONDENTAL', 'EVOLUTIONDENTALSTUDIO', 'EXODUSDENTALSOLUTION',\n",
       "       'FABDENT', 'FAGERDENTALLAB', 'FLAHERTYDENTALLAB',\n",
       "       'FORRISTERDENTAL', 'FORTDENTALLAB', 'FOTIDENTALLAB', 'FOUNTAIN',\n",
       "       'FRAZIERORTHOLABS', 'GARDENCOURT', 'GCDL', 'GCSDENTALLAB', 'GDN',\n",
       "       'GENESISDENTALESTHETICS', 'GENTLEDENTISTRYLLC', 'GEODENT',\n",
       "       'GERGENSORTHO', 'GERGENSSLEEP', 'GETDONENONE',\n",
       "       'GLOBALORTHODONTICDESIGN', 'GOLABDENTAL', 'GOLPADENTALLAB',\n",
       "       'GREATBASINDENTALLAB', 'GROSSMONT', 'HANA',\n",
       "       'HARMONYDENTALCREATIONS', 'HDL', 'HEALTHSTAR', 'HERITAGEDENTALLAB',\n",
       "       'HERO', 'HERODENT', 'HIBISCUSDENTAL', 'HIGHCOUNTRY',\n",
       "       'HIGHLANDDENTALNM', 'HIOSSEN', 'HNRGI', 'HOCKELDENTALLAB',\n",
       "       'HODGINDENTALLAB', 'HOPETOWN', 'HOPETOWNCS', 'HRDENTALSTUDIO',\n",
       "       'HTL', 'HUDECDENTAL', 'HVDP', 'HYBRIDTECH', 'HYDEDENTAL',\n",
       "       'IANTODENTALSTUDIO', 'IDEASDENTALES', 'IDENTALSTUDIOS',\n",
       "       'IDENTICALDENTALLAB', 'IDTCLAB', 'IKONDENTAL', 'IMAGE',\n",
       "       'IMAGEDENTAL', 'IMILLING', 'IMILLINGDOD', 'IMPERIAL',\n",
       "       'IMPLANTGENIUS', 'INFINIA', 'INFINITI', 'INFINITY', 'INSPIRATO',\n",
       "       'INTERCHROME', 'INTUITIVE', 'ISLANDVIEWDENTALLABORATORY', 'ISMILE',\n",
       "       'ITECDENTAL', 'IZIRCONIALAB', 'JACKSONSLAB', 'JAMESB',\n",
       "       'JARVISDENTALLAB', 'JAYLOR', 'JBDENTALSTUDIO', 'JETLAB',\n",
       "       'JFDENTALARTSINC', 'JRDENTALLAB', 'JUDENTALLAB', 'JURIMDENTAL',\n",
       "       'JUSTICEDENTALARTS', 'JWDC', 'JZ', 'K2', 'KAIHAMBALABOR', 'KAIROS',\n",
       "       'KAPOSDENTART', 'KENNEDYDENTAL', 'KINETIC', 'KP28DENTALLABORATORY',\n",
       "       'LABCERAMICADENTAL', 'LABOSMILEUSA', 'LABVISION', 'LAFAYETTE',\n",
       "       'LAKEWOOD', 'LARRYSLAB', 'LASVEGASESTHETICS', 'LAVAN', 'LDL_1',\n",
       "       'LEBEAUDENTAL', 'LEEDENTALSTUDIO', 'LEGACYDENTAL', 'LIBERTY',\n",
       "       'LIGHTHOUSE', 'LIGHTNINGDENTALVA', 'LINTECDENTAL',\n",
       "       'LONGHORNDENTALLAB', 'LONGLEAF', 'LOSTARTACRYLICS', 'LUIGI',\n",
       "       'LUMIDENTAL', 'LUMIDENTALHK', 'MADDDENTALLAB', 'MARKO',\n",
       "       'MARTINCERAMICARTS', 'MASTERSARCH', 'MAXFACS', 'MAXXDIGM',\n",
       "       'MCTECH', 'MDL', 'MEDICALTOURSCOMPANY', 'MEDIVAR', 'METROLINA',\n",
       "       'MICRODENTLAB', 'MIDSOUTH', 'MIDWAY', 'MINNESOTA', 'MINT',\n",
       "       'MISTDENTAL', 'MOLINAWATSON', 'MOTORCITYLABWORKS',\n",
       "       'MOUNTAINDENTAL', 'MRM', 'MYLESDENTAL', 'MYOLAB',\n",
       "       'NATURALARTDENTALLABORATORYLLC', 'NATURALDENTALARTS',\n",
       "       'NATURALLINES', 'NATURALSTYLEDENTALLAB', 'NATURESSMILES',\n",
       "       'NAVADENTALLAB', 'NEWERADA', 'NEWLIFETEETH', 'NEXTDENTALLAB',\n",
       "       'NGSMILES', 'NLVPRECISIONDENTALLAB', 'NORTHBROOK',\n",
       "       'NORTHWESTDENTALARTS', 'NOVUSDENT', 'NUCRAFTDENTAL',\n",
       "       'OCEANICDENTAL', 'OCEANICDENTALLAB', 'OMNITEK', 'ORALDYNAMICS',\n",
       "       'ORALLOGIC', 'ORALTEK', 'ORTHOGOGO', 'ORTHOIMAGEN', 'ORTHOSNAP',\n",
       "       'ORTHOTICS', 'OSSTEM_NEW', 'PADL', 'PARAMOUNT', 'PDA', 'PDAPC',\n",
       "       'PDC', 'PDCI', 'PDL', 'PEARL', 'PEARLDENTAL',\n",
       "       'PERFECTIONARTSDENTALLAB', 'PERFIT', 'PFDENTALLAB',\n",
       "       'PHOENICIANDENTAL', 'PICTUREPERFECT', 'PIZZI', 'PMC', 'PRDENTAL',\n",
       "       'PRECISIONDENTALAK', 'PRECISIONGUIDESOLUTION',\n",
       "       'PRESTIGEDENTALSTUDIO', 'PRIMEDENTALLAB', 'PRIMO',\n",
       "       'PROACTIVEDENTALLAB', 'PROARTSDENTAL', 'PRODENTDIGILAB',\n",
       "       'PRODONTICLABORATORIES', 'PROESTHETICS', 'PROFESSIONAL',\n",
       "       'PROFESSIONALDENTALLAB', 'PROFESSIONALDENTALLABORATORY',\n",
       "       'PROGENICDENTALLAB', 'PROPRECISIONGUIDES', 'PROREST', 'QUALIDENT',\n",
       "       'QUALITYDENTALARTS', 'QUALITYDENTALLAB', 'QVISTROMSDENTAL',\n",
       "       'RADIANT', 'RAM', 'RAYVENLAB', 'REDROCK', 'REJUVENEER',\n",
       "       'RESILIENTSMILES', 'RESTORDENTALLAB', 'REVEALDIAGNOSTICS',\n",
       "       'REVOLUTION', 'REVOLUTIONDENTAL', 'RGK', 'RGPRECISIONDENTALARTS',\n",
       "       'RIDENTDENTALSTUDIO', 'RIDGELINE', 'RIGODENTAL', 'RIVERDESIGNS',\n",
       "       'RMDA', 'ROGERDENTALLAB', 'RVDALAB', 'RYDER_DENTAL_LAB', 'RYMAC',\n",
       "       'SAGEDENTAL', 'SAKILAB', 'SAKRDENTALARTS', 'SALTLAKE', 'SANDC',\n",
       "       'SCHACKDENTALCERAMIC', 'SCHWEITZERDENTAL', 'SCULPTEC', 'SCULPTURE',\n",
       "       'SDT', 'SEABROOK', 'SEATTLEDENTALARTS', 'SELECTDENTALLAB',\n",
       "       'SELSERDENTAL', 'SENTRYDENTALLAB', 'SHIKENMANILA', 'SHINELLI',\n",
       "       'SIERRADENTALARTS', 'SIIDADENTAL', 'SIMPLYDENTURESDENTALLAB',\n",
       "       'SKINNERDENTALLAB', 'SKYDENTALLAB', 'SKYLAB', 'SMARTECHDENTAL',\n",
       "       'SMARTLAB', 'SMILECLINICS', 'SMILESOFNY', 'SMILEWORKS',\n",
       "       'SOLARISDENTAL', 'SORRENTOSMILES', 'SPARTANDENTALLAB',\n",
       "       'SPECIALTYDS', 'SSARTLAB', 'STARDENTALLAB', 'STL', 'STONE',\n",
       "       'STREAMLINE', 'STREAMLINEDENTALSTUDIO', 'STUDIO2DENTAL',\n",
       "       'STUDIO32', 'STUDIOONE', 'STYLEDENT', 'SUBRISI',\n",
       "       'SUNSHINEDENTALWORKS', 'SUPERIORSMILES', 'SWIFTLAB', 'SYNERGY3D',\n",
       "       'SYNERGYDENTALCERAMICS', 'TANESSA', 'TANNLAB', 'TAPDENTALART',\n",
       "       'TDSA', 'TEETHFOREVERLAB', 'THEBITESHOPDENTAL', 'THEPARTIALWORKS',\n",
       "       'THE_DENTAL_WORKSHOP', 'THREEDSMILES', 'TIDOSH2', 'TIMMERS',\n",
       "       'TODAYSDENTALLAB', 'TRANSBLUE', 'TRIPLECROWN', 'TRIPODDENTALLAB',\n",
       "       'TRISTATEDENTAL', 'TROSVIG', 'TRUCROWN', 'TRUELIFE', 'TRUVISION',\n",
       "       'TSD', 'TTE', 'UDL', 'ULTIMATESTYLES', 'UNIDENTAL', 'UNIVERSAL',\n",
       "       'VAI', 'VANGUARDLAB', 'VDA', 'VDS', 'VERBERDENTAL', 'VEUS',\n",
       "       'VIADS', 'VIPDENTAL', 'VITALITY', 'WDL', 'WEBSTERDENTAL',\n",
       "       'WEILDENTALLAB', 'WESTLUNDDENTAL', 'WHITEROCK', 'WIRED', 'WVENEER',\n",
       "       'WYLIEDENTAL', 'XDL', 'XYZ', 'YDLCONCERT', 'YGDENTALTECH',\n",
       "       'ZAHNMACHER'], dtype=object)"
      ]
     },
     "execution_count": 11,
     "metadata": {},
     "output_type": "execute_result"
    }
   ],
   "source": [
    "lab_names = df['lab_name'].unique()\n",
    "lab_names"
   ]
  },
  {
   "cell_type": "code",
   "execution_count": 12,
   "metadata": {},
   "outputs": [
    {
     "data": {
      "text/plain": [
       "['320S-D718',\n",
       " '37L-D851',\n",
       " '38T-D685',\n",
       " '314S-L496',\n",
       " 'A3A-A290',\n",
       " 'A14N-A872',\n",
       " 'A6N-D165',\n",
       " 'A3C-D627',\n",
       " 'A3I-D361',\n",
       " 'A3L-D231',\n",
       " 'A8D-D759',\n",
       " 'A17B-D669',\n",
       " 'A9C-E598',\n",
       " 'A18S-E589',\n",
       " 'A3X-F781',\n",
       " 'A22S-I398',\n",
       " 'A8T-L955',\n",
       " 'A7D-L212',\n",
       " 'A14B-L309',\n",
       " 'A5K-N865',\n",
       " 'A10L-P190',\n",
       " 'A191-P932',\n",
       " 'A15E-P776',\n",
       " 'A161-P327',\n",
       " 'A8M-R829',\n",
       " 'A9S-R112',\n",
       " 'A10C-R212',\n",
       " 'A4A-R887',\n",
       " 'A19S-R507',\n",
       " 'A6S-R607',\n",
       " 'A9N-R657',\n",
       " 'A9L-R155',\n",
       " 'A12B-R825',\n",
       " 'A17L-R358',\n",
       " 'A13L-R522',\n",
       " 'A91-R539',\n",
       " 'A8C-R813',\n",
       " 'A15B-U966',\n",
       " 'A7R-V127',\n",
       " 'A16S-V493',\n",
       " 'A7H-Z556',\n",
       " 'B16B-A844',\n",
       " 'B18Y-A773',\n",
       " 'B5N-A879',\n",
       " 'B8N-A695',\n",
       " 'B8Y-A863',\n",
       " 'B171-D280',\n",
       " 'B22S-E914',\n",
       " 'B22S-E359',\n",
       " 'B13L-L767',\n",
       " 'B14S-L403',\n",
       " 'B14B-L498',\n",
       " 'B5N-O911',\n",
       " 'B7B-O136',\n",
       " 'B15B-O604',\n",
       " 'B11Y-R264',\n",
       " 'B17B-R206',\n",
       " 'B17B-R595',\n",
       " 'B17B-R283',\n",
       " 'B11N-R160',\n",
       " 'B15B-U917',\n",
       " 'B4L-V430',\n",
       " 'B8N-Y647',\n",
       " 'C16S-A346',\n",
       " 'C14S-A914',\n",
       " 'C10G-A962',\n",
       " 'C11L-A707',\n",
       " 'C17S-A498',\n",
       " 'C7L-A418',\n",
       " 'C3B-C337',\n",
       " 'C3I-D918',\n",
       " 'C10E-D970',\n",
       " 'C6T-E933',\n",
       " 'C8L-E333',\n",
       " 'C12T-E774',\n",
       " 'C10R-E894',\n",
       " 'C9H-E983',\n",
       " 'C8K-E639',\n",
       " 'C13S-E268',\n",
       " 'C15L-E563',\n",
       " 'C23E-H530',\n",
       " 'C3A-I507',\n",
       " 'C4L-I949',\n",
       " 'C15B-L193',\n",
       " 'C11E-L478',\n",
       " 'C16B-O568',\n",
       " 'C11L-O635',\n",
       " 'C17R-O702',\n",
       " 'C16S-O948',\n",
       " 'C17E-O744',\n",
       " 'C22Y-O202',\n",
       " 'C27S-O691',\n",
       " 'C68-R409',\n",
       " 'C9L-R611',\n",
       " 'C7K-R314',\n",
       " 'C14S-R328',\n",
       " 'C19S-R290',\n",
       " 'C16B-U972',\n",
       " 'C12T-U780',\n",
       " 'C7S-Y106',\n",
       " 'D8B-A936',\n",
       " 'D14B-A392',\n",
       " 'D4C-A974',\n",
       " 'D6B-D808',\n",
       " 'D4L-D513',\n",
       " 'D13T-D452',\n",
       " 'D9S-D188',\n",
       " 'D15B-D892',\n",
       " 'D13Y-D953',\n",
       " 'D9T-D143',\n",
       " 'D17B-E230',\n",
       " 'D19B-E388',\n",
       " 'D15O-E981',\n",
       " 'D17A-E431',\n",
       " 'D14S-E392',\n",
       " 'D101-E687',\n",
       " 'D9H-E818',\n",
       " 'D17R-E884',\n",
       " 'D12S-E303',\n",
       " 'D3S-E284',\n",
       " 'D9B-E318',\n",
       " 'D17B-E706',\n",
       " 'D10B-E654',\n",
       " 'D16S-I390',\n",
       " 'D8T-I980',\n",
       " 'D13R-I264',\n",
       " 'D15S-I889',\n",
       " 'D16B-I539',\n",
       " 'D16L-I744',\n",
       " 'D14S-I228',\n",
       " 'D14G-I535',\n",
       " 'D12B-I932',\n",
       " 'D7H-O685',\n",
       " 'D7G-O419',\n",
       " 'D8B-O824',\n",
       " 'D3S-P652',\n",
       " 'D21B-R853',\n",
       " 'D8C-W522',\n",
       " 'E4L-C410',\n",
       " 'E13L-C619',\n",
       " 'E7T-C263',\n",
       " 'E12B-D342',\n",
       " 'E21S-L602',\n",
       " 'E5E-L890',\n",
       " 'E17O-L564',\n",
       " 'E9H-L514',\n",
       " 'E10N-L510',\n",
       " 'E16B-M432',\n",
       " 'E18Y-R899',\n",
       " 'E14S-S773',\n",
       " 'E21Y-S567',\n",
       " 'E8C-S867',\n",
       " 'E16E-S318',\n",
       " 'E14B-V709',\n",
       " 'E15Y-V955',\n",
       " 'E6D-V930',\n",
       " 'E15L-V256',\n",
       " 'E21O-V640',\n",
       " 'E20N-X169',\n",
       " 'F7T-A615',\n",
       " 'F14B-A963',\n",
       " 'F17B-L711',\n",
       " 'F15L-O485',\n",
       " 'F13B-O713',\n",
       " 'F13B-O547',\n",
       " 'F8N-O935',\n",
       " 'F16S-R297',\n",
       " 'G11T-A884',\n",
       " 'G4L-C583',\n",
       " 'G12B-C700',\n",
       " 'G3N-D701',\n",
       " 'G22S-E177',\n",
       " 'G18C-E276',\n",
       " 'G7T-E815',\n",
       " 'G12O-E439',\n",
       " 'G12P-E199',\n",
       " 'G11E-E352',\n",
       " 'G23N-L175',\n",
       " 'G11L-O542',\n",
       " 'G14B-O972',\n",
       " 'G19B-R620',\n",
       " 'G9T-R285',\n",
       " 'H4A-A418',\n",
       " 'H22S-A990',\n",
       " 'H3L-D564',\n",
       " 'H10R-E334',\n",
       " 'H17B-E188',\n",
       " 'H4O-E419',\n",
       " 'H8T-E477',\n",
       " 'H14L-I212',\n",
       " 'H11Y-I163',\n",
       " 'H16M-I437',\n",
       " 'H7N-I377',\n",
       " 'H5I-N877',\n",
       " 'H15B-O998',\n",
       " 'H15B-O803',\n",
       " 'H8N-O659',\n",
       " 'H10S-O209',\n",
       " 'H14O-R984',\n",
       " 'H3L-T610',\n",
       " 'H11L-U589',\n",
       " 'H4P-V648',\n",
       " 'H10H-Y375',\n",
       " 'H10L-Y190',\n",
       " 'I17O-A481',\n",
       " 'I13S-D777',\n",
       " 'I14S-D186',\n",
       " 'I18B-D267',\n",
       " 'I7B-D277',\n",
       " 'I10L-K967',\n",
       " 'I5E-M210',\n",
       " 'I11L-M933',\n",
       " 'I8G-M117',\n",
       " 'I11D-M303',\n",
       " 'I8L-M230',\n",
       " 'I13S-M266',\n",
       " 'I7A-N176',\n",
       " 'I8I-N184',\n",
       " 'I8Y-N354',\n",
       " 'I9O-N738',\n",
       " 'I11E-N675',\n",
       " 'I9E-N911',\n",
       " 'I26Y-S495',\n",
       " 'I6E-S222',\n",
       " 'I10L-T653',\n",
       " 'I12B-Z535',\n",
       " 'J11B-A783',\n",
       " 'J6B-A802',\n",
       " 'J15B-A472',\n",
       " 'J6R-A790',\n",
       " 'J14O-B126',\n",
       " 'J6B-E168',\n",
       " 'J15C-F335',\n",
       " 'J11B-R943',\n",
       " 'J11B-U431',\n",
       " 'J11L-U261',\n",
       " 'J17S-U751',\n",
       " 'J4C-W158',\n",
       " 'J2Z-Z760',\n",
       " 'K22-2256',\n",
       " 'K13R-A655',\n",
       " 'K6S-A203',\n",
       " 'K12T-A560',\n",
       " 'K13L-E191',\n",
       " 'K7C-I673',\n",
       " 'K20Y-P451',\n",
       " 'L17L-A668',\n",
       " 'L12A-A349',\n",
       " 'L9N-A135',\n",
       " 'L9E-A737',\n",
       " 'L8D-A113',\n",
       " 'L9B-A291',\n",
       " 'L17S-A717',\n",
       " 'L5N-A118',\n",
       " 'L51-D812',\n",
       " 'L12L-E676',\n",
       " 'L15O-E446',\n",
       " 'L12L-E922',\n",
       " 'L7Y-I577',\n",
       " 'L10E-I607',\n",
       " 'L17A-I401',\n",
       " 'L12L-I684',\n",
       " 'L17B-O963',\n",
       " 'L8F-O842',\n",
       " 'L15S-O655',\n",
       " 'L5I-U324',\n",
       " 'L10L-U808',\n",
       " 'L12K-U807',\n",
       " 'M13B-A858',\n",
       " 'M5O-A536',\n",
       " 'M17S-A504',\n",
       " 'M11H-A219',\n",
       " 'M7S-A602',\n",
       " 'M8M-A506',\n",
       " 'M6H-C600',\n",
       " 'M3L-D750',\n",
       " 'M19Y-E558',\n",
       " 'M7R-E583',\n",
       " 'M9A-E430',\n",
       " 'M12B-I604',\n",
       " 'M8H-I348',\n",
       " 'M6Y-I495',\n",
       " 'M9A-I258',\n",
       " 'M4T-I875',\n",
       " 'M10L-I144',\n",
       " 'M12N-O606',\n",
       " 'M17S-O621',\n",
       " 'M14L-O315',\n",
       " 'M3M-R708',\n",
       " 'M11L-Y784',\n",
       " 'M6B-Y362',\n",
       " 'N29C-A355',\n",
       " 'N17S-A206',\n",
       " 'N12S-A369',\n",
       " 'N21B-A858',\n",
       " 'N13S-A797',\n",
       " 'N13B-A992',\n",
       " 'N8A-E336',\n",
       " 'N12H-E106',\n",
       " 'N13B-E833',\n",
       " 'N8S-G872',\n",
       " 'N21B-L869',\n",
       " 'N10K-O398',\n",
       " 'N19S-O656',\n",
       " 'N9T-O377',\n",
       " 'N13L-U648',\n",
       " 'O13L-C250',\n",
       " 'O16B-C718',\n",
       " 'O7K-M934',\n",
       " 'O12S-R997',\n",
       " 'O9C-R768',\n",
       " 'O7K-R800',\n",
       " 'O9O-R569',\n",
       " 'O11N-R150',\n",
       " 'O9P-R202',\n",
       " 'O9S-R569',\n",
       " 'O10W-S396',\n",
       " 'P4L-A813',\n",
       " 'P9T-A542',\n",
       " 'P3A-D376',\n",
       " 'P5C-D703',\n",
       " 'P3C-D431',\n",
       " 'P4I-D617',\n",
       " 'P3L-D642',\n",
       " 'P5L-E311',\n",
       " 'P11L-E656',\n",
       " 'P23B-E866',\n",
       " 'P6T-E179',\n",
       " 'P11B-F790',\n",
       " 'P16L-H675',\n",
       " 'P14T-I655',\n",
       " 'P5I-I402',\n",
       " 'P3C-M422',\n",
       " 'P8L-R780',\n",
       " 'P17K-R730',\n",
       " 'P22N-R802',\n",
       " 'P20O-R239',\n",
       " 'P14B-R353',\n",
       " 'P5O-R977',\n",
       " 'P18B-R561',\n",
       " 'P13L-R463',\n",
       " 'P14B-R901',\n",
       " 'P21S-R945',\n",
       " 'P12S-R568',\n",
       " 'P12L-R154',\n",
       " 'P21B-R177',\n",
       " 'P28Y-R566',\n",
       " 'P17B-R797',\n",
       " 'P18S-R865',\n",
       " 'P7T-R952',\n",
       " 'Q9T-U391',\n",
       " 'Q17S-U488',\n",
       " 'Q16B-U397',\n",
       " 'Q15L-V462',\n",
       " 'R7T-A559',\n",
       " 'R3M-A577',\n",
       " 'R9B-A950',\n",
       " 'R7K-E611',\n",
       " 'R10R-E362',\n",
       " 'R15S-E572',\n",
       " 'R15B-E108',\n",
       " 'R17S-E550',\n",
       " 'R10N-E662',\n",
       " 'R16L-E577',\n",
       " 'R3K-G945',\n",
       " 'R21S-G652',\n",
       " 'R18O-I928',\n",
       " 'R9E-I801',\n",
       " 'R10L-I142',\n",
       " 'R12S-I208',\n",
       " 'R4A-M592',\n",
       " 'R14B-O541',\n",
       " 'R7B-V306',\n",
       " 'R16B-Y187',\n",
       " 'R5C-Y546',\n",
       " 'S10L-A804',\n",
       " 'S7B-A714',\n",
       " 'S14S-A825',\n",
       " 'S8E-A697',\n",
       " 'S5C-A587',\n",
       " 'S19C-C317',\n",
       " 'S16L-C223',\n",
       " 'S8C-C501',\n",
       " 'S9E-C519',\n",
       " 'S3T-D711',\n",
       " 'S8K-E301',\n",
       " 'S17S-E799',\n",
       " 'S15B-E325',\n",
       " 'S12L-E601',\n",
       " 'S15B-E589',\n",
       " 'S12A-H614',\n",
       " 'S8I-H940',\n",
       " 'S16S-I101',\n",
       " 'S11L-I218',\n",
       " 'S23B-I123',\n",
       " 'S16B-K576',\n",
       " 'S12B-K575',\n",
       " 'S6B-K583',\n",
       " 'S14L-M127',\n",
       " 'S8B-M127',\n",
       " 'S12S-M890',\n",
       " 'S10Y-M248',\n",
       " 'S10S-M896',\n",
       " 'S13L-O340',\n",
       " 'S14S-O940',\n",
       " 'S16B-P300',\n",
       " 'S11S-P184',\n",
       " 'S8B-S333',\n",
       " 'S13B-T978',\n",
       " 'S3L-T310',\n",
       " 'S5E-T859',\n",
       " 'S10E-T603',\n",
       " 'S22O-T122',\n",
       " 'S13L-T235',\n",
       " 'S82-T864',\n",
       " 'S9E-T900',\n",
       " 'S9T-T800',\n",
       " 'S7I-U277',\n",
       " 'S19S-U172',\n",
       " 'S14S-U696',\n",
       " 'S8B-W396',\n",
       " 'S9D-Y475',\n",
       " 'S21S-Y159',\n",
       " 'T7A-A832',\n",
       " 'T7B-A665',\n",
       " 'T12T-A817',\n",
       " 'T4A-D867',\n",
       " 'T15B-E754',\n",
       " 'T17L-H289',\n",
       " 'T15S-H170',\n",
       " 'T19P-H193',\n",
       " 'T12S-H541',\n",
       " 'T72-I963',\n",
       " 'T7S-I557',\n",
       " 'T15B-O184',\n",
       " 'T9E-R492',\n",
       " 'T11N-R800',\n",
       " 'T15B-R467',\n",
       " 'T14L-R554',\n",
       " 'T7G-R244',\n",
       " 'T8N-R348',\n",
       " 'T8E-R462',\n",
       " 'T9N-R401',\n",
       " 'T3D-S123',\n",
       " 'T3E-T215',\n",
       " 'U3L-D872',\n",
       " 'U14S-L541',\n",
       " 'U9L-N356',\n",
       " 'U9L-N431',\n",
       " 'V3I-A182',\n",
       " 'V11B-A434',\n",
       " 'V3A-D639',\n",
       " 'V3S-D378',\n",
       " 'V12L-E503',\n",
       " 'V4S-E724',\n",
       " 'V5S-I555',\n",
       " 'V9L-I870',\n",
       " 'V8Y-I583',\n",
       " 'W3L-D674',\n",
       " 'W13L-E260',\n",
       " 'W13B-E643',\n",
       " 'W14L-E515',\n",
       " 'W9K-H202',\n",
       " 'W5D-I928',\n",
       " 'W7R-V272',\n",
       " 'W11L-Y440',\n",
       " 'X3L-D656',\n",
       " 'X3Z-Y313',\n",
       " 'Y10T-D440',\n",
       " 'Y12H-G993',\n",
       " 'Z10R-A319']"
      ]
     },
     "execution_count": 12,
     "metadata": {},
     "output_type": "execute_result"
    }
   ],
   "source": [
    "import random\n",
    "new_names = []\n",
    "for name in lab_names:\n",
    "    anonym = name[0]+str(len(name))+name[-1]+'-'+name[1]+str(random.randint(100,999))\n",
    "    new_names.append(anonym)\n",
    "new_names"
   ]
  },
  {
   "cell_type": "code",
   "execution_count": 13,
   "metadata": {},
   "outputs": [
    {
     "data": {
      "text/html": [
       "<div>\n",
       "<style scoped>\n",
       "    .dataframe tbody tr th:only-of-type {\n",
       "        vertical-align: middle;\n",
       "    }\n",
       "\n",
       "    .dataframe tbody tr th {\n",
       "        vertical-align: top;\n",
       "    }\n",
       "\n",
       "    .dataframe thead th {\n",
       "        text-align: right;\n",
       "    }\n",
       "</style>\n",
       "<table border=\"1\" class=\"dataframe\">\n",
       "  <thead>\n",
       "    <tr style=\"text-align: right;\">\n",
       "      <th></th>\n",
       "      <th>lab_name</th>\n",
       "      <th>new_name</th>\n",
       "    </tr>\n",
       "  </thead>\n",
       "  <tbody>\n",
       "    <tr>\n",
       "      <th>0</th>\n",
       "      <td>3DDENTALLABORATORIES</td>\n",
       "      <td>320S-D718</td>\n",
       "    </tr>\n",
       "    <tr>\n",
       "      <th>1</th>\n",
       "      <td>3DENTAL</td>\n",
       "      <td>37L-D851</td>\n",
       "    </tr>\n",
       "    <tr>\n",
       "      <th>2</th>\n",
       "      <td>3DLABSMT</td>\n",
       "      <td>38T-D685</td>\n",
       "    </tr>\n",
       "    <tr>\n",
       "      <th>3</th>\n",
       "      <td>3LLABORATORIES</td>\n",
       "      <td>314S-L496</td>\n",
       "    </tr>\n",
       "    <tr>\n",
       "      <th>4</th>\n",
       "      <td>AAA</td>\n",
       "      <td>A3A-A290</td>\n",
       "    </tr>\n",
       "  </tbody>\n",
       "</table>\n",
       "</div>"
      ],
      "text/plain": [
       "               lab_name   new_name\n",
       "0  3DDENTALLABORATORIES  320S-D718\n",
       "1               3DENTAL   37L-D851\n",
       "2              3DLABSMT   38T-D685\n",
       "3        3LLABORATORIES  314S-L496\n",
       "4                   AAA   A3A-A290"
      ]
     },
     "execution_count": 13,
     "metadata": {},
     "output_type": "execute_result"
    }
   ],
   "source": [
    "code_names = pd.DataFrame()\n",
    "code_names['lab_name'] = lab_names\n",
    "code_names['new_name'] = new_names\n",
    "code_names.head()"
   ]
  },
  {
   "cell_type": "code",
   "execution_count": 14,
   "metadata": {},
   "outputs": [
    {
     "name": "stdout",
     "output_type": "stream",
     "text": [
      "<class 'pandas.core.frame.DataFrame'>\n",
      "RangeIndex: 471 entries, 0 to 470\n",
      "Data columns (total 2 columns):\n",
      "lab_name    471 non-null object\n",
      "new_name    471 non-null object\n",
      "dtypes: object(2)\n",
      "memory usage: 7.4+ KB\n"
     ]
    }
   ],
   "source": [
    "code_names.info()"
   ]
  },
  {
   "cell_type": "code",
   "execution_count": 15,
   "metadata": {},
   "outputs": [],
   "source": [
    "# Save to csv\n",
    "code_names.to_csv('data/code_names.csv', index=False, header=True)"
   ]
  },
  {
   "cell_type": "code",
   "execution_count": 17,
   "metadata": {},
   "outputs": [
    {
     "name": "stdout",
     "output_type": "stream",
     "text": [
      "<class 'pandas.core.frame.DataFrame'>\n",
      "Int64Index: 289002 entries, 0 to 289001\n",
      "Data columns (total 6 columns):\n",
      "id          289002 non-null int64\n",
      "lab_name    289002 non-null object\n",
      "day         289002 non-null object\n",
      "nb_cases    289002 non-null int64\n",
      "nb_units    289002 non-null int64\n",
      "new_name    289002 non-null object\n",
      "dtypes: int64(3), object(3)\n",
      "memory usage: 15.4+ MB\n"
     ]
    }
   ],
   "source": [
    "df = pd.merge(df, code_names, how='left', on=['lab_name'])\n",
    "df.info()"
   ]
  },
  {
   "cell_type": "code",
   "execution_count": 18,
   "metadata": {},
   "outputs": [
    {
     "name": "stdout",
     "output_type": "stream",
     "text": [
      "<class 'pandas.core.frame.DataFrame'>\n",
      "Int64Index: 289002 entries, 0 to 289001\n",
      "Data columns (total 4 columns):\n",
      "day         289002 non-null object\n",
      "nb_cases    289002 non-null int64\n",
      "nb_units    289002 non-null int64\n",
      "new_name    289002 non-null object\n",
      "dtypes: int64(2), object(2)\n",
      "memory usage: 11.0+ MB\n"
     ]
    }
   ],
   "source": [
    "df.drop(['id', 'lab_name'], axis=1, inplace=True)\n",
    "df.info()"
   ]
  },
  {
   "cell_type": "code",
   "execution_count": 19,
   "metadata": {},
   "outputs": [
    {
     "name": "stdout",
     "output_type": "stream",
     "text": [
      "<class 'pandas.core.frame.DataFrame'>\n",
      "Int64Index: 289002 entries, 0 to 289001\n",
      "Data columns (total 4 columns):\n",
      "lab_name    289002 non-null object\n",
      "day         289002 non-null object\n",
      "nb_cases    289002 non-null int64\n",
      "nb_units    289002 non-null int64\n",
      "dtypes: int64(2), object(2)\n",
      "memory usage: 11.0+ MB\n"
     ]
    }
   ],
   "source": [
    "df.rename(columns={'new_name': 'lab_name'}, inplace=True)\n",
    "df = df[['lab_name', 'day', 'nb_cases', 'nb_units']]\n",
    "df.info()"
   ]
  },
  {
   "cell_type": "code",
   "execution_count": 20,
   "metadata": {},
   "outputs": [],
   "source": [
    "# Save to csv\n",
    "df.to_csv('data/data_time_series_analysis_forecasting_daily.csv', index=False, header=True)"
   ]
  },
  {
   "cell_type": "raw",
   "metadata": {},
   "source": [
    "# Save to csv\n",
    "month_groups.to_csv('data/sarima_monthly.csv')"
   ]
  },
  {
   "cell_type": "code",
   "execution_count": 83,
   "metadata": {},
   "outputs": [
    {
     "data": {
      "text/plain": [
       "<matplotlib.axes._subplots.AxesSubplot at 0x1c35024b38>"
      ]
     },
     "execution_count": 83,
     "metadata": {},
     "output_type": "execute_result"
    },
    {
     "data": {
      "image/png": "[encoded data removed]",
      "text/plain": [
       "<matplotlib.figure.Figure at 0x1cc4933dd8>"
      ]
     },
     "metadata": {},
     "output_type": "display_data"
    }
   ],
   "source": [
    "month_groups.plot(grid=True)"
   ]
  },
  {
   "cell_type": "code",
   "execution_count": 84,
   "metadata": {},
   "outputs": [
    {
     "data": {
      "text/plain": [
       "<matplotlib.axes._subplots.AxesSubplot at 0x1c84bda4a8>"
      ]
     },
     "execution_count": 84,
     "metadata": {},
     "output_type": "execute_result"
    },
    {
     "data": {
      "image/png": "[encoded data removed]",
      "text/plain": [
       "<matplotlib.figure.Figure at 0x1c877ed1d0>"
      ]
     },
     "metadata": {},
     "output_type": "display_data"
    }
   ],
   "source": [
    "'''We notice an upward trend indicating that LabStar is getting more cases over time.\n",
    "Although there are ups and downs at every point in time, generally we can observe that the trend increases.\n",
    "Also we can notice how the ups and downs seem to be a bit regular, indicating that we might be observing a \n",
    "seasonal pattern here too.\n",
    "We can look more closely at a subset of the data.'''\n",
    "start_date = datetime(2017, 1, 1)\n",
    "end_date = datetime(2019, 1, 1)\n",
    "month_groups_17on = month_groups[(start_date <= month_groups.index) & (month_groups.index <= end_date)]\n",
    "month_groups_17on.plot(grid=True)"
   ]
  },
  {
   "cell_type": "code",
   "execution_count": 85,
   "metadata": {},
   "outputs": [
    {
     "data": {
      "image/png": "[encoded data removed]",
      "text/plain": [
       "<matplotlib.figure.Figure at 0x1c8843d2b0>"
      ]
     },
     "metadata": {},
     "output_type": "display_data"
    }
   ],
   "source": [
    "# Use time-series analysis package from statsmodel module to decompose our time series (using the additive model)\n",
    "'''Additive Model: This model is used when the variations around the trend does not vary with the level of the time\n",
    "series. Here the components of a time series are simply added together using the formula: \n",
    "y(t) = Level(t) + Trend(t) + Seasonality(t) + Noise(t)'''\n",
    "decomposition_cases = sm.tsa.seasonal_decompose(month_groups['nb_cases'], model = 'additive')\n",
    "fig_cases = decomposition_cases.plot()\n",
    "#matplotlib.rcParams['figure.figsize'] = [9.0, 5.0]"
   ]
  },
  {
   "cell_type": "code",
   "execution_count": 86,
   "metadata": {},
   "outputs": [
    {
     "data": {
      "image/png": "[encoded data removed]",
      "text/plain": [
       "<matplotlib.figure.Figure at 0x1c89134780>"
      ]
     },
     "metadata": {},
     "output_type": "display_data"
    }
   ],
   "source": [
    "decomposition_units = sm.tsa.seasonal_decompose(month_groups['nb_units'], model = 'additive')\n",
    "fig_units = decomposition_units.plot()"
   ]
  },
  {
   "cell_type": "code",
   "execution_count": 87,
   "metadata": {},
   "outputs": [
    {
     "data": {
      "text/plain": [
       "[<matplotlib.lines.Line2D at 0x1c8b25a518>]"
      ]
     },
     "execution_count": 87,
     "metadata": {},
     "output_type": "execute_result"
    },
    {
     "data": {
      "image/png": "[encoded data removed]",
      "text/plain": [
       "<matplotlib.figure.Figure at 0x1c8af07358>"
      ]
     },
     "metadata": {},
     "output_type": "display_data"
    }
   ],
   "source": [
    "# Plot the trend alongside the observed time series\n",
    "fig, ax = plt.subplots()\n",
    "ax.grid(True)\n",
    "year = mdates.YearLocator(month=1)\n",
    "month = mdates.MonthLocator(interval=3)\n",
    "year_format = mdates.DateFormatter('%Y')\n",
    "month_format = mdates.DateFormatter('%m')\n",
    "ax.xaxis.set_minor_locator(month)\n",
    "ax.xaxis.grid(True, which = 'minor')\n",
    "ax.xaxis.set_major_locator(year)\n",
    "ax.xaxis.set_major_formatter(year_format)\n",
    "plt.plot(month_groups.index, month_groups['nb_cases'])\n",
    "plt.plot(decomposition_cases.trend.index, decomposition_cases.trend, c='red')\n",
    "plt.plot(month_groups.index, month_groups['nb_units'])\n",
    "plt.plot(decomposition_units.trend.index, decomposition_units.trend, c='purple')"
   ]
  },
  {
   "cell_type": "markdown",
   "metadata": {},
   "source": [
    "## Time series forecasting with the SARIMA model"
   ]
  },
  {
   "cell_type": "markdown",
   "metadata": {},
   "source": [
    "First, we check if the series is stationary using the Augmented Dickey Fuller test (adfuller()), from the statsmodels package.\n",
    "The null hypothesis of the ADF test is that the time series is non-stationary. So, if the p-value of the test is less than the significance level (0.05) then you reject the null hypothesis and infer that the time series is indeed stationary."
   ]
  },
  {
   "cell_type": "code",
   "execution_count": null,
   "metadata": {},
   "outputs": [],
   "source": [
    "month_groups_17on.head()"
   ]
  },
  {
   "cell_type": "code",
   "execution_count": null,
   "metadata": {},
   "outputs": [],
   "source": [
    "nb_cases = month_groups['nb_cases']\n",
    "nb_units = month_groups['nb_units']\n",
    "nb_cases.plot()\n",
    "nb_units.plot()\n",
    "plt.show()"
   ]
  },
  {
   "cell_type": "code",
   "execution_count": null,
   "metadata": {},
   "outputs": [],
   "source": [
    "# Zooming on the data since 2017:\n",
    "nb_cases_17on = month_groups_17on['nb_cases']\n",
    "nb_units_17on = month_groups_17on['nb_units']\n",
    "nb_cases_17on.plot()\n",
    "nb_units_17on.plot()\n",
    "plt.show()"
   ]
  },
  {
   "cell_type": "markdown",
   "metadata": {},
   "source": [
    "This may suggest an exponential growth from season to season. A log transform can be used to flatten out exponential change back to a linear relationship."
   ]
  },
  {
   "cell_type": "code",
   "execution_count": null,
   "metadata": {},
   "outputs": [],
   "source": [
    "X_cases = nb_cases_17on.values\n",
    "X_units = nb_units_17on.values\n",
    "X_cases = log(X_cases)\n",
    "X_units = log(X_units)\n",
    "plt.plot(X_cases)\n",
    "plt.plot(X_units)\n",
    "plt.show()"
   ]
  },
  {
   "cell_type": "markdown",
   "metadata": {},
   "source": [
    "or not ...\n",
    "From reviewing the  line plots, we can clearly see that the time series are not stationary.\n",
    "\n",
    "The Augmented Dickey-Fuller test can provide a quick check and confirmatory evidence that our time series are non-stationary.\n",
    "\n",
    "The Augmented Dickey-Fuller test is a a unit root type of test. It uses an autoregressive model to determines how strongly a time series is defined by a trend. \n",
    "\n",
    "The null hypothesis of the test is that the time series can be represented by a unit root, that it is not stationary (has some time-dependent structure). The alternate hypothesis (rejecting the null hypothesis) is that the time series is stationary.\n",
    "\n",
    "Null Hypothesis (H0): If failed to be rejected, it suggests the time series has a unit root, meaning it is non-stationary. It has some time dependent structure.\n",
    "Alternate Hypothesis (H1): The null hypothesis is rejected; it suggests the time series does not have a unit root, meaning it is stationary. It does not have time-dependent structure.\n",
    "We interpret this result using the p-value from the test. A p-value below a threshold (such as 5% or 1%) suggests we reject the null hypothesis (stationary), otherwise a p-value above the threshold suggests we fail to reject the null hypothesis (non-stationary).\n",
    "\n",
    "p-value > 0.05: Fail to reject the null hypothesis (H0), the data has a unit root and is non-stationary.\n",
    "p-value <= 0.05: Reject the null hypothesis (H0), the data does not have a unit root and is stationary."
   ]
  },
  {
   "cell_type": "code",
   "execution_count": null,
   "metadata": {},
   "outputs": [],
   "source": [
    "from statsmodels.tsa.stattools import adfuller\n",
    "from numpy import log\n",
    "result_cases = adfuller(nb_cases.values)\n",
    "result_units = adfuller(nb_units.values)\n",
    "print('ADF Statistic for the nb_cases series: %f' % result_cases[0])\n",
    "print('p-value (nb_cases): %f' % result_cases[1])\n",
    "print('Critical Values (nb_cases):')\n",
    "for key, value in result_cases[4].items():\n",
    "\tprint('\\t%s: %.3f' % (key, value))\n",
    "print('ADF Statistic for the nb_units series: %f' % result_units[0])\n",
    "print('p-value (nb_units): %f' % result_units[1])\n",
    "print('Critical Values (nb_units):')\n",
    "for key, value in result_units[4].items():\n",
    "\tprint('\\t%s: %.3f' % (key, value))"
   ]
  },
  {
   "cell_type": "markdown",
   "metadata": {},
   "source": [
    "The p-values are greater than the significance level: the series are non-stationary. The next step is to find the parameters to configure our SARIMA model\n",
    "\n",
    "Configuring a SARIMA requires selecting hyperparameters for both the trend and seasonal elements of the series.\n",
    "\n",
    "There are three trend elements that require configuration.\n",
    "\n",
    "They are the same as the ARIMA model; specifically:\n",
    "\n",
    "p: Trend autoregression order.\n",
    "d: Trend difference order.\n",
    "q: Trend moving average order.\n",
    "\n",
    "There are four seasonal elements that are not part of ARIMA that must be configured; they are:\n",
    "\n",
    "P: Seasonal autoregressive order.\n",
    "D: Seasonal difference order.\n",
    "Q: Seasonal moving average order.\n",
    "m: The number of time steps for a single seasonal period.\n",
    "\n",
    "Together, the notation for a SARIMA model is specified as: SARIMA(p,d,q)(P,D,Q)m"
   ]
  },
  {
   "cell_type": "markdown",
   "metadata": {},
   "source": [
    "### Grid-searching SARIMA Hyperparameters for Time Series Forecasting:"
   ]
  },
  {
   "cell_type": "markdown",
   "metadata": {},
   "source": [
    "In this section, we will develop a framework for grid searching SARIMA model hyperparameters for a given univariate time series forecasting problem.\n",
    "\n",
    "We will use the implementation of SARIMA provided by the statsmodels library.\n",
    "\n",
    "This model has hyperparameters that control the nature of the model performed for the series, trend and seasonality, specifically:\n",
    "\n",
    "- order: A tuple p, d, and q parameters for the modeling of the trend.\n",
    "- sesonal_order: A tuple of P, D, Q, and m parameters for the modeling the seasonality\n",
    "- trend: A parameter for controlling a model of the deterministic trend as one of ‘n’,’c’,’t’,’ct’ for no trend, constant, linear, and constant with linear trend, respectively.\n",
    "\n",
    "If you know enough about your problem to specify one or more of these parameters, then you should specify them. If not, you can try grid searching these parameters.\n",
    "\n",
    "We can start-off by defining a function that will fit a model with a given configuration and make a one-step forecast."
   ]
  },
  {
   "cell_type": "code",
   "execution_count": null,
   "metadata": {},
   "outputs": [],
   "source": [
    "# Dependencies\n",
    "from math import sqrt\n",
    "from multiprocessing import cpu_count\n",
    "from joblib import Parallel\n",
    "from joblib import delayed\n",
    "from warnings import catch_warnings\n",
    "from warnings import filterwarnings\n",
    "from statsmodels.tsa.statespace.sarimax import SARIMAX\n",
    "from sklearn.metrics import mean_squared_error"
   ]
  },
  {
   "cell_type": "code",
   "execution_count": null,
   "metadata": {},
   "outputs": [],
   "source": [
    "# One-step sarima forecast\n",
    "def sarima_forecast(history, config):\n",
    "    order, sorder, trend = config\n",
    "    # define model\n",
    "    model = SARIMAX(history, order=order, seasonal_order=sorder, trend=trend, enforce_stationarity=False, enforce_invertibility=False)\n",
    "    # fit model\n",
    "    model_fit = model.fit(disp=False)\n",
    "    # make one step forecast\n",
    "    yhat = model_fit.predict(len(history), len(history))\n",
    "    return yhat[0]"
   ]
  },
  {
   "cell_type": "markdown",
   "metadata": {},
   "source": [
    "Next, we need to build up some functions for fitting and evaluating a model repeatedly via walk-forward validation, including splitting a dataset into train and test sets and evaluating one-step forecasts. The train_test_split() function below implements this for a provided dataset and a specified number of time steps to use in the test set."
   ]
  },
  {
   "cell_type": "code",
   "execution_count": null,
   "metadata": {},
   "outputs": [],
   "source": [
    "# Split a univariate dataset into train/test sets\n",
    "def train_test_split(data, n_test):\n",
    "    return data[:-n_test], data[-n_test:]"
   ]
  },
  {
   "cell_type": "markdown",
   "metadata": {},
   "source": [
    "After forecasts have been made for each step in the test dataset, they need to be compared to the test set in order to calculate an error score."
   ]
  },
  {
   "cell_type": "code",
   "execution_count": null,
   "metadata": {},
   "outputs": [],
   "source": [
    "# Root mean squared error or rmse\n",
    "def measure_rmse(actual, predicted):\n",
    "    return sqrt(mean_squared_error(actual, predicted))"
   ]
  },
  {
   "cell_type": "markdown",
   "metadata": {},
   "source": [
    "We can now implement the walk-forward validation scheme. This is a standard approach to evaluating a time series forecasting model that respects the temporal ordering of observations.\n",
    "\n",
    "First, a provided univariate time series dataset is split into train and test sets using the train_test_split() function. Then the number of observations in the test set are enumerated. For each we fit a model on all of the history and make a one step forecast. The true observation for the time step is then added to the history and the process is repeated. The sarima_forecast() function is called in order to fit a model and make a prediction. Finally, an error score is calculated by comparing all one-step forecasts to the actual test set by calling the measure_rmse() function.\n",
    "\n",
    "The walk_forward_validation() function below implements this, taking a univariate time series, a number of time steps to use in the test set, and an array of model configuration."
   ]
  },
  {
   "cell_type": "code",
   "execution_count": null,
   "metadata": {},
   "outputs": [],
   "source": [
    "# Walk-forward validation for univariate data\n",
    "def walk_forward_validation(data, n_test, cfg):\n",
    "    predictions = list()\n",
    "    # split dataset\n",
    "    train, test = train_test_split(data, n_test)\n",
    "    # seed history with training dataset\n",
    "    history = [x for x in train]\n",
    "    # step over each time-step in the test set\n",
    "    for i in range(len(test)):\n",
    "        # fit model and make forecast for history\n",
    "        yhat = sarima_forecast(history, cfg)\n",
    "        # store forecast in list of predictions\n",
    "        predictions.append(yhat)\n",
    "        # add actual observation to history for the next loop\n",
    "        history.append(test[i])\n",
    "    # estimate prediction error\n",
    "    error = measure_rmse(test, predictions)\n",
    "    return error"
   ]
  },
  {
   "cell_type": "markdown",
   "metadata": {},
   "source": [
    "We can trap exceptions and ignore warnings during the grid search by wrapping all calls to walk_forward_validation() with a try-except and a block to ignore warnings. We can also add debugging support to disable these protections in the case we want to see what is really going on. Finally, if an error does occur, we can return a None result, otherwise we can print some information about the skill of each model evaluated. This is helpful when a large number of models are evaluated.\n",
    "\n",
    "The score_model() function below implements this and returns a tuple of (key and result), where the key is a string version of the tested model configuration."
   ]
  },
  {
   "cell_type": "code",
   "execution_count": null,
   "metadata": {},
   "outputs": [],
   "source": [
    "# Score a model, return None on failure\n",
    "def score_model(data, n_test, cfg, debug=False):\n",
    "    result = None\n",
    "    # convert config to a key\n",
    "    key = str(cfg)\n",
    "    # show all warnings and fail on exception if debugging\n",
    "    if debug:\n",
    "        result = walk_forward_validation(data, n_test, cfg)\n",
    "    else:\n",
    "        # one failure during model validation suggests an unstable config\n",
    "        try:\n",
    "            # never show warnings when grid searching, too noisy\n",
    "            with catch_warnings():\n",
    "                filterwarnings(\"ignore\")\n",
    "                result = walk_forward_validation(data, n_test, cfg)\n",
    "        except:\n",
    "            error = None\n",
    "    # check for an interesting result\n",
    "    if result is not None:\n",
    "        print(' > Model[%s] %.3f' % (key, result))\n",
    "    return (key, result)"
   ]
  },
  {
   "cell_type": "markdown",
   "metadata": {},
   "source": [
    "Next, we need a loop to test a list of different model configurations.\n",
    "\n",
    "This is the main function that drives the grid search process and will call the score_model() function for each model configuration.\n",
    "\n",
    "We can dramatically speed up the grid search process by evaluating model configurations in parallel. One way to do that is to use the Joblib library.\n",
    "\n",
    "We can define a Parallel object with the number of cores to use and set it to the number of scores detected in your hardware.\n",
    "\n",
    "The grid_search() function below implements this behavior given a univariate time series dataset, a list of model configurations (list of lists), and the number of time steps to use in the test set. An optional parallel argument allows the evaluation of models across all cores to be tuned on or off, and is on by default.\n",
    "\n",
    "The function returns an ordered list of tuples (best are first), each with a name that summarizes a specific model configuration and the error of the model evaluated with that configuration as either the RMSE or None if there was an error."
   ]
  },
  {
   "cell_type": "code",
   "execution_count": null,
   "metadata": {},
   "outputs": [],
   "source": [
    "# grid search configs\n",
    "def grid_search(data, cfg_list, n_test, parallel=True):\n",
    "    scores = None\n",
    "    if parallel:\n",
    "        # execute configs in parallel\n",
    "        executor = Parallel(n_jobs=cpu_count(), backend='multiprocessing')\n",
    "        tasks = (delayed(score_model)(data, n_test, cfg) for cfg in cfg_list)\n",
    "        scores = executor(tasks)\n",
    "    else:\n",
    "        scores = [score_model(data, n_test, cfg) for cfg in cfg_list]\n",
    "    # remove empty results\n",
    "    scores = [r for r in scores if r[1] != None]\n",
    "    # sort configs by error, asc\n",
    "    scores.sort(key=lambda tup: tup[1])\n",
    "    return scores"
   ]
  },
  {
   "cell_type": "markdown",
   "metadata": {},
   "source": [
    "The only thing left to do is to define a list of model configurations to try for a dataset.\n",
    "\n",
    "We can define this generically. The only parameter we may want to specify is the periodicity of the seasonal component in the series, if one exists. By default, we will assume no seasonal component.\n",
    "\n",
    "The sarima_configs() function below will create a list of model configurations to evaluate.\n",
    "\n",
    "The configurations assume each of the AR, MA, and I components for trend and seasonality are low order, e.g. off (0) or in [1,2]. You may want to extend these ranges if you believe the order may be higher. An optional list of seasonal periods can be specified, and you could even change the function to specify other elements that you may know about your time series.\n",
    "\n",
    "In theory, there are 1,296 possible model configurations to evaluate, but in practice, many will not be valid and will result in an error that we will trap and ignore."
   ]
  },
  {
   "cell_type": "code",
   "execution_count": null,
   "metadata": {},
   "outputs": [],
   "source": [
    "# create a set of sarima configs to try\n",
    "def sarima_configs(seasonal=[0]):\n",
    "    models = list()\n",
    "    # define config lists\n",
    "    p_params = [0, 1, 2]\n",
    "    d_params = [0, 1]\n",
    "    q_params = [0, 1, 2]\n",
    "    t_params = ['n','c','t','ct']\n",
    "    P_params = [0, 1, 2]\n",
    "    D_params = [0, 1]\n",
    "    Q_params = [0, 1, 2]\n",
    "    m_params = seasonal\n",
    "    # create config instances\n",
    "    for p in p_params:\n",
    "        for d in d_params:\n",
    "            for q in q_params:\n",
    "                for t in t_params:\n",
    "                    for P in P_params:\n",
    "                        for D in D_params:\n",
    "                            for Q in Q_params:\n",
    "                                for m in m_params:\n",
    "                                    cfg = [(p,d,q), (P,D,Q,m), t]\n",
    "                                    models.append(cfg)\n",
    "    return models"
   ]
  },
  {
   "cell_type": "markdown",
   "metadata": {},
   "source": [
    "The dataset has two series (nb_cases, nb_units) or 94 observations each. We will use the first 78 for training and the remaining 16 as the test set."
   ]
  },
  {
   "cell_type": "code",
   "execution_count": null,
   "metadata": {},
   "outputs": [],
   "source": [
    "if __name__ == '__main__':\n",
    "    # define dataset\n",
    "    # Load the data\n",
    "    series = pd.read_csv(\"data/sarima_monthly.csv\", header=0, index_col=0)\n",
    "    data = series['nb_cases'].values\n",
    "    print(data)\n",
    "    # data split\n",
    "    n_test = 16\n",
    "    # model configs\n",
    "    cfg_list = sarima_configs(seasonal=[0,12])\n",
    "    # grid search\n",
    "    scores = grid_search(data, cfg_list, n_test)\n",
    "    print('done')\n",
    "    # list top 3 configs\n",
    "    for cfg, error in scores[:3]:\n",
    "        print(cfg, error)"
   ]
  },
  {
   "cell_type": "markdown",
   "metadata": {},
   "source": [
    "### nb_cases series (no seasonal config added):\n",
    "The best result was an RMSE of about 13,365 cases with the following configuration:\n",
    "\n",
    "Trend Order: (2, 1, 0)\n",
    "Seasonal Order: (2, 0, 1, 0)\n",
    "Trend Parameter: ‘ct’ (constant with linear trend)\n",
    "\n",
    "### nb_units series (no seasonal config added):\n",
    "The best result was an RMSE of about 22,226 units with the following configuration:\n",
    "\n",
    "Trend Order: (1, 0, 2)\n",
    "Seasonal Order: (2, 0, 2, 0)\n",
    "Trend Parameter: ‘c’ (constant)\n",
    "\n",
    "### nb_cases series (with seasonal config):\n",
    "The period of the seasonal component appears to be annual or 12 months. We add 12 as the seasonal period in the call to the sarima_configs() function when preparing the model configurations:\n",
    "\n",
    "`cfg_list = sarima_configs(seasonal=[0,12])`\n",
    "\n",
    "The best result was an RMSE of about 11,284 cases with the following configuration:\n",
    "\n",
    "Trend Order: (0, 1, 1)\n",
    "Seasonal Order: (1, 0, 1, 12)\n",
    "Trend Parameter: ‘c’ (constant)\n",
    "\n",
    "### nb_units series (with seasonal config):\n",
    "The period of the seasonal component appears to be annual or 12 months. We add 12 as the seasonal period in the call to the sarima_configs() function when preparing the model configurations:\n",
    "\n",
    "`cfg_list = sarima_configs(seasonal=[0,12])`\n",
    "\n",
    "The best result was an RMSE of about 18,986 units with the following configuration:\n",
    "\n",
    "Trend Order: (1, 0, 0)\n",
    "Seasonal Order: (1, 1, 1, 12)\n",
    "Trend Parameter: ‘ct’ (constant with linear trend)"
   ]
  },
  {
   "cell_type": "code",
   "execution_count": null,
   "metadata": {},
   "outputs": [],
   "source": []
  }
 ],
 "metadata": {
  "kernelspec": {
   "display_name": "Python 3",
   "language": "python",
   "name": "python3"
  },
  "language_info": {
   "codemirror_mode": {
    "name": "ipython",
    "version": 3
   },
   "file_extension": ".py",
   "mimetype": "text/x-python",
   "name": "python",
   "nbconvert_exporter": "python",
   "pygments_lexer": "ipython3",
   "version": "3.6.8"
  }
 },
 "nbformat": 4,
 "nbformat_minor": 2
}
