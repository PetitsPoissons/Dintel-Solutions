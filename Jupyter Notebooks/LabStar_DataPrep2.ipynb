{
 "cells": [
  {
   "cell_type": "code",
   "execution_count": null,
   "metadata": {},
   "outputs": [],
   "source": [
    "import pandas as pd\n",
    "import numpy as np\n",
    "from datetime import datetime\n",
    "# import calendar"
   ]
  },
  {
   "cell_type": "markdown",
   "metadata": {},
   "source": [
    "# Preparing table 'subscribers'"
   ]
  },
  {
   "cell_type": "code",
   "execution_count": 43,
   "metadata": {},
   "outputs": [
    {
     "data": {
      "text/html": [
       "<div>\n",
       "<style scoped>\n",
       "    .dataframe tbody tr th:only-of-type {\n",
       "        vertical-align: middle;\n",
       "    }\n",
       "\n",
       "    .dataframe tbody tr th {\n",
       "        vertical-align: top;\n",
       "    }\n",
       "\n",
       "    .dataframe thead th {\n",
       "        text-align: right;\n",
       "    }\n",
       "</style>\n",
       "<table border=\"1\" class=\"dataframe\">\n",
       "  <thead>\n",
       "    <tr style=\"text-align: right;\">\n",
       "      <th></th>\n",
       "      <th>id</th>\n",
       "      <th>group_id</th>\n",
       "      <th>name</th>\n",
       "      <th>database</th>\n",
       "      <th>url</th>\n",
       "      <th>remarks</th>\n",
       "      <th>lastupdated</th>\n",
       "      <th>updatedby</th>\n",
       "      <th>bActive</th>\n",
       "      <th>logo1</th>\n",
       "      <th>...</th>\n",
       "      <th>internal_name</th>\n",
       "      <th>document_logo3</th>\n",
       "      <th>dt_email</th>\n",
       "      <th>dt_pass</th>\n",
       "      <th>mobile_app_func</th>\n",
       "      <th>feature_set</th>\n",
       "      <th>site_location_server</th>\n",
       "      <th>subscription_plan</th>\n",
       "      <th>timezone</th>\n",
       "      <th>labName</th>\n",
       "    </tr>\n",
       "  </thead>\n",
       "  <tbody>\n",
       "    <tr>\n",
       "      <th>0</th>\n",
       "      <td>4</td>\n",
       "      <td>-999</td>\n",
       "      <td>LabStar Demo 2</td>\n",
       "      <td>MTG_SOUNDTRACK_SB_DEMO</td>\n",
       "      <td>demo2.labstar.com</td>\n",
       "      <td>MTG_SOUNDTRACK_SB_DEMO</td>\n",
       "      <td>2017-11-16 05:38:33.763</td>\n",
       "      <td>1</td>\n",
       "      <td>1</td>\n",
       "      <td>/pub/subscribers/4/login.png</td>\n",
       "      <td>...</td>\n",
       "      <td>LabStar Demo 2</td>\n",
       "      <td>/pub/subscribers/4/doc_som.png</td>\n",
       "      <td>demo2@dentaldropbox.com</td>\n",
       "      <td>125365124365yagsdfhg</td>\n",
       "      <td>0</td>\n",
       "      <td>5, 10, 8, 19, 13, 3, 21, 11, 2, 9, 6, 12, 15, ...</td>\n",
       "      <td>10.0</td>\n",
       "      <td>NaN</td>\n",
       "      <td>EST5EDT</td>\n",
       "      <td>SB_DEMO</td>\n",
       "    </tr>\n",
       "    <tr>\n",
       "      <th>1</th>\n",
       "      <td>6</td>\n",
       "      <td>-999</td>\n",
       "      <td>Solo Milling, Inc</td>\n",
       "      <td>MTG_SOUNDTRACK_COREMILLINGCENTER</td>\n",
       "      <td>solomilling.labstar.com</td>\n",
       "      <td>NaN</td>\n",
       "      <td>2019-01-10 01:08:02.610</td>\n",
       "      <td>1</td>\n",
       "      <td>1</td>\n",
       "      <td>/pub/subscribers/6/login.png</td>\n",
       "      <td>...</td>\n",
       "      <td>Solo Milling, Inc</td>\n",
       "      <td>/pub/subscribers/6/doc_som.png</td>\n",
       "      <td>solomilling@dentaldropbox.com</td>\n",
       "      <td>125365124365yagsdfhg</td>\n",
       "      <td>0</td>\n",
       "      <td>5, 10, 8, 19, 13, 3, 21, 11, 2, 9, 6, 12, 15, ...</td>\n",
       "      <td>20.0</td>\n",
       "      <td>6.0</td>\n",
       "      <td>US/Pacific</td>\n",
       "      <td>COREMILLINGCENTER</td>\n",
       "    </tr>\n",
       "    <tr>\n",
       "      <th>2</th>\n",
       "      <td>7</td>\n",
       "      <td>-999</td>\n",
       "      <td>Neo Dental Ltd</td>\n",
       "      <td>MTG_SOUNDTRACK_ADL</td>\n",
       "      <td>adl.labstar.com</td>\n",
       "      <td>NaN</td>\n",
       "      <td>2014-06-11 23:04:34.000</td>\n",
       "      <td>1</td>\n",
       "      <td>1</td>\n",
       "      <td>/pub/subscribers/7/login.png</td>\n",
       "      <td>...</td>\n",
       "      <td>Neo Dental Ltd</td>\n",
       "      <td>/pub/subscribers/7/doc_som.png</td>\n",
       "      <td>adl@dentaldropbox.com</td>\n",
       "      <td>125365124365yagsdfhg</td>\n",
       "      <td>1</td>\n",
       "      <td>1, 2, 3, 4, 5, 6, 7, 8, 9, 10, 11, 12, 13, 14,...</td>\n",
       "      <td>10.0</td>\n",
       "      <td>6.0</td>\n",
       "      <td>Pacific/Auckland</td>\n",
       "      <td>ADL</td>\n",
       "    </tr>\n",
       "    <tr>\n",
       "      <th>3</th>\n",
       "      <td>10</td>\n",
       "      <td>-999</td>\n",
       "      <td>Azztech Dental Studio</td>\n",
       "      <td>MTG_SOUNDTRACK_AZZTECH</td>\n",
       "      <td>azztechdentalstudio.labstar.com</td>\n",
       "      <td>NaN</td>\n",
       "      <td>2011-06-01 19:50:21.000</td>\n",
       "      <td>1</td>\n",
       "      <td>1</td>\n",
       "      <td>/pub/subscribers/10/login.png</td>\n",
       "      <td>...</td>\n",
       "      <td>Azztech Dental Studio</td>\n",
       "      <td>/pub/subscribers/10/doc_som.png</td>\n",
       "      <td>azztechdentalstudio@dentaldropbox.com</td>\n",
       "      <td>125365124365yagsdfhg</td>\n",
       "      <td>1</td>\n",
       "      <td>1, 2, 3, 4, 5, 6, 8, 9, 10, 11, 12, 13, 14, 15...</td>\n",
       "      <td>20.0</td>\n",
       "      <td>6.0</td>\n",
       "      <td>EST5EDT</td>\n",
       "      <td>AZZTECH</td>\n",
       "    </tr>\n",
       "    <tr>\n",
       "      <th>4</th>\n",
       "      <td>11</td>\n",
       "      <td>-999</td>\n",
       "      <td>Jet Lab</td>\n",
       "      <td>MTG_SOUNDTRACK_JETLAB</td>\n",
       "      <td>jetlab.labstar.com</td>\n",
       "      <td>NaN</td>\n",
       "      <td>2016-04-28 00:16:21.270</td>\n",
       "      <td>2</td>\n",
       "      <td>1</td>\n",
       "      <td>/pub/subscribers/11/login.png</td>\n",
       "      <td>...</td>\n",
       "      <td>Jet Lab</td>\n",
       "      <td>/pub/subscribers/11/doc_som.png</td>\n",
       "      <td>jetlab@dentaldropbox.com</td>\n",
       "      <td>125365124365yagsdfhg</td>\n",
       "      <td>0</td>\n",
       "      <td>5, 10, 8, 13, 3, 11, 2, 9, 6, 12, 15, 1, 16, 1...</td>\n",
       "      <td>40.0</td>\n",
       "      <td>4.0</td>\n",
       "      <td>US/Mountain</td>\n",
       "      <td>JETLAB</td>\n",
       "    </tr>\n",
       "  </tbody>\n",
       "</table>\n",
       "<p>5 rows × 34 columns</p>\n",
       "</div>"
      ],
      "text/plain": [
       "   id  group_id                   name                          database  \\\n",
       "0   4      -999         LabStar Demo 2            MTG_SOUNDTRACK_SB_DEMO   \n",
       "1   6      -999      Solo Milling, Inc  MTG_SOUNDTRACK_COREMILLINGCENTER   \n",
       "2   7      -999         Neo Dental Ltd                MTG_SOUNDTRACK_ADL   \n",
       "3  10      -999  Azztech Dental Studio            MTG_SOUNDTRACK_AZZTECH   \n",
       "4  11      -999                Jet Lab             MTG_SOUNDTRACK_JETLAB   \n",
       "\n",
       "                               url                 remarks  \\\n",
       "0                demo2.labstar.com  MTG_SOUNDTRACK_SB_DEMO   \n",
       "1          solomilling.labstar.com                     NaN   \n",
       "2                  adl.labstar.com                     NaN   \n",
       "3  azztechdentalstudio.labstar.com                     NaN   \n",
       "4               jetlab.labstar.com                     NaN   \n",
       "\n",
       "               lastupdated  updatedby  bActive                          logo1  \\\n",
       "0  2017-11-16 05:38:33.763          1        1   /pub/subscribers/4/login.png   \n",
       "1  2019-01-10 01:08:02.610          1        1   /pub/subscribers/6/login.png   \n",
       "2  2014-06-11 23:04:34.000          1        1   /pub/subscribers/7/login.png   \n",
       "3  2011-06-01 19:50:21.000          1        1  /pub/subscribers/10/login.png   \n",
       "4  2016-04-28 00:16:21.270          2        1  /pub/subscribers/11/login.png   \n",
       "\n",
       "         ...                  internal_name                   document_logo3  \\\n",
       "0        ...                 LabStar Demo 2   /pub/subscribers/4/doc_som.png   \n",
       "1        ...              Solo Milling, Inc   /pub/subscribers/6/doc_som.png   \n",
       "2        ...                 Neo Dental Ltd   /pub/subscribers/7/doc_som.png   \n",
       "3        ...          Azztech Dental Studio  /pub/subscribers/10/doc_som.png   \n",
       "4        ...                        Jet Lab  /pub/subscribers/11/doc_som.png   \n",
       "\n",
       "                                dt_email               dt_pass  \\\n",
       "0                demo2@dentaldropbox.com  125365124365yagsdfhg   \n",
       "1          solomilling@dentaldropbox.com  125365124365yagsdfhg   \n",
       "2                  adl@dentaldropbox.com  125365124365yagsdfhg   \n",
       "3  azztechdentalstudio@dentaldropbox.com  125365124365yagsdfhg   \n",
       "4               jetlab@dentaldropbox.com  125365124365yagsdfhg   \n",
       "\n",
       "   mobile_app_func                                        feature_set  \\\n",
       "0                0  5, 10, 8, 19, 13, 3, 21, 11, 2, 9, 6, 12, 15, ...   \n",
       "1                0  5, 10, 8, 19, 13, 3, 21, 11, 2, 9, 6, 12, 15, ...   \n",
       "2                1  1, 2, 3, 4, 5, 6, 7, 8, 9, 10, 11, 12, 13, 14,...   \n",
       "3                1  1, 2, 3, 4, 5, 6, 8, 9, 10, 11, 12, 13, 14, 15...   \n",
       "4                0  5, 10, 8, 13, 3, 11, 2, 9, 6, 12, 15, 1, 16, 1...   \n",
       "\n",
       "  site_location_server subscription_plan          timezone            labName  \n",
       "0                 10.0               NaN           EST5EDT            SB_DEMO  \n",
       "1                 20.0               6.0        US/Pacific  COREMILLINGCENTER  \n",
       "2                 10.0               6.0  Pacific/Auckland                ADL  \n",
       "3                 20.0               6.0           EST5EDT            AZZTECH  \n",
       "4                 40.0               4.0       US/Mountain             JETLAB  \n",
       "\n",
       "[5 rows x 34 columns]"
      ]
     },
     "execution_count": 43,
     "metadata": {},
     "output_type": "execute_result"
    }
   ],
   "source": [
    "df_subscribers = pd.read_csv(\"data/subscribers_clean1.csv\")\n",
    "df_subscribers.head()"
   ]
  },
  {
   "cell_type": "code",
   "execution_count": 44,
   "metadata": {},
   "outputs": [
    {
     "name": "stdout",
     "output_type": "stream",
     "text": [
      "<class 'pandas.core.frame.DataFrame'>\n",
      "RangeIndex: 488 entries, 0 to 487\n",
      "Data columns (total 34 columns):\n",
      "id                      488 non-null int64\n",
      "group_id                488 non-null int64\n",
      "name                    488 non-null object\n",
      "database                488 non-null object\n",
      "url                     488 non-null object\n",
      "remarks                 3 non-null object\n",
      "lastupdated             488 non-null object\n",
      "updatedby               488 non-null int64\n",
      "bActive                 488 non-null int64\n",
      "logo1                   488 non-null object\n",
      "logo2                   488 non-null object\n",
      "logo3                   0 non-null float64\n",
      "document_logo           488 non-null object\n",
      "email                   488 non-null object\n",
      "https                   488 non-null int64\n",
      "remote_upload           488 non-null int64\n",
      "login_screen_txt1       1 non-null object\n",
      "subscriber_langs        22 non-null object\n",
      "client_langs            22 non-null object\n",
      "manufacturer_langs      17 non-null object\n",
      "login_screen_lang       488 non-null int64\n",
      "scan_logo               488 non-null object\n",
      "document_logo2          488 non-null object\n",
      "site_location           488 non-null int64\n",
      "internal_name           488 non-null object\n",
      "document_logo3          130 non-null object\n",
      "dt_email                485 non-null object\n",
      "dt_pass                 488 non-null object\n",
      "mobile_app_func         488 non-null int64\n",
      "feature_set             488 non-null object\n",
      "site_location_server    470 non-null float64\n",
      "subscription_plan       481 non-null float64\n",
      "timezone                487 non-null object\n",
      "labName                 488 non-null object\n",
      "dtypes: float64(3), int64(9), object(22)\n",
      "memory usage: 129.7+ KB\n"
     ]
    }
   ],
   "source": [
    "df_subscribers.info()"
   ]
  },
  {
   "cell_type": "code",
   "execution_count": 45,
   "metadata": {},
   "outputs": [
    {
     "data": {
      "text/html": [
       "<div>\n",
       "<style scoped>\n",
       "    .dataframe tbody tr th:only-of-type {\n",
       "        vertical-align: middle;\n",
       "    }\n",
       "\n",
       "    .dataframe tbody tr th {\n",
       "        vertical-align: top;\n",
       "    }\n",
       "\n",
       "    .dataframe thead th {\n",
       "        text-align: right;\n",
       "    }\n",
       "</style>\n",
       "<table border=\"1\" class=\"dataframe\">\n",
       "  <thead>\n",
       "    <tr style=\"text-align: right;\">\n",
       "      <th></th>\n",
       "      <th>lab_name</th>\n",
       "      <th>subscriber_id</th>\n",
       "      <th>subscriber_group_id</th>\n",
       "      <th>subscriber_name</th>\n",
       "      <th>subscription_plan_id</th>\n",
       "      <th>subscriber_last_updated</th>\n",
       "      <th>feature_set</th>\n",
       "    </tr>\n",
       "  </thead>\n",
       "  <tbody>\n",
       "    <tr>\n",
       "      <th>0</th>\n",
       "      <td>SB_DEMO</td>\n",
       "      <td>4</td>\n",
       "      <td>-999</td>\n",
       "      <td>LabStar Demo 2</td>\n",
       "      <td>NaN</td>\n",
       "      <td>2017-11-16 05:38:33.763</td>\n",
       "      <td>5, 10, 8, 19, 13, 3, 21, 11, 2, 9, 6, 12, 15, ...</td>\n",
       "    </tr>\n",
       "    <tr>\n",
       "      <th>1</th>\n",
       "      <td>COREMILLINGCENTER</td>\n",
       "      <td>6</td>\n",
       "      <td>-999</td>\n",
       "      <td>Solo Milling, Inc</td>\n",
       "      <td>6.0</td>\n",
       "      <td>2019-01-10 01:08:02.610</td>\n",
       "      <td>5, 10, 8, 19, 13, 3, 21, 11, 2, 9, 6, 12, 15, ...</td>\n",
       "    </tr>\n",
       "    <tr>\n",
       "      <th>2</th>\n",
       "      <td>ADL</td>\n",
       "      <td>7</td>\n",
       "      <td>-999</td>\n",
       "      <td>Neo Dental Ltd</td>\n",
       "      <td>6.0</td>\n",
       "      <td>2014-06-11 23:04:34.000</td>\n",
       "      <td>1, 2, 3, 4, 5, 6, 7, 8, 9, 10, 11, 12, 13, 14,...</td>\n",
       "    </tr>\n",
       "    <tr>\n",
       "      <th>3</th>\n",
       "      <td>AZZTECH</td>\n",
       "      <td>10</td>\n",
       "      <td>-999</td>\n",
       "      <td>Azztech Dental Studio</td>\n",
       "      <td>6.0</td>\n",
       "      <td>2011-06-01 19:50:21.000</td>\n",
       "      <td>1, 2, 3, 4, 5, 6, 8, 9, 10, 11, 12, 13, 14, 15...</td>\n",
       "    </tr>\n",
       "    <tr>\n",
       "      <th>4</th>\n",
       "      <td>JETLAB</td>\n",
       "      <td>11</td>\n",
       "      <td>-999</td>\n",
       "      <td>Jet Lab</td>\n",
       "      <td>4.0</td>\n",
       "      <td>2016-04-28 00:16:21.270</td>\n",
       "      <td>5, 10, 8, 13, 3, 11, 2, 9, 6, 12, 15, 1, 16, 1...</td>\n",
       "    </tr>\n",
       "  </tbody>\n",
       "</table>\n",
       "</div>"
      ],
      "text/plain": [
       "            lab_name  subscriber_id  subscriber_group_id  \\\n",
       "0            SB_DEMO              4                 -999   \n",
       "1  COREMILLINGCENTER              6                 -999   \n",
       "2                ADL              7                 -999   \n",
       "3            AZZTECH             10                 -999   \n",
       "4             JETLAB             11                 -999   \n",
       "\n",
       "         subscriber_name  subscription_plan_id  subscriber_last_updated  \\\n",
       "0         LabStar Demo 2                   NaN  2017-11-16 05:38:33.763   \n",
       "1      Solo Milling, Inc                   6.0  2019-01-10 01:08:02.610   \n",
       "2         Neo Dental Ltd                   6.0  2014-06-11 23:04:34.000   \n",
       "3  Azztech Dental Studio                   6.0  2011-06-01 19:50:21.000   \n",
       "4                Jet Lab                   4.0  2016-04-28 00:16:21.270   \n",
       "\n",
       "                                         feature_set  \n",
       "0  5, 10, 8, 19, 13, 3, 21, 11, 2, 9, 6, 12, 15, ...  \n",
       "1  5, 10, 8, 19, 13, 3, 21, 11, 2, 9, 6, 12, 15, ...  \n",
       "2  1, 2, 3, 4, 5, 6, 7, 8, 9, 10, 11, 12, 13, 14,...  \n",
       "3  1, 2, 3, 4, 5, 6, 8, 9, 10, 11, 12, 13, 14, 15...  \n",
       "4  5, 10, 8, 13, 3, 11, 2, 9, 6, 12, 15, 1, 16, 1...  "
      ]
     },
     "execution_count": 45,
     "metadata": {},
     "output_type": "execute_result"
    }
   ],
   "source": [
    "# Extract columns needed for analysis\n",
    "df_subscribers_reduced = df_subscribers[['labName', 'id', 'group_id', 'name', 'subscription_plan',\n",
    "                                'lastupdated', 'feature_set']]\n",
    "\n",
    "# Rename some columns\n",
    "df_subscribers_reduced = df_subscribers_reduced.rename(columns={'labName': 'lab_name', 'id': 'subscriber_id', \n",
    "                                                                'group_id': 'subscriber_group_id',\n",
    "                                                                'name': 'subscriber_name',\n",
    "                                                               'lastupdated': 'subscriber_last_updated',\n",
    "                                                               'subscription_plan': 'subscription_plan_id'})\n",
    "df_subscribers_reduced.head()"
   ]
  },
  {
   "cell_type": "code",
   "execution_count": 50,
   "metadata": {},
   "outputs": [
    {
     "name": "stdout",
     "output_type": "stream",
     "text": [
      "<class 'pandas.core.frame.DataFrame'>\n",
      "RangeIndex: 488 entries, 0 to 487\n",
      "Data columns (total 7 columns):\n",
      "lab_name                   488 non-null object\n",
      "subscriber_id              488 non-null int64\n",
      "subscriber_group_id        488 non-null int64\n",
      "subscriber_name            488 non-null object\n",
      "subscription_plan_id       481 non-null float64\n",
      "subscriber_last_updated    488 non-null object\n",
      "feature_set                488 non-null object\n",
      "dtypes: float64(1), int64(2), object(4)\n",
      "memory usage: 26.8+ KB\n"
     ]
    }
   ],
   "source": [
    "df_subscribers_reduced.info()"
   ]
  },
  {
   "cell_type": "code",
   "execution_count": 47,
   "metadata": {},
   "outputs": [
    {
     "data": {
      "text/plain": [
       "array(['SB_DEMO', 'SB_DEMO4', 'SB_DEMO3', 'DEMO_ELB', 'TEST_EAST',\n",
       "       'DEMO5', 'DEMO6'], dtype=object)"
      ]
     },
     "execution_count": 47,
     "metadata": {},
     "output_type": "execute_result"
    }
   ],
   "source": [
    "# Identify and drop demo subscribers/labs\n",
    "labs_out =  df_subscribers_reduced[df_subscribers_reduced['subscription_plan_id'].isnull()]\n",
    "labs_out.lab_name.unique()"
   ]
  },
  {
   "cell_type": "code",
   "execution_count": null,
   "metadata": {},
   "outputs": [],
   "source": [
    "df_subscribers_reduced.dropna(subset=['subscription_plan_id'], inplace=True)\n",
    "df_subscribers_reduced['subscription_plan_id'] = df_subscribers_reduced['subscription_plan_id'].astype(int)\n",
    "df_subscribers_reduced.info()"
   ]
  },
  {
   "cell_type": "code",
   "execution_count": null,
   "metadata": {},
   "outputs": [],
   "source": [
    "df_subscribers_reduced.head()"
   ]
  },
  {
   "cell_type": "code",
   "execution_count": null,
   "metadata": {},
   "outputs": [],
   "source": [
    "\n"
   ]
  },
  {
   "cell_type": "code",
   "execution_count": null,
   "metadata": {},
   "outputs": [],
   "source": [
    "df_subscribers_reduced.subscription_plan_name.value_counts()"
   ]
  },
  {
   "cell_type": "code",
   "execution_count": null,
   "metadata": {},
   "outputs": [],
   "source": [
    "# Transform 'subscriber_last_updated' to datetime & create 'subscriber_year' column\n",
    "df_subscribers_reduced['subscriber_last_updated'] = pd.to_datetime(df_subscribers_reduced['subscriber_last_updated']).apply(lambda x: x.strftime('%Y-%m-%d'))\n",
    "df_subscribers_reduced['subscriber_year'] = pd.to_datetime(df_subscribers_reduced['subscriber_last_updated']).apply(lambda x: x.strftime('%Y'))\n",
    "df_subscribers_reduced.head()\n"
   ]
  },
  {
   "cell_type": "code",
   "execution_count": null,
   "metadata": {},
   "outputs": [],
   "source": [
    "df_subscribers_reduced.subscriber_year.value_counts()"
   ]
  },
  {
   "cell_type": "code",
   "execution_count": null,
   "metadata": {},
   "outputs": [],
   "source": [
    "df_subscribers_reduced.info()"
   ]
  },
  {
   "cell_type": "code",
   "execution_count": 51,
   "metadata": {},
   "outputs": [
    {
     "name": "stdout",
     "output_type": "stream",
     "text": [
      "<class 'pandas.core.frame.DataFrame'>\n",
      "Int64Index: 488 entries, 0 to 487\n",
      "Data columns (total 2 columns):\n",
      "lab_name       488 non-null object\n",
      "feature_set    488 non-null object\n",
      "dtypes: object(2)\n",
      "memory usage: 11.4+ KB\n"
     ]
    }
   ],
   "source": [
    "df_features = df_subscribers_reduced[['lab_name', 'feature_set']].dropna()\n",
    "df_features.info()"
   ]
  },
  {
   "cell_type": "code",
   "execution_count": 52,
   "metadata": {},
   "outputs": [
    {
     "data": {
      "text/html": [
       "<div>\n",
       "<style scoped>\n",
       "    .dataframe tbody tr th:only-of-type {\n",
       "        vertical-align: middle;\n",
       "    }\n",
       "\n",
       "    .dataframe tbody tr th {\n",
       "        vertical-align: top;\n",
       "    }\n",
       "\n",
       "    .dataframe thead th {\n",
       "        text-align: right;\n",
       "    }\n",
       "</style>\n",
       "<table border=\"1\" class=\"dataframe\">\n",
       "  <thead>\n",
       "    <tr style=\"text-align: right;\">\n",
       "      <th></th>\n",
       "      <th>lab_name</th>\n",
       "      <th>feature_set</th>\n",
       "    </tr>\n",
       "  </thead>\n",
       "  <tbody>\n",
       "    <tr>\n",
       "      <th>0</th>\n",
       "      <td>SB_DEMO</td>\n",
       "      <td>5, 10, 8, 19, 13, 3, 21, 11, 2, 9, 6, 12, 15, ...</td>\n",
       "    </tr>\n",
       "    <tr>\n",
       "      <th>1</th>\n",
       "      <td>COREMILLINGCENTER</td>\n",
       "      <td>5, 10, 8, 19, 13, 3, 21, 11, 2, 9, 6, 12, 15, ...</td>\n",
       "    </tr>\n",
       "    <tr>\n",
       "      <th>2</th>\n",
       "      <td>ADL</td>\n",
       "      <td>1, 2, 3, 4, 5, 6, 7, 8, 9, 10, 11, 12, 13, 14,...</td>\n",
       "    </tr>\n",
       "    <tr>\n",
       "      <th>3</th>\n",
       "      <td>AZZTECH</td>\n",
       "      <td>1, 2, 3, 4, 5, 6, 8, 9, 10, 11, 12, 13, 14, 15...</td>\n",
       "    </tr>\n",
       "    <tr>\n",
       "      <th>4</th>\n",
       "      <td>JETLAB</td>\n",
       "      <td>5, 10, 8, 13, 3, 11, 2, 9, 6, 12, 15, 1, 16, 1...</td>\n",
       "    </tr>\n",
       "  </tbody>\n",
       "</table>\n",
       "</div>"
      ],
      "text/plain": [
       "            lab_name                                        feature_set\n",
       "0            SB_DEMO  5, 10, 8, 19, 13, 3, 21, 11, 2, 9, 6, 12, 15, ...\n",
       "1  COREMILLINGCENTER  5, 10, 8, 19, 13, 3, 21, 11, 2, 9, 6, 12, 15, ...\n",
       "2                ADL  1, 2, 3, 4, 5, 6, 7, 8, 9, 10, 11, 12, 13, 14,...\n",
       "3            AZZTECH  1, 2, 3, 4, 5, 6, 8, 9, 10, 11, 12, 13, 14, 15...\n",
       "4             JETLAB  5, 10, 8, 13, 3, 11, 2, 9, 6, 12, 15, 1, 16, 1..."
      ]
     },
     "execution_count": 52,
     "metadata": {},
     "output_type": "execute_result"
    }
   ],
   "source": [
    "df_features.head()"
   ]
  },
  {
   "cell_type": "code",
   "execution_count": 53,
   "metadata": {},
   "outputs": [
    {
     "data": {
      "text/html": [
       "<div>\n",
       "<style scoped>\n",
       "    .dataframe tbody tr th:only-of-type {\n",
       "        vertical-align: middle;\n",
       "    }\n",
       "\n",
       "    .dataframe tbody tr th {\n",
       "        vertical-align: top;\n",
       "    }\n",
       "\n",
       "    .dataframe thead th {\n",
       "        text-align: right;\n",
       "    }\n",
       "</style>\n",
       "<table border=\"1\" class=\"dataframe\">\n",
       "  <thead>\n",
       "    <tr style=\"text-align: right;\">\n",
       "      <th></th>\n",
       "      <th>0</th>\n",
       "      <th>1</th>\n",
       "      <th>2</th>\n",
       "      <th>3</th>\n",
       "      <th>4</th>\n",
       "      <th>5</th>\n",
       "      <th>6</th>\n",
       "      <th>7</th>\n",
       "      <th>8</th>\n",
       "      <th>9</th>\n",
       "      <th>...</th>\n",
       "      <th>14</th>\n",
       "      <th>15</th>\n",
       "      <th>16</th>\n",
       "      <th>17</th>\n",
       "      <th>18</th>\n",
       "      <th>19</th>\n",
       "      <th>20</th>\n",
       "      <th>21</th>\n",
       "      <th>22</th>\n",
       "      <th>nb_features</th>\n",
       "    </tr>\n",
       "  </thead>\n",
       "  <tbody>\n",
       "    <tr>\n",
       "      <th>0</th>\n",
       "      <td>5</td>\n",
       "      <td>10</td>\n",
       "      <td>8</td>\n",
       "      <td>19</td>\n",
       "      <td>13</td>\n",
       "      <td>3</td>\n",
       "      <td>21</td>\n",
       "      <td>11</td>\n",
       "      <td>2</td>\n",
       "      <td>9</td>\n",
       "      <td>...</td>\n",
       "      <td>17</td>\n",
       "      <td>1</td>\n",
       "      <td>16</td>\n",
       "      <td>14</td>\n",
       "      <td>22</td>\n",
       "      <td>7</td>\n",
       "      <td>23</td>\n",
       "      <td>4</td>\n",
       "      <td>20</td>\n",
       "      <td>23</td>\n",
       "    </tr>\n",
       "    <tr>\n",
       "      <th>1</th>\n",
       "      <td>5</td>\n",
       "      <td>10</td>\n",
       "      <td>8</td>\n",
       "      <td>19</td>\n",
       "      <td>13</td>\n",
       "      <td>3</td>\n",
       "      <td>21</td>\n",
       "      <td>11</td>\n",
       "      <td>2</td>\n",
       "      <td>9</td>\n",
       "      <td>...</td>\n",
       "      <td>16</td>\n",
       "      <td>14</td>\n",
       "      <td>23</td>\n",
       "      <td>4</td>\n",
       "      <td>20</td>\n",
       "      <td>None</td>\n",
       "      <td>None</td>\n",
       "      <td>None</td>\n",
       "      <td>None</td>\n",
       "      <td>19</td>\n",
       "    </tr>\n",
       "    <tr>\n",
       "      <th>2</th>\n",
       "      <td>1</td>\n",
       "      <td>2</td>\n",
       "      <td>3</td>\n",
       "      <td>4</td>\n",
       "      <td>5</td>\n",
       "      <td>6</td>\n",
       "      <td>7</td>\n",
       "      <td>8</td>\n",
       "      <td>9</td>\n",
       "      <td>10</td>\n",
       "      <td>...</td>\n",
       "      <td>15</td>\n",
       "      <td>16</td>\n",
       "      <td>19</td>\n",
       "      <td>20</td>\n",
       "      <td>21</td>\n",
       "      <td>23</td>\n",
       "      <td>None</td>\n",
       "      <td>None</td>\n",
       "      <td>None</td>\n",
       "      <td>20</td>\n",
       "    </tr>\n",
       "    <tr>\n",
       "      <th>3</th>\n",
       "      <td>1</td>\n",
       "      <td>2</td>\n",
       "      <td>3</td>\n",
       "      <td>4</td>\n",
       "      <td>5</td>\n",
       "      <td>6</td>\n",
       "      <td>8</td>\n",
       "      <td>9</td>\n",
       "      <td>10</td>\n",
       "      <td>11</td>\n",
       "      <td>...</td>\n",
       "      <td>16</td>\n",
       "      <td>19</td>\n",
       "      <td>20</td>\n",
       "      <td>21</td>\n",
       "      <td>23</td>\n",
       "      <td>None</td>\n",
       "      <td>None</td>\n",
       "      <td>None</td>\n",
       "      <td>None</td>\n",
       "      <td>19</td>\n",
       "    </tr>\n",
       "    <tr>\n",
       "      <th>4</th>\n",
       "      <td>5</td>\n",
       "      <td>10</td>\n",
       "      <td>8</td>\n",
       "      <td>13</td>\n",
       "      <td>3</td>\n",
       "      <td>11</td>\n",
       "      <td>2</td>\n",
       "      <td>9</td>\n",
       "      <td>6</td>\n",
       "      <td>12</td>\n",
       "      <td>...</td>\n",
       "      <td>4</td>\n",
       "      <td>7</td>\n",
       "      <td>17</td>\n",
       "      <td>18</td>\n",
       "      <td>19</td>\n",
       "      <td>20</td>\n",
       "      <td>21</td>\n",
       "      <td>22</td>\n",
       "      <td>23</td>\n",
       "      <td>23</td>\n",
       "    </tr>\n",
       "  </tbody>\n",
       "</table>\n",
       "<p>5 rows × 24 columns</p>\n",
       "</div>"
      ],
      "text/plain": [
       "   0    1   2    3    4    5    6    7    8    9     ...       14   15   16  \\\n",
       "0  5   10   8   19   13    3   21   11    2    9     ...       17    1   16   \n",
       "1  5   10   8   19   13    3   21   11    2    9     ...       16   14   23   \n",
       "2  1    2   3    4    5    6    7    8    9   10     ...       15   16   19   \n",
       "3  1    2   3    4    5    6    8    9   10   11     ...       16   19   20   \n",
       "4  5   10   8   13    3   11    2    9    6   12     ...        4    7   17   \n",
       "\n",
       "    17   18    19    20    21    22 nb_features  \n",
       "0   14   22     7    23     4    20          23  \n",
       "1    4   20  None  None  None  None          19  \n",
       "2   20   21    23  None  None  None          20  \n",
       "3   21   23  None  None  None  None          19  \n",
       "4   18   19    20    21    22    23          23  \n",
       "\n",
       "[5 rows x 24 columns]"
      ]
     },
     "execution_count": 53,
     "metadata": {},
     "output_type": "execute_result"
    }
   ],
   "source": [
    "df_features_exp = df_features['feature_set'].str.split(',', expand = True)\n",
    "df_features_exp['nb_features'] = df_features_exp.count(axis=1).apply(lambda x: str(x))\n",
    "df_features_exp.head()"
   ]
  },
  {
   "cell_type": "code",
   "execution_count": 54,
   "metadata": {},
   "outputs": [
    {
     "data": {
      "text/html": [
       "<div>\n",
       "<style scoped>\n",
       "    .dataframe tbody tr th:only-of-type {\n",
       "        vertical-align: middle;\n",
       "    }\n",
       "\n",
       "    .dataframe tbody tr th {\n",
       "        vertical-align: top;\n",
       "    }\n",
       "\n",
       "    .dataframe thead th {\n",
       "        text-align: right;\n",
       "    }\n",
       "</style>\n",
       "<table border=\"1\" class=\"dataframe\">\n",
       "  <thead>\n",
       "    <tr style=\"text-align: right;\">\n",
       "      <th></th>\n",
       "      <th>lab_name</th>\n",
       "      <th>nb_features</th>\n",
       "    </tr>\n",
       "  </thead>\n",
       "  <tbody>\n",
       "    <tr>\n",
       "      <th>0</th>\n",
       "      <td>SB_DEMO</td>\n",
       "      <td>23</td>\n",
       "    </tr>\n",
       "    <tr>\n",
       "      <th>1</th>\n",
       "      <td>COREMILLINGCENTER</td>\n",
       "      <td>19</td>\n",
       "    </tr>\n",
       "    <tr>\n",
       "      <th>2</th>\n",
       "      <td>ADL</td>\n",
       "      <td>20</td>\n",
       "    </tr>\n",
       "    <tr>\n",
       "      <th>3</th>\n",
       "      <td>AZZTECH</td>\n",
       "      <td>19</td>\n",
       "    </tr>\n",
       "    <tr>\n",
       "      <th>4</th>\n",
       "      <td>JETLAB</td>\n",
       "      <td>23</td>\n",
       "    </tr>\n",
       "  </tbody>\n",
       "</table>\n",
       "</div>"
      ],
      "text/plain": [
       "            lab_name nb_features\n",
       "0            SB_DEMO          23\n",
       "1  COREMILLINGCENTER          19\n",
       "2                ADL          20\n",
       "3            AZZTECH          19\n",
       "4             JETLAB          23"
      ]
     },
     "execution_count": 54,
     "metadata": {},
     "output_type": "execute_result"
    }
   ],
   "source": [
    "df_features['nb_features'] = df_features_exp['nb_features']\n",
    "df_features_exp.drop('nb_features', axis=1, inplace=True)\n",
    "df_features.drop('feature_set', axis=1, inplace=True)\n",
    "df_features.head()"
   ]
  },
  {
   "cell_type": "code",
   "execution_count": 55,
   "metadata": {},
   "outputs": [
    {
     "data": {
      "text/html": [
       "<div>\n",
       "<style scoped>\n",
       "    .dataframe tbody tr th:only-of-type {\n",
       "        vertical-align: middle;\n",
       "    }\n",
       "\n",
       "    .dataframe tbody tr th {\n",
       "        vertical-align: top;\n",
       "    }\n",
       "\n",
       "    .dataframe thead th {\n",
       "        text-align: right;\n",
       "    }\n",
       "</style>\n",
       "<table border=\"1\" class=\"dataframe\">\n",
       "  <thead>\n",
       "    <tr style=\"text-align: right;\">\n",
       "      <th></th>\n",
       "      <th>lab_name</th>\n",
       "      <th>subscriber_id</th>\n",
       "      <th>subscriber_group_id</th>\n",
       "      <th>subscriber_name</th>\n",
       "      <th>subscription_plan_id</th>\n",
       "      <th>subscriber_last_updated</th>\n",
       "      <th>nb_features</th>\n",
       "    </tr>\n",
       "  </thead>\n",
       "  <tbody>\n",
       "    <tr>\n",
       "      <th>0</th>\n",
       "      <td>SB_DEMO</td>\n",
       "      <td>4</td>\n",
       "      <td>-999</td>\n",
       "      <td>LabStar Demo 2</td>\n",
       "      <td>NaN</td>\n",
       "      <td>2017-11-16 05:38:33.763</td>\n",
       "      <td>23</td>\n",
       "    </tr>\n",
       "    <tr>\n",
       "      <th>1</th>\n",
       "      <td>COREMILLINGCENTER</td>\n",
       "      <td>6</td>\n",
       "      <td>-999</td>\n",
       "      <td>Solo Milling, Inc</td>\n",
       "      <td>6.0</td>\n",
       "      <td>2019-01-10 01:08:02.610</td>\n",
       "      <td>19</td>\n",
       "    </tr>\n",
       "    <tr>\n",
       "      <th>2</th>\n",
       "      <td>ADL</td>\n",
       "      <td>7</td>\n",
       "      <td>-999</td>\n",
       "      <td>Neo Dental Ltd</td>\n",
       "      <td>6.0</td>\n",
       "      <td>2014-06-11 23:04:34.000</td>\n",
       "      <td>20</td>\n",
       "    </tr>\n",
       "    <tr>\n",
       "      <th>3</th>\n",
       "      <td>AZZTECH</td>\n",
       "      <td>10</td>\n",
       "      <td>-999</td>\n",
       "      <td>Azztech Dental Studio</td>\n",
       "      <td>6.0</td>\n",
       "      <td>2011-06-01 19:50:21.000</td>\n",
       "      <td>19</td>\n",
       "    </tr>\n",
       "    <tr>\n",
       "      <th>4</th>\n",
       "      <td>JETLAB</td>\n",
       "      <td>11</td>\n",
       "      <td>-999</td>\n",
       "      <td>Jet Lab</td>\n",
       "      <td>4.0</td>\n",
       "      <td>2016-04-28 00:16:21.270</td>\n",
       "      <td>23</td>\n",
       "    </tr>\n",
       "  </tbody>\n",
       "</table>\n",
       "</div>"
      ],
      "text/plain": [
       "            lab_name  subscriber_id  subscriber_group_id  \\\n",
       "0            SB_DEMO              4                 -999   \n",
       "1  COREMILLINGCENTER              6                 -999   \n",
       "2                ADL              7                 -999   \n",
       "3            AZZTECH             10                 -999   \n",
       "4             JETLAB             11                 -999   \n",
       "\n",
       "         subscriber_name  subscription_plan_id  subscriber_last_updated  \\\n",
       "0         LabStar Demo 2                   NaN  2017-11-16 05:38:33.763   \n",
       "1      Solo Milling, Inc                   6.0  2019-01-10 01:08:02.610   \n",
       "2         Neo Dental Ltd                   6.0  2014-06-11 23:04:34.000   \n",
       "3  Azztech Dental Studio                   6.0  2011-06-01 19:50:21.000   \n",
       "4                Jet Lab                   4.0  2016-04-28 00:16:21.270   \n",
       "\n",
       "   nb_features  \n",
       "0           23  \n",
       "1           19  \n",
       "2           20  \n",
       "3           19  \n",
       "4           23  "
      ]
     },
     "execution_count": 55,
     "metadata": {},
     "output_type": "execute_result"
    }
   ],
   "source": [
    "df_subscribers_reduced.drop('feature_set', axis=1, inplace=True)\n",
    "df_subscribers_reduced = pd.merge(df_subscribers_reduced, df_features, how='left', on=['lab_name'])\n",
    "df_subscribers_reduced['nb_features'] = df_subscribers_reduced['nb_features'].apply(lambda x : int(x) if type(x) == str else '')\n",
    "df_subscribers_reduced.head()\n"
   ]
  },
  {
   "cell_type": "code",
   "execution_count": 56,
   "metadata": {},
   "outputs": [
    {
     "name": "stdout",
     "output_type": "stream",
     "text": [
      "<class 'pandas.core.frame.DataFrame'>\n",
      "Int64Index: 488 entries, 0 to 487\n",
      "Data columns (total 7 columns):\n",
      "lab_name                   488 non-null object\n",
      "subscriber_id              488 non-null int64\n",
      "subscriber_group_id        488 non-null int64\n",
      "subscriber_name            488 non-null object\n",
      "subscription_plan_id       481 non-null float64\n",
      "subscriber_last_updated    488 non-null object\n",
      "nb_features                488 non-null int64\n",
      "dtypes: float64(1), int64(3), object(3)\n",
      "memory usage: 30.5+ KB\n"
     ]
    }
   ],
   "source": [
    "df_subscribers_reduced.info()"
   ]
  },
  {
   "cell_type": "code",
   "execution_count": 57,
   "metadata": {},
   "outputs": [],
   "source": [
    "# Save to csv\n",
    "df_subscribers_reduced.to_csv('data/subscribers_clean2.csv', index=False, header=True)"
   ]
  },
  {
   "cell_type": "markdown",
   "metadata": {},
   "source": [
    "# Preparing table 'cases'"
   ]
  },
  {
   "cell_type": "code",
   "execution_count": null,
   "metadata": {},
   "outputs": [],
   "source": [
    "df_cases = pd.read_csv(\"data/cases_clean1.csv\")\n",
    "df_cases.head()"
   ]
  },
  {
   "cell_type": "code",
   "execution_count": null,
   "metadata": {},
   "outputs": [],
   "source": [
    "# Extract columns needed for analysis\n",
    "df_cases_reduced = df_cases[['labName', 'id', 'client_id', 'state',\n",
    "                             'createdOn', 'other_products', 'client_estimated_price']]\n",
    "# Rename some columns\n",
    "df_cases_reduced = df_cases_reduced.rename(columns={'labName': 'lab_name', 'id': 'case_id', 'createdOn': 'created_on',\n",
    "                                                   'state': 'case_state'})\n",
    "df_cases_reduced.head()"
   ]
  },
  {
   "cell_type": "code",
   "execution_count": null,
   "metadata": {},
   "outputs": [],
   "source": [
    "df_cases_reduced.info()"
   ]
  },
  {
   "cell_type": "code",
   "execution_count": null,
   "metadata": {},
   "outputs": [],
   "source": [
    "df_cases_reduced.isnull().sum()"
   ]
  },
  {
   "cell_type": "raw",
   "metadata": {},
   "source": [
    "# Calculate elapsed time between when a case is created and when it is marked as settled\n",
    "df_case_period = df_cases_reduced[['lab_name', 'case_id', 'created_on', 'settled_on']].dropna()\n",
    "df_case_period['created_on'] = df_case_period['created_on'].apply(lambda x: datetime.strptime(x, '%Y-%m-%d %H:%M:%S.%f'))\n",
    "df_case_period['settled_on'] = df_case_period['settled_on'].apply(lambda x: datetime.strptime(x, '%Y-%m-%d %H:%M:%S.%f'))\n",
    "df_case_period.head()\n"
   ]
  },
  {
   "cell_type": "raw",
   "metadata": {},
   "source": [
    "df_case_period['case_tdelta'] = (df_case_period.settled_on - df_case_period.created_on)\n",
    "df_case_period['case_tdelta_hours'] = (df_case_period.settled_on - df_case_period.created_on).astype('timedelta64[h]')\n",
    "df_case_period['case_tdelta_hours'] = df_case_period['case_tdelta_hours'].apply(lambda x: int(x)).apply(lambda x: str(x))\n",
    "df_case_period.head()\n"
   ]
  },
  {
   "cell_type": "raw",
   "metadata": {},
   "source": [
    "df_case_period.drop('created_on', axis=1, inplace=True)\n",
    "df_cases_reduced.drop('settled_on', axis=1, inplace=True)\n",
    "df_cases_reduced = pd.merge(df_cases_reduced, df_case_period, how='left', on=['lab_name', 'case_id'])\n",
    "#df_cases_reduced['case_tdelta_hours'] = df_cases_reduced['case_tdelta_hours'].apply(lambda x : int(x) if type(x) == str else '')\n",
    "df_cases_reduced.head()\n"
   ]
  },
  {
   "cell_type": "code",
   "execution_count": null,
   "metadata": {},
   "outputs": [],
   "source": [
    "df_cases_reduced.info()"
   ]
  },
  {
   "cell_type": "code",
   "execution_count": null,
   "metadata": {},
   "outputs": [],
   "source": [
    "#df_cases_reduced['created_on'] = pd.to_datetime(df_cases_reduced['created_on']).apply(lambda x: x.strftime('%Y-%m-%d'))\n",
    "#df_cases_reduced['case_tdelta'] = pd.to_timedelta(df_cases_reduced['case_tdelta'])\n",
    "df_cases_reduced['case_year'] = pd.to_datetime(df_cases_reduced['created_on']).apply(lambda x: x.strftime('%Y'))\n",
    "df_cases_reduced.head()"
   ]
  },
  {
   "cell_type": "code",
   "execution_count": null,
   "metadata": {},
   "outputs": [],
   "source": [
    "# Remove irrelevant years\n",
    "df_cases_reduced.case_year.unique()"
   ]
  },
  {
   "cell_type": "code",
   "execution_count": null,
   "metadata": {},
   "outputs": [],
   "source": [
    "df_cases_reduced = df_cases_reduced[df_cases_reduced.case_year != '1899']\n",
    "df_cases_reduced = df_cases_reduced[df_cases_reduced.case_year != '2010']\n",
    "df_cases_reduced.case_year.unique()"
   ]
  },
  {
   "cell_type": "code",
   "execution_count": null,
   "metadata": {},
   "outputs": [],
   "source": [
    "df_cases_reduced.info()"
   ]
  },
  {
   "cell_type": "raw",
   "metadata": {},
   "source": [
    "# Transform 'barcode to str\n",
    "df_barcode = df_cases_reduced[['lab_name', 'case_id', 'barcode']].dropna()\n",
    "df_barcode['barcode'] = df_barcode.barcode.apply(lambda x: int(x)).apply(lambda x: str(x))\n",
    "df_cases_reduced.drop('barcode', axis=1, inplace=True)\n",
    "df_cases_reduced = pd.merge(df_cases_reduced, df_barcode, how='left', on=['lab_name', 'case_id'])\n",
    "df_cases_reduced['barcode'] = df_cases_reduced['barcode'].apply(lambda x : x if type(x) == str else '')\n",
    "df_cases_reduced.head()"
   ]
  },
  {
   "cell_type": "raw",
   "metadata": {},
   "source": [
    "# Transform 'vendor_id' to int\n",
    "df_vendor_id = df_cases_reduced[['lab_name', 'case_id', 'vendor_id']].dropna()\n",
    "df_vendor_id['vendor_id'] = df_vendor_id.vendor_id.apply(lambda x: int(x)).apply(lambda x: str(x))\n",
    "df_cases_reduced.drop('vendor_id', axis=1, inplace=True)\n",
    "df_cases_reduced = pd.merge(df_cases_reduced, df_vendor_id, how='left', on=['lab_name', 'case_id'])\n",
    "df_cases_reduced['vendor_id'] = df_cases_reduced['vendor_id'].apply(lambda x : int(x) if type(x) == str else '')\n",
    "df_cases_reduced.head()"
   ]
  },
  {
   "cell_type": "raw",
   "metadata": {},
   "source": [
    "# Transform 'client_id' to int\n",
    "df_client_id = df_cases_reduced[['lab_name', 'case_id', 'client_id']].dropna()\n",
    "df_client_id['client_id'] = df_client_id.client_id.apply(lambda x: int(x)).apply(lambda x: str(x))\n",
    "df_cases_reduced.drop('client_id', axis=1, inplace=True)\n",
    "df_cases_reduced = pd.merge(df_cases_reduced, df_client_id, how='left', on=['lab_name', 'case_id'])\n",
    "df_cases_reduced['client_id'] = df_cases_reduced['client_id'].apply(lambda x : int(x) if type(x) == str else '')\n",
    "df_cases_reduced.head()"
   ]
  },
  {
   "cell_type": "raw",
   "metadata": {},
   "source": [
    "# Tranform 'case_state' to int\n",
    "df_state = df_cases_reduced[['lab_name', 'case_id', 'case_state']].dropna()\n",
    "df_state['case_state'] = df_state.case_state.apply(lambda x: int(x)).apply(lambda x: str(x))\n",
    "df_cases_reduced.drop('case_state', axis=1, inplace=True)\n",
    "df_cases_reduced = pd.merge(df_cases_reduced, df_state, how='left', on=['lab_name', 'case_id'])\n",
    "df_cases_reduced['case_state'] = df_cases_reduced['case_state'].apply(lambda x : int(x) if type(x) == str else '')\n",
    "df_cases_reduced.head()"
   ]
  },
  {
   "cell_type": "raw",
   "metadata": {},
   "source": [
    "# Transform 'created_by' to int\n",
    "df_created_by = df_cases_reduced[['lab_name', 'case_id', 'created_by']].dropna()\n",
    "df_created_by['created_by'] = df_created_by.created_by.apply(lambda x: int(x)).apply(lambda x: str(x))\n",
    "df_cases_reduced.drop('created_by', axis=1, inplace=True)\n",
    "df_cases_reduced = pd.merge(df_cases_reduced, df_created_by, how='left', on=['lab_name', 'case_id'])\n",
    "df_cases_reduced['created_by'] = df_cases_reduced['created_by'].apply(lambda x : int(x) if type(x) == str else '')\n",
    "df_cases_reduced.head()"
   ]
  },
  {
   "cell_type": "markdown",
   "metadata": {},
   "source": [
    "### Splitting items in 'other_products' field"
   ]
  },
  {
   "cell_type": "code",
   "execution_count": null,
   "metadata": {},
   "outputs": [],
   "source": [
    "df_other_products = df_cases_reduced[['lab_name', 'case_id', 'other_products']].dropna()\n",
    "df_other_products.info()"
   ]
  },
  {
   "cell_type": "code",
   "execution_count": null,
   "metadata": {},
   "outputs": [],
   "source": [
    "df_other_products.head()"
   ]
  },
  {
   "cell_type": "code",
   "execution_count": null,
   "metadata": {},
   "outputs": [],
   "source": [
    "df_other_products_exp = df_other_products['other_products'].str.split(',', expand = True)\n",
    "df_other_products_exp['nb_other_products'] = df_other_products_exp.count(axis=1).apply(lambda x: str(x))\n",
    "df_other_products_exp.head()"
   ]
  },
  {
   "cell_type": "code",
   "execution_count": null,
   "metadata": {},
   "outputs": [],
   "source": [
    "df_other_products['nb_other_products'] = df_other_products_exp['nb_other_products']\n",
    "df_other_products_exp.drop('nb_other_products', axis=1, inplace=True)\n",
    "df_other_products.drop('other_products', axis=1, inplace=True)\n",
    "df_other_products.head()"
   ]
  },
  {
   "cell_type": "code",
   "execution_count": null,
   "metadata": {},
   "outputs": [],
   "source": [
    "df_cases_reduced.drop('other_products', axis=1, inplace=True)\n",
    "df_cases_reduced = pd.merge(df_cases_reduced, df_other_products, how='left', on=['lab_name', 'case_id'])\n",
    "df_cases_reduced['nb_other_products'] = df_cases_reduced['nb_other_products'] #.apply(lambda x : int(x) if type(x) == str else '')\n",
    "df_cases_reduced.head()"
   ]
  },
  {
   "cell_type": "code",
   "execution_count": null,
   "metadata": {},
   "outputs": [],
   "source": [
    "df_cases_reduced.info()"
   ]
  },
  {
   "cell_type": "markdown",
   "metadata": {},
   "source": [
    "### Save prepped table 'cases' to csv"
   ]
  },
  {
   "cell_type": "code",
   "execution_count": null,
   "metadata": {},
   "outputs": [],
   "source": [
    "df_cases_reduced.to_csv('data/cases_clean2.csv', index=False, header=True)"
   ]
  },
  {
   "cell_type": "markdown",
   "metadata": {},
   "source": [
    "# Preparing table 'product_additional'"
   ]
  },
  {
   "cell_type": "code",
   "execution_count": null,
   "metadata": {},
   "outputs": [],
   "source": [
    "df_product_additional = pd.read_csv(\"data/product_additional_clean1.csv\")\n",
    "df_product_additional.head()"
   ]
  },
  {
   "cell_type": "code",
   "execution_count": null,
   "metadata": {},
   "outputs": [],
   "source": [
    "# Extract columns needed for analysis\n",
    "df_product_adtl_reduced = df_product_additional[['labName', 'id', 'name']]\n",
    "\n",
    "# Rename some columns\n",
    "df_product_adtl_reduced = df_product_adtl_reduced.rename(columns={'labName': 'lab_name',\n",
    "                                                                  'id': 'product_additional_id',\n",
    "                                                                  'name': 'product_additional_name'})\n",
    "df_product_adtl_reduced.info()"
   ]
  },
  {
   "cell_type": "code",
   "execution_count": null,
   "metadata": {},
   "outputs": [],
   "source": [
    "df_product_adtl_reduced['product_additional_id'] = df_product_adtl_reduced['product_additional_id'].astype(str)\n",
    "df_product_adtl_reduced.info()"
   ]
  },
  {
   "cell_type": "code",
   "execution_count": null,
   "metadata": {},
   "outputs": [],
   "source": [
    "df_product_adtl_reduced.head()"
   ]
  },
  {
   "cell_type": "code",
   "execution_count": null,
   "metadata": {},
   "outputs": [],
   "source": [
    "df_other_products_exp.columns = df_other_products_exp.columns.astype(str)\n",
    "df_other_products_exp.columns"
   ]
  },
  {
   "cell_type": "code",
   "execution_count": null,
   "metadata": {},
   "outputs": [],
   "source": [
    "df_other_products_concat = pd.concat([df_other_products, df_other_products_exp], axis=1)\n",
    "df_other_products_concat.head()"
   ]
  },
  {
   "cell_type": "code",
   "execution_count": null,
   "metadata": {},
   "outputs": [],
   "source": [
    "# Assemble new table 'product_additional'\n",
    "df = pd.DataFrame()\n",
    "for i in range(54):\n",
    "    df_left = df_other_products_concat[['lab_name', 'case_id', f'{i}']].dropna()\n",
    "    df_temp = pd.merge(df_left, df_product_adtl_reduced, how='left',\n",
    "                left_on=['lab_name', f'{i}'], right_on=['lab_name', 'product_additional_id'])\n",
    "    df_temp.drop_duplicates(keep='first', inplace=False)\n",
    "    df_temp.drop(f'{i}', axis=1, inplace=True)\n",
    "    df = df.append(df_temp, ignore_index=True)\n",
    "df.head()"
   ]
  },
  {
   "cell_type": "code",
   "execution_count": null,
   "metadata": {},
   "outputs": [],
   "source": [
    "df.dropna()\n",
    "df.info()"
   ]
  },
  {
   "cell_type": "code",
   "execution_count": null,
   "metadata": {},
   "outputs": [],
   "source": [
    "# Save to csv\n",
    "df.to_csv('data/product_additional_clean2.csv')"
   ]
  },
  {
   "cell_type": "markdown",
   "metadata": {},
   "source": [
    "# Preparing table 'attachment'"
   ]
  },
  {
   "cell_type": "code",
   "execution_count": null,
   "metadata": {},
   "outputs": [],
   "source": [
    "df_attachment = pd.read_csv(\"data/attachment_clean1.csv\")\n",
    "df_attachment.head()"
   ]
  },
  {
   "cell_type": "code",
   "execution_count": null,
   "metadata": {},
   "outputs": [],
   "source": [
    "# Extract columns needed for analysis\n",
    "df_attachment = df_attachment[['labName', 'id', 'case_id', 'file_name', 'file_size', 'ty']]\n",
    "\n",
    "# Rename some columns\n",
    "df_attachment = df_attachment.rename(columns={'labName': 'lab_name', 'id': 'attachment_id'})\n",
    "df_attachment.info()"
   ]
  },
  {
   "cell_type": "code",
   "execution_count": null,
   "metadata": {},
   "outputs": [],
   "source": [
    "df_attachment.isnull().sum()"
   ]
  },
  {
   "cell_type": "code",
   "execution_count": null,
   "metadata": {},
   "outputs": [],
   "source": [
    "# Transform 'case_id' to int\n",
    "df_case_id = df_attachment[['lab_name', 'attachment_id', 'case_id']].dropna()\n",
    "df_case_id['case_id'] = df_case_id.case_id.apply(lambda x: int(x)).apply(lambda x: str(x))\n",
    "df_case_id.info()"
   ]
  },
  {
   "cell_type": "code",
   "execution_count": null,
   "metadata": {},
   "outputs": [],
   "source": [
    "#df_attachment = df_attachment[df_attachment.case_id != 'E105CC70-C6E5-4D12-A957-2533A5F873D3-20180113103844']\n",
    "#df_attachment = df_attachment[df_attachment.case_id != '607C694F-B742-4A85-926B-76ECA81C431E-20180126091726']\n",
    "df_attachment.info()"
   ]
  },
  {
   "cell_type": "code",
   "execution_count": null,
   "metadata": {},
   "outputs": [],
   "source": [
    "# Save to csv\n",
    "df_attachment.to_csv('data/attachment_clean2.csv')"
   ]
  },
  {
   "cell_type": "markdown",
   "metadata": {},
   "source": [
    "# Preparing table 'case_items'"
   ]
  },
  {
   "cell_type": "code",
   "execution_count": null,
   "metadata": {},
   "outputs": [],
   "source": [
    "df_case_items = pd.read_csv(\"data/case_items_clean1.csv\")\n",
    "df_case_items.head()"
   ]
  },
  {
   "cell_type": "code",
   "execution_count": null,
   "metadata": {},
   "outputs": [],
   "source": [
    "df_case_items.info()"
   ]
  },
  {
   "cell_type": "code",
   "execution_count": null,
   "metadata": {},
   "outputs": [],
   "source": [
    "df_case_items.isnull().sum()"
   ]
  },
  {
   "cell_type": "code",
   "execution_count": null,
   "metadata": {},
   "outputs": [],
   "source": [
    "# Extract columns needed for analysis\n",
    "df_case_items_reduced = df_case_items[['labName', 'id', 'case_id', 'product_id', 'tooth_num', 'tooth_type',\n",
    "                                       'crown_type', 'createdOn', 'lastupdated', 'client_estimated_price',\n",
    "                                       'other_settings']]\n",
    "\n",
    "# Rename some columns\n",
    "df_case_items_reduced = df_case_items_reduced.rename(columns={'labName': 'lab_name', 'id': 'case_item_id',\n",
    "                                                             'tooth_type': 'tooth_type_oid',\n",
    "                                                              'tooth_num': 'case_item_tooth_num',\n",
    "                                                              'crown_type': 'case_item_crown_type',\n",
    "                                                             'createdOn': 'case_item_created_on',\n",
    "                                                             'lastupdated': 'case_item_last_updated'})"
   ]
  },
  {
   "cell_type": "code",
   "execution_count": null,
   "metadata": {},
   "outputs": [],
   "source": [
    "df_case_items_reduced.info()"
   ]
  },
  {
   "cell_type": "raw",
   "metadata": {},
   "source": [
    "# Transform 'product_id' to int\n",
    "df_product_id = df_case_items_reduced[['lab_name', 'case_item_id', 'product_id']].dropna()\n",
    "df_product_id['product_id'] = df_product_id.product_id.apply(lambda x: int(x)).apply(lambda x: str(x))\n",
    "df_case_items_reduced.drop('product_id', axis=1, inplace=True)\n",
    "df_case_items_reduced = pd.merge(df_case_items_reduced, df_product_id, how='left', on=['lab_name', 'case_item_id'])\n",
    "df_case_items_reduced['product_id'] = df_case_items_reduced['product_id'].apply(lambda x : int(x) if type(x) == str else '')\n",
    "df_case_items_reduced.head()"
   ]
  },
  {
   "cell_type": "code",
   "execution_count": null,
   "metadata": {},
   "outputs": [],
   "source": [
    "# Transform 'case_item_created_on' to datetime\n",
    "df_case_item_created_on = df_case_items_reduced[['lab_name', 'case_item_id', 'case_item_created_on']].dropna()\n",
    "df_case_item_created_on['case_item_created_on'] = df_case_item_created_on['case_item_created_on'].apply(lambda x: datetime.strptime(x, '%Y-%m-%d %H:%M:%S.%f'))\n",
    "df_case_item_created_on.head()\n"
   ]
  },
  {
   "cell_type": "code",
   "execution_count": null,
   "metadata": {},
   "outputs": [],
   "source": [
    "df_case_item_created_on['case_item_created_on'] = pd.to_datetime(df_case_item_created_on['case_item_created_on']).apply(lambda x: x.strftime('%Y-%m-%d'))\n",
    "df_case_item_created_on['case_item_year_created_on'] = pd.to_datetime(df_case_item_created_on['case_item_created_on']).apply(lambda x: x.strftime('%Y'))\n",
    "df_case_item_created_on.head()\n"
   ]
  },
  {
   "cell_type": "code",
   "execution_count": null,
   "metadata": {},
   "outputs": [],
   "source": [
    "df_case_items_reduced.drop('case_item_created_on', axis=1, inplace=True)\n",
    "df_case_items_reduced = pd.merge(df_case_items_reduced, df_case_item_created_on, how='left', on=['lab_name', 'case_item_id'])\n",
    "df_case_items_reduced.head()\n"
   ]
  },
  {
   "cell_type": "code",
   "execution_count": null,
   "metadata": {},
   "outputs": [],
   "source": [
    "# Remove irrelevant years\n",
    "df_case_items_reduced.case_item_year_created_on.unique()"
   ]
  },
  {
   "cell_type": "code",
   "execution_count": null,
   "metadata": {},
   "outputs": [],
   "source": [
    "df_case_items_reduced.case_item_year_created_on.value_counts()"
   ]
  },
  {
   "cell_type": "code",
   "execution_count": null,
   "metadata": {},
   "outputs": [],
   "source": [
    "df_case_items_reduced = df_case_items_reduced[df_case_items_reduced.case_item_year_created_on != '2010']\n",
    "df_case_items_reduced.case_item_year_created_on.unique()"
   ]
  },
  {
   "cell_type": "code",
   "execution_count": null,
   "metadata": {},
   "outputs": [],
   "source": [
    "df_case_items_reduced.info()"
   ]
  },
  {
   "cell_type": "code",
   "execution_count": null,
   "metadata": {},
   "outputs": [],
   "source": [
    "# Transform case_item_last_updated to datetime\n",
    "df_case_item_last_updated = df_case_items_reduced[['lab_name', 'case_item_id', 'case_item_last_updated']].dropna()\n",
    "df_case_item_last_updated['case_item_last_updated'] = df_case_item_last_updated['case_item_last_updated'].apply(lambda x: datetime.strptime(x, '%Y-%m-%d %H:%M:%S.%f'))\n",
    "df_case_item_last_updated.head()\n"
   ]
  },
  {
   "cell_type": "code",
   "execution_count": null,
   "metadata": {},
   "outputs": [],
   "source": [
    "df_case_item_last_updated['case_item_last_updated'] = pd.to_datetime(df_case_item_last_updated['case_item_last_updated']).apply(lambda x: x.strftime('%Y-%m-%d'))\n",
    "df_case_item_last_updated['case_item_year_last_updated'] = pd.to_datetime(df_case_item_last_updated['case_item_last_updated']).apply(lambda x: x.strftime('%Y'))\n",
    "df_case_item_last_updated.head()\n"
   ]
  },
  {
   "cell_type": "code",
   "execution_count": null,
   "metadata": {},
   "outputs": [],
   "source": [
    "df_case_items_reduced.drop('case_item_last_updated', axis=1, inplace=True)\n",
    "df_case_items_reduced = pd.merge(df_case_items_reduced, df_case_item_last_updated, how='left', on=['lab_name', 'case_item_id'])\n",
    "df_case_items_reduced.head()"
   ]
  },
  {
   "cell_type": "code",
   "execution_count": null,
   "metadata": {},
   "outputs": [],
   "source": [
    "# Remove irrelevant years\n",
    "df_case_items_reduced.case_item_year_last_updated.unique()"
   ]
  },
  {
   "cell_type": "code",
   "execution_count": null,
   "metadata": {},
   "outputs": [],
   "source": [
    "df_case_items_reduced.case_item_year_last_updated.value_counts()"
   ]
  },
  {
   "cell_type": "code",
   "execution_count": null,
   "metadata": {},
   "outputs": [],
   "source": [
    "df_case_items_reduced.info()"
   ]
  },
  {
   "cell_type": "code",
   "execution_count": null,
   "metadata": {},
   "outputs": [],
   "source": [
    "df_case_items_reduced.isnull().sum()"
   ]
  },
  {
   "cell_type": "markdown",
   "metadata": {},
   "source": [
    "### Splitting items in 'other_settings' field"
   ]
  },
  {
   "cell_type": "code",
   "execution_count": null,
   "metadata": {},
   "outputs": [],
   "source": [
    "df_other_settings = df_case_items_reduced[['lab_name', 'case_item_id', 'other_settings']].dropna()\n",
    "df_other_settings.info()"
   ]
  },
  {
   "cell_type": "code",
   "execution_count": null,
   "metadata": {},
   "outputs": [],
   "source": [
    "df_other_settings.head()"
   ]
  },
  {
   "cell_type": "code",
   "execution_count": null,
   "metadata": {},
   "outputs": [],
   "source": [
    "df_other_settings_exp = df_other_settings['other_settings'].str.split(',', expand = True)\n",
    "df_other_settings_exp['case_item_nb_other_settings'] = df_other_settings_exp.count(axis=1).apply(lambda x: str(x))\n",
    "df_other_settings_exp.head()"
   ]
  },
  {
   "cell_type": "code",
   "execution_count": null,
   "metadata": {},
   "outputs": [],
   "source": [
    "df_other_settings['case_item_nb_other_settings'] = df_other_settings_exp['case_item_nb_other_settings']\n",
    "df_other_settings_exp.drop('case_item_nb_other_settings', axis=1, inplace=True)\n",
    "df_other_settings.drop('other_settings', axis=1, inplace=True)\n",
    "df_other_settings.head()"
   ]
  },
  {
   "cell_type": "code",
   "execution_count": null,
   "metadata": {},
   "outputs": [],
   "source": [
    "df_case_items_reduced.drop('other_settings', axis=1, inplace=True)\n",
    "df_case_items_reduced = pd.merge(df_case_items_reduced, df_other_settings, how='left', on=['lab_name', 'case_item_id'])\n",
    "df_case_items_reduced['case_item_nb_other_settings'] = df_case_items_reduced['case_item_nb_other_settings'] #.apply(lambda x : int(x) if type(x) == str else '')\n",
    "df_case_items_reduced.head()\n"
   ]
  },
  {
   "cell_type": "code",
   "execution_count": null,
   "metadata": {},
   "outputs": [],
   "source": [
    "df_case_items_reduced.info()"
   ]
  },
  {
   "cell_type": "markdown",
   "metadata": {},
   "source": [
    "### Save prepped table 'case_items' to csv"
   ]
  },
  {
   "cell_type": "code",
   "execution_count": null,
   "metadata": {},
   "outputs": [],
   "source": [
    "df_case_items_reduced.to_csv('data/case_items_clean2.csv', index=False, header=True)"
   ]
  },
  {
   "cell_type": "markdown",
   "metadata": {},
   "source": [
    "# Preparing table 'product_type_others'"
   ]
  },
  {
   "cell_type": "code",
   "execution_count": null,
   "metadata": {},
   "outputs": [],
   "source": [
    "df_product_type_others = pd.read_csv(\"data/product_type_others_clean1.csv\")\n",
    "df_product_type_others.head()"
   ]
  },
  {
   "cell_type": "code",
   "execution_count": null,
   "metadata": {},
   "outputs": [],
   "source": [
    "df_product_type_others.info()"
   ]
  },
  {
   "cell_type": "code",
   "execution_count": null,
   "metadata": {},
   "outputs": [],
   "source": [
    "# Extract columns needed for analysis\n",
    "df_product_type_others_reduced = df_product_type_others[['labName', 'id', 'name', 'content']]\n",
    "\n",
    "# Rename some columns\n",
    "df_product_type_others_reduced = df_product_type_others_reduced.rename(columns={'labName': 'lab_name',\n",
    "                                                                                'id': 'prod_type_oth_id',\n",
    "                                                                                'name': 'prod_type_oth_name'})\n",
    "df_product_type_others_reduced.info()\n"
   ]
  },
  {
   "cell_type": "code",
   "execution_count": null,
   "metadata": {},
   "outputs": [],
   "source": [
    "df_product_type_others_reduced.head()"
   ]
  },
  {
   "cell_type": "code",
   "execution_count": null,
   "metadata": {},
   "outputs": [],
   "source": [
    "df_product_type_others_reduced['prod_type_oth_id'] = df_product_type_others_reduced['prod_type_oth_id'].astype(str)\n",
    "df_product_type_others_reduced.info()"
   ]
  },
  {
   "cell_type": "code",
   "execution_count": null,
   "metadata": {},
   "outputs": [],
   "source": [
    "df_other_settings_exp.columns = df_other_settings_exp.columns.astype(str)\n",
    "df_other_settings_exp.columns"
   ]
  },
  {
   "cell_type": "code",
   "execution_count": null,
   "metadata": {},
   "outputs": [],
   "source": [
    "df_product_type_others_concat = pd.concat([df_other_settings, df_other_settings_exp], axis=1)\n",
    "df_product_type_others_concat.head()"
   ]
  },
  {
   "cell_type": "code",
   "execution_count": null,
   "metadata": {},
   "outputs": [],
   "source": [
    "# Assemble 'product_type_others' table\n",
    "df2 = pd.DataFrame()\n",
    "for i in range(23):\n",
    "    df_left = df_product_type_others_concat[['lab_name', 'case_item_id', f'{i}']].dropna()\n",
    "    df_temp = pd.merge(df_left, df_product_type_others_reduced, how='left',\n",
    "                left_on=['lab_name', f'{i}'], right_on=['lab_name', 'prod_type_oth_name'])\n",
    "    df_temp.drop_duplicates(keep='first', inplace=False)\n",
    "    df_temp.drop(f'{i}', axis=1, inplace=True)\n",
    "    df2 = df2.append(df_temp, ignore_index=True)\n",
    "df2.head()"
   ]
  },
  {
   "cell_type": "code",
   "execution_count": null,
   "metadata": {},
   "outputs": [],
   "source": [
    "df2.dropna()\n",
    "df2.info()"
   ]
  },
  {
   "cell_type": "code",
   "execution_count": null,
   "metadata": {},
   "outputs": [],
   "source": [
    "# Save to csv\n",
    "df2.to_csv('data/product_type_others_clean2.csv', index=False, header=True)"
   ]
  },
  {
   "cell_type": "markdown",
   "metadata": {},
   "source": [
    "# Preparing table 'tooth_type'"
   ]
  },
  {
   "cell_type": "code",
   "execution_count": null,
   "metadata": {},
   "outputs": [],
   "source": [
    "df_tooth_type = pd.read_csv(\"data/tooth_type_clean1.csv\")\n",
    "df_tooth_type.drop('Unnamed: 0', axis=1, inplace=True)\n",
    "df_tooth_type.head(20)"
   ]
  },
  {
   "cell_type": "code",
   "execution_count": null,
   "metadata": {},
   "outputs": [],
   "source": [
    "df_tooth_type['label'] = df_tooth_type.apply(lambda row: 'ImplantSplint' if row['oid']==80 else row['label'], axis=1)\n",
    "df_tooth_type['label'] = df_tooth_type.apply(lambda row: 'Appliance' if row['oid']==90 else row['label'], axis=1)\n",
    "df_tooth_type['label'] = df_tooth_type.apply(lambda row: 'Additional' if row['oid']==110 else row['label'], axis=1)\n",
    "df_tooth_type['label'] = df_tooth_type.apply(lambda row: 'UserDefined1' if row['oid']==210 else row['label'], axis=1)\n",
    "df_tooth_type['label'] = df_tooth_type.apply(lambda row: 'UserDefined2' if row['oid']==220 else row['label'], axis=1)\n",
    "df_tooth_type['label'] = df_tooth_type.apply(lambda row: 'UserDefined1' if row['oid']==230 else row['label'], axis=1)"
   ]
  },
  {
   "cell_type": "code",
   "execution_count": null,
   "metadata": {},
   "outputs": [],
   "source": [
    "df_tooth_type.head(20)"
   ]
  },
  {
   "cell_type": "code",
   "execution_count": null,
   "metadata": {},
   "outputs": [],
   "source": [
    "# Extract columns needed for analysis\n",
    "df_tooth_type_reduced = df_tooth_type[['labName', 'oid', 'label']]\n",
    "\n",
    "# Rename some columns\n",
    "df_tooth_type_reduced = df_tooth_type_reduced.rename(columns={'labName': 'lab_name',\n",
    "                                                             'oid': 'tooth_type_oid', 'label': 'tooth_type_label'})\n",
    "df_tooth_type_reduced.head()"
   ]
  },
  {
   "cell_type": "code",
   "execution_count": null,
   "metadata": {},
   "outputs": [],
   "source": [
    "df_tooth_type_reduced.info()"
   ]
  },
  {
   "cell_type": "code",
   "execution_count": null,
   "metadata": {},
   "outputs": [],
   "source": [
    "# Save to csv\n",
    "df_tooth_type_reduced.to_csv('data/tooth_type_clean2.csv', index=False, header=True)"
   ]
  },
  {
   "cell_type": "markdown",
   "metadata": {},
   "source": [
    "# Preparing table 'products'"
   ]
  },
  {
   "cell_type": "code",
   "execution_count": null,
   "metadata": {},
   "outputs": [],
   "source": [
    "df_products = pd.read_csv(\"data/products_clean1.csv\")\n",
    "df_products.drop('Unnamed: 0', axis=1, inplace=True)\n",
    "df_products.head()"
   ]
  },
  {
   "cell_type": "code",
   "execution_count": null,
   "metadata": {},
   "outputs": [],
   "source": [
    "df_products.info()"
   ]
  },
  {
   "cell_type": "code",
   "execution_count": null,
   "metadata": {},
   "outputs": [],
   "source": [
    "# Extract columns needed for analysis\n",
    "df_products_reduced = df_products[['labName', 'id', 'name', 'type_id']]\n",
    "\n",
    "# Rename some columns\n",
    "df_products_reduced = df_products_reduced.rename(columns={'labName': 'lab_name', 'id': 'product_id',\n",
    "                                               'type_id': 'product_type_id', 'name': 'product_name'})\n",
    "df_products_reduced.head()"
   ]
  },
  {
   "cell_type": "code",
   "execution_count": null,
   "metadata": {},
   "outputs": [],
   "source": [
    "df_products_reduced['product_name'] = df_products_reduced['product_name'].str.lower()\n",
    "df_products_reduced.head(10)"
   ]
  },
  {
   "cell_type": "code",
   "execution_count": null,
   "metadata": {},
   "outputs": [],
   "source": [
    "df_products_reduced.info()"
   ]
  },
  {
   "cell_type": "code",
   "execution_count": null,
   "metadata": {},
   "outputs": [],
   "source": [
    "# Save to csv\n",
    "df_products_reduced.to_csv('data/products_clean2.csv', index=False, header=True)"
   ]
  },
  {
   "cell_type": "markdown",
   "metadata": {},
   "source": [
    "# Preparing table 'product_types'"
   ]
  },
  {
   "cell_type": "code",
   "execution_count": null,
   "metadata": {},
   "outputs": [],
   "source": [
    "df_product_types = pd.read_csv(\"data/product_types_clean1.csv\")\n",
    "df_product_types.head()"
   ]
  },
  {
   "cell_type": "code",
   "execution_count": null,
   "metadata": {},
   "outputs": [],
   "source": [
    "df_product_types.info()"
   ]
  },
  {
   "cell_type": "code",
   "execution_count": null,
   "metadata": {},
   "outputs": [],
   "source": [
    "# Extract columns needed for analysis\n",
    "df_product_types_reduced = df_product_types[['labName', 'id', 'name']]\n",
    "\n",
    "# Rename some columns\n",
    "df_product_types_reduced = df_product_types_reduced.rename(columns={'labName': 'lab_name', 'id': 'product_type_id',\n",
    "                                                                   'name': 'product_type_name'})\n",
    "df_product_types_reduced.head()"
   ]
  },
  {
   "cell_type": "code",
   "execution_count": null,
   "metadata": {},
   "outputs": [],
   "source": [
    "df_product_types_reduced['product_type_name'] = df_product_types_reduced['product_type_name'].str.lower()\n",
    "df_product_types_reduced.head(10)"
   ]
  },
  {
   "cell_type": "code",
   "execution_count": null,
   "metadata": {},
   "outputs": [],
   "source": [
    "df_product_types_reduced.info()"
   ]
  },
  {
   "cell_type": "code",
   "execution_count": null,
   "metadata": {},
   "outputs": [],
   "source": [
    "# Save to csv\n",
    "df_product_types_reduced.to_csv('data/product_types_clean2.csv', index=False, header=True)"
   ]
  },
  {
   "cell_type": "markdown",
   "metadata": {},
   "source": [
    "# Preparing table 'users'"
   ]
  },
  {
   "cell_type": "code",
   "execution_count": null,
   "metadata": {},
   "outputs": [],
   "source": [
    "df_users = pd.read_csv(\"data/users_clean1.csv\")\n",
    "df_users.head()"
   ]
  },
  {
   "cell_type": "code",
   "execution_count": null,
   "metadata": {},
   "outputs": [],
   "source": [
    "df_users.info()"
   ]
  },
  {
   "cell_type": "code",
   "execution_count": null,
   "metadata": {},
   "outputs": [],
   "source": [
    "# Extract columns needed for analysis\n",
    "df_users_reduced = df_users[['labName', 'uid', 'ref_id', 'ref_type', 'first_name', 'last_name']]\n",
    "\n",
    "# Rename some columns\n",
    "df_users_reduced = df_users_reduced.rename(columns={'labName': 'lab_name', 'uid': 'user_id'})\n",
    "df_users_reduced.head()"
   ]
  },
  {
   "cell_type": "code",
   "execution_count": null,
   "metadata": {},
   "outputs": [],
   "source": [
    "df_users_reduced.info()"
   ]
  },
  {
   "cell_type": "raw",
   "metadata": {},
   "source": [
    "# Transform 'ref_id' to int\n",
    "df_ref_id = df_users_reduced[['lab_name', 'user_id', 'ref_id']].dropna()\n",
    "df_ref_id['ref_id'] = df_ref_id.ref_id.apply(lambda x: int(x)).apply(lambda x: str(x))\n",
    "df_users_reduced.drop('ref_id', axis=1, inplace=True)\n",
    "df_users_reduced = pd.merge(df_users_reduced, df_ref_id, how='left', on=['lab_name', 'user_id'])\n",
    "df_users_reduced['ref_id'] = df_users_reduced['ref_id'].apply(lambda x : int(x) if type(x) == str else '')\n",
    "df_users_reduced.head()"
   ]
  },
  {
   "cell_type": "raw",
   "metadata": {},
   "source": [
    "# Transform 'ref_type' to int\n",
    "df_ref_type = df_users_reduced[['lab_name', 'user_id', 'ref_type']].dropna()\n",
    "df_ref_type['ref_type'] = df_ref_type.ref_type.apply(lambda x: int(x)).apply(lambda x: str(x))\n",
    "df_users_reduced.drop('ref_type', axis=1, inplace=True)\n",
    "df_users_reduced = pd.merge(df_users_reduced, df_ref_type, how='left', on=['lab_name', 'user_id'])\n",
    "df_users_reduced['ref_type'] = df_users_reduced['ref_type'].apply(lambda x : int(x) if type(x) == str else '')\n",
    "df_users_reduced.head()"
   ]
  },
  {
   "cell_type": "code",
   "execution_count": null,
   "metadata": {},
   "outputs": [],
   "source": [
    "# Save to csv\n",
    "df_users_reduced.to_csv('data/users_clean2.csv', index=False, header=True)"
   ]
  },
  {
   "cell_type": "markdown",
   "metadata": {},
   "source": [
    "# Preparing table 'countries'"
   ]
  },
  {
   "cell_type": "code",
   "execution_count": null,
   "metadata": {},
   "outputs": [],
   "source": [
    "df_countries = pd.read_csv(\"data/countries_clean1.csv\")\n",
    "df_countries.head()"
   ]
  },
  {
   "cell_type": "code",
   "execution_count": null,
   "metadata": {},
   "outputs": [],
   "source": [
    "# Extract columns needed for analysis\n",
    "df_countries_reduced = df_countries[['id', 'name', 'code']]\n",
    "\n",
    "# Rename some columns\n",
    "df_countries_reduced = df_countries_reduced.rename(columns={'id': 'country_id', 'name': 'country_name', 'code': 'country_code'})\n",
    "df_countries_reduced.head()"
   ]
  },
  {
   "cell_type": "code",
   "execution_count": null,
   "metadata": {},
   "outputs": [],
   "source": [
    "df_countries_reduced.info()"
   ]
  },
  {
   "cell_type": "code",
   "execution_count": null,
   "metadata": {},
   "outputs": [],
   "source": [
    "# Save to csv\n",
    "df_countries_reduced.to_csv('data/countries_clean2.csv', index=False, header=True)"
   ]
  },
  {
   "cell_type": "markdown",
   "metadata": {},
   "source": [
    "# Preparing table 'addresses'"
   ]
  },
  {
   "cell_type": "code",
   "execution_count": null,
   "metadata": {},
   "outputs": [],
   "source": [
    "df_addresses = pd.read_csv(\"data/addresses_clean1.csv\")\n",
    "df_addresses.head()"
   ]
  },
  {
   "cell_type": "code",
   "execution_count": null,
   "metadata": {},
   "outputs": [],
   "source": [
    "df_addresses.info()"
   ]
  },
  {
   "cell_type": "code",
   "execution_count": null,
   "metadata": {},
   "outputs": [],
   "source": [
    "# Extract columns needed for analysis\n",
    "df_addresses_reduced = df_addresses[['labName', 'address_id', 'city', 'state', 'zip', 'country']]\n",
    "\n",
    "# Rename some columns\n",
    "df_addresses_reduced = df_addresses_reduced.rename(columns={'labName': 'lab_name', 'country': 'country_id'})\n",
    "df_addresses_reduced.head()\n"
   ]
  },
  {
   "cell_type": "code",
   "execution_count": null,
   "metadata": {},
   "outputs": [],
   "source": [
    "df_addresses_reduced.info()"
   ]
  },
  {
   "cell_type": "raw",
   "metadata": {},
   "source": [
    "# Transform 'country_id' to int\n",
    "df_country_id = df_addresses_reduced[['lab_name', 'address_id', 'country_id']].dropna()\n",
    "df_country_id['country_id'] = df_country_id.country_id.apply(lambda x: int(x)).apply(lambda x: str(x))\n",
    "df_addresses_reduced.drop('country_id', axis=1, inplace=True)\n",
    "df_addresses_reduced = pd.merge(df_addresses_reduced, df_country_id, how='left', on=['lab_name', 'address_id'])\n",
    "df_addresses_reduced['country_id'] = df_addresses_reduced['country_id'].apply(lambda x : int(x) if type(x) == str else '')\n",
    "df_addresses_reduced.head()"
   ]
  },
  {
   "cell_type": "code",
   "execution_count": null,
   "metadata": {},
   "outputs": [],
   "source": [
    "# Save to csv\n",
    "df_addresses_reduced.to_csv('data/addresses_clean2.csv', index=False, header=True)"
   ]
  },
  {
   "cell_type": "markdown",
   "metadata": {},
   "source": [
    "# Preparing table 'clients'"
   ]
  },
  {
   "cell_type": "code",
   "execution_count": null,
   "metadata": {},
   "outputs": [],
   "source": [
    "df_clients = pd.read_csv(\"data/clients_clean1.csv\")\n",
    "df_clients.head()"
   ]
  },
  {
   "cell_type": "code",
   "execution_count": null,
   "metadata": {},
   "outputs": [],
   "source": [
    "df_clients.info()"
   ]
  },
  {
   "cell_type": "code",
   "execution_count": null,
   "metadata": {},
   "outputs": [],
   "source": [
    "# Extract columns needed for analysis\n",
    "df_clients_reduced = df_clients[['labName', 'id', 'bClientLab', 'name', 'billing_address_id', 'shipping_address_id',\n",
    "                                'master_pricebook_id', 'custom_pricebook_id']]\n",
    "\n",
    "# Rename some columns\n",
    "df_clients_reduced = df_clients_reduced.rename(columns={'labName': 'lab_name', 'id': 'client_id', 'name': 'client_name'})\n",
    "df_clients_reduced.head()\n"
   ]
  },
  {
   "cell_type": "code",
   "execution_count": null,
   "metadata": {},
   "outputs": [],
   "source": [
    "df_clients_reduced.info()"
   ]
  },
  {
   "cell_type": "raw",
   "metadata": {},
   "source": [
    "# Transform 'billing_address_id' to int\n",
    "df_billing_id = df_clients_reduced[['lab_name', 'client_id', 'billing_address_id']].dropna()\n",
    "df_billing_id['billing_address_id'] = df_billing_id.billing_address_id.apply(lambda x: int(x)).apply(lambda x: str(x))\n",
    "df_clients_reduced.drop('billing_address_id', axis=1, inplace=True)\n",
    "df_clients_reduced = pd.merge(df_clients_reduced, df_billing_id, how='left', on=['lab_name', 'client_id'])\n",
    "df_clients_reduced['billing_address_id'] = df_clients_reduced['billing_address_id'].apply(lambda x : int(x) if type(x) == str else '')\n",
    "df_clients_reduced.head()"
   ]
  },
  {
   "cell_type": "raw",
   "metadata": {},
   "source": [
    "# Transform 'master_pricebook_id' to int\n",
    "df_master_id = df_clients_reduced[['lab_name', 'client_id', 'master_pricebook_id']].dropna()\n",
    "df_master_id['master_pricebook_id'] = df_master_id.master_pricebook_id.apply(lambda x: int(x)).apply(lambda x: str(x))\n",
    "df_clients_reduced.drop('master_pricebook_id', axis=1, inplace=True)\n",
    "df_clients_reduced = pd.merge(df_clients_reduced, df_master_id, how='left', on=['lab_name', 'client_id'])\n",
    "df_clients_reduced['master_pricebook_id'] = df_clients_reduced['master_pricebook_id'].apply(lambda x : int(x) if type(x) == str else '')\n",
    "df_clients_reduced.head()"
   ]
  },
  {
   "cell_type": "raw",
   "metadata": {},
   "source": [
    "# Transform 'custom_pricebook_id' to int\n",
    "df_custom_id = df_clients_reduced[['lab_name', 'client_id', 'custom_pricebook_id']].dropna()\n",
    "df_custom_id['custom_pricebook_id'] = df_custom_id.custom_pricebook_id.apply(lambda x: int(x)).apply(lambda x: str(x))\n",
    "df_clients_reduced.drop('custom_pricebook_id', axis=1, inplace=True)\n",
    "df_clients_reduced = pd.merge(df_clients_reduced, df_custom_id, how='left', on=['lab_name', 'client_id'])\n",
    "df_clients_reduced['custom_pricebook_id'] = df_clients_reduced['custom_pricebook_id'].apply(lambda x : int(x) if type(x) == str else '')\n",
    "df_clients_reduced.head()"
   ]
  },
  {
   "cell_type": "code",
   "execution_count": null,
   "metadata": {},
   "outputs": [],
   "source": [
    "df_clients_reduced.drop_duplicates(keep='first', inplace=True)\n",
    "df_clients_reduced.info()"
   ]
  },
  {
   "cell_type": "code",
   "execution_count": null,
   "metadata": {},
   "outputs": [],
   "source": [
    "# Save to csv\n",
    "df_clients_reduced.to_csv('data/clients_clean2.csv',index=False, header=True)"
   ]
  },
  {
   "cell_type": "markdown",
   "metadata": {},
   "source": [
    "# Prepare table 'pricebooks'"
   ]
  },
  {
   "cell_type": "code",
   "execution_count": null,
   "metadata": {},
   "outputs": [],
   "source": [
    "df_pricebooks = pd.read_csv(\"data/pricebooks_clean1.csv\")\n",
    "df_pricebooks.head()"
   ]
  },
  {
   "cell_type": "code",
   "execution_count": null,
   "metadata": {},
   "outputs": [],
   "source": [
    "df_pricebooks.info()"
   ]
  },
  {
   "cell_type": "code",
   "execution_count": null,
   "metadata": {},
   "outputs": [],
   "source": [
    "# Extract columns needed for analysis\n",
    "df_pricebooks_reduced = df_pricebooks[['labName', 'id', 'name', 'client_id', 'lastupdated']]\n",
    "\n",
    "# Rename some columns\n",
    "df_pricebooks_reduced = df_pricebooks_reduced.rename(columns={'labName': 'lab_name', 'id': 'pricebook_id',\n",
    "                                                              'name': 'pricebook_name', 'lastupdated': 'pricebook_last_updated'})\n",
    "df_pricebooks_reduced.head()\n"
   ]
  },
  {
   "cell_type": "code",
   "execution_count": null,
   "metadata": {},
   "outputs": [],
   "source": [
    "df_pricebooks_reduced.info()"
   ]
  },
  {
   "cell_type": "raw",
   "metadata": {},
   "source": [
    "# Transform 'client_id' to int\n",
    "df_client_id = df_pricebooks_reduced[['lab_name', 'pricebook_id', 'client_id']].dropna()\n",
    "df_client_id['client_id'] = df_client_id.client_id.apply(lambda x: int(x)).apply(lambda x: str(x))\n",
    "df_pricebooks_reduced.drop('client_id', axis=1, inplace=True)\n",
    "df_pricebooks_reduced = pd.merge(df_pricebooks_reduced, df_client_id, how='left', on=['lab_name', 'pricebook_id'])\n",
    "df_pricebooks_reduced['client_id'] = df_pricebooks_reduced['client_id'].apply(lambda x : int(x) if type(x) == str else '')\n",
    "df_pricebooks_reduced.head()"
   ]
  },
  {
   "cell_type": "code",
   "execution_count": null,
   "metadata": {},
   "outputs": [],
   "source": [
    "# Transform 'pricebook_last_updated' to datetime\n",
    "df_pricebooks_reduced['pricebook_last_updated'] = df_pricebooks_reduced['pricebook_last_updated'].apply(lambda x: datetime.strptime(x, '%Y-%m-%d %H:%M:%S.%f'))\n",
    "df_pricebooks_reduced.info()\n"
   ]
  },
  {
   "cell_type": "code",
   "execution_count": null,
   "metadata": {},
   "outputs": [],
   "source": [
    "df_pricebooks_reduced['pricebook_last_updated'] = pd.to_datetime(df_pricebooks_reduced['pricebook_last_updated']).apply(lambda x: x.strftime('%Y-%m-%d'))\n",
    "df_pricebooks_reduced.head()\n"
   ]
  },
  {
   "cell_type": "code",
   "execution_count": null,
   "metadata": {},
   "outputs": [],
   "source": [
    "# Save to csv\n",
    "df_pricebooks_reduced.to_csv('data/pricebooks_clean2.csv', index=False, header=True)"
   ]
  },
  {
   "cell_type": "markdown",
   "metadata": {},
   "source": [
    "# Prepare table 'pricebook_items'"
   ]
  },
  {
   "cell_type": "code",
   "execution_count": null,
   "metadata": {},
   "outputs": [],
   "source": [
    "df_pricebook_items = pd.read_csv(\"data/pricebook_items_clean1.csv\")\n",
    "df_pricebook_items.head()"
   ]
  },
  {
   "cell_type": "code",
   "execution_count": null,
   "metadata": {},
   "outputs": [],
   "source": [
    "df_pricebook_items.info()"
   ]
  },
  {
   "cell_type": "code",
   "execution_count": null,
   "metadata": {},
   "outputs": [],
   "source": [
    "df_pricebook_items.isnull().sum()"
   ]
  },
  {
   "cell_type": "code",
   "execution_count": null,
   "metadata": {},
   "outputs": [],
   "source": [
    "# Extract columns needed for analysis\n",
    "df_pricebook_items_reduced = df_pricebook_items[['labName', 'id', 'pricebook_id', 'ref_type', 'product_id', 'price']]\n",
    "\n",
    "# Rename some columns\n",
    "df_pricebook_items_reduced = df_pricebook_items_reduced.rename(columns={'labName': 'lab_name',\n",
    "                                                                        'id': 'pricebook_item_id'})\n",
    "df_pricebook_items_reduced.head()"
   ]
  },
  {
   "cell_type": "code",
   "execution_count": null,
   "metadata": {},
   "outputs": [],
   "source": [
    "df_pricebook_items_reduced.info()"
   ]
  },
  {
   "cell_type": "code",
   "execution_count": null,
   "metadata": {},
   "outputs": [],
   "source": [
    "# Save to csv\n",
    "df_pricebook_items_reduced.to_csv('data/pricebook_items_clean2.csv', index=False, header=True)"
   ]
  },
  {
   "cell_type": "markdown",
   "metadata": {},
   "source": [
    "# Prepare table 'billings'"
   ]
  },
  {
   "cell_type": "code",
   "execution_count": null,
   "metadata": {},
   "outputs": [],
   "source": [
    "df_billings = pd.read_csv(\"data/billings_clean1.csv\")\n",
    "df_billings.head()"
   ]
  },
  {
   "cell_type": "code",
   "execution_count": null,
   "metadata": {},
   "outputs": [],
   "source": [
    "df_billings.info()"
   ]
  },
  {
   "cell_type": "code",
   "execution_count": null,
   "metadata": {},
   "outputs": [],
   "source": [
    "df_billings.isnull().sum()"
   ]
  },
  {
   "cell_type": "code",
   "execution_count": null,
   "metadata": {},
   "outputs": [],
   "source": [
    "# Extract columns needed for analysis\n",
    "df_billings_reduced = df_billings[['labName', 'id', 'ref', 'ref_id', 'ref_type', 'payment', 'amount', 'status',\n",
    "                                  'first_case_id', 'calculation', 'createdOn', 'dueOn', 'settledOn',\n",
    "                                  'lastupdated']]\n",
    "\n",
    "# Rename some columns\n",
    "df_billings_reduced = df_billings_reduced.rename(columns={'labName': 'lab_name', 'id': 'billing_id',\n",
    "                                                         'first_case_id': 'case_id', 'amount': 'billing_amount',\n",
    "                                                          'payment': 'billing_payment', 'status': 'billing_status',\n",
    "                                                         'createdOn': 'billing_created_on',\n",
    "                                                          'settledOn': 'billing_settled_on',\n",
    "                                                         'calculation': 'billing_calculation',\n",
    "                                                          'first_case_id': 'case_id', 'dueOn': 'billing_due_on',\n",
    "                                                         'lastupdated': 'billing_last_updated'})\n",
    "df_billings_reduced.head()"
   ]
  },
  {
   "cell_type": "code",
   "execution_count": null,
   "metadata": {},
   "outputs": [],
   "source": [
    "df_billings_reduced.info()"
   ]
  },
  {
   "cell_type": "code",
   "execution_count": null,
   "metadata": {},
   "outputs": [],
   "source": [
    "df_billings_reduced.isnull().sum()"
   ]
  },
  {
   "cell_type": "code",
   "execution_count": null,
   "metadata": {},
   "outputs": [],
   "source": [
    "# Transform 'billing_created_on' and 'billing_last_updated' to datetime\n",
    "df_billings_reduced['billing_created_on'] = df_billings_reduced['billing_created_on'].apply(lambda x: datetime.strptime(x, '%Y-%m-%d %H:%M:%S.%f'))\n",
    "df_billings_reduced['billing_last_updated'] = df_billings_reduced['billing_last_updated'].apply(lambda x: datetime.strptime(x, '%Y-%m-%d %H:%M:%S.%f'))\n",
    "df_billings_reduced.info()\n"
   ]
  },
  {
   "cell_type": "code",
   "execution_count": null,
   "metadata": {},
   "outputs": [],
   "source": [
    "# Calculate elapsed time between billing created and last_updated as a proxy for collection time \n",
    "df_billings_reduced['billing_tdelta'] = (df_billings_reduced.billing_last_updated - df_billings_reduced.billing_created_on)\n",
    "df_billings_reduced['billing_tdelta_hours'] = (df_billings_reduced.billing_last_updated - df_billings_reduced.billing_created_on).astype('timedelta64[h]')\n",
    "df_billings_reduced['billing_tdelta_hours'] = df_billings_reduced['billing_tdelta_hours'].apply(lambda x: int(x)).apply(lambda x: str(x))\n",
    "df_billings_reduced.head()\n"
   ]
  },
  {
   "cell_type": "code",
   "execution_count": null,
   "metadata": {},
   "outputs": [],
   "source": [
    "# Change datetime format\n",
    "df_billings_reduced['billing_created_on'] = pd.to_datetime(df_billings_reduced['billing_created_on']).apply(lambda x: x.strftime('%Y-%m-%d'))\n",
    "df_billings_reduced['billing_last_updated'] = pd.to_datetime(df_billings_reduced['billing_last_updated']).apply(lambda x: x.strftime('%Y-%m-%d'))\n",
    "df_billings_reduced.head()\n"
   ]
  },
  {
   "cell_type": "code",
   "execution_count": null,
   "metadata": {},
   "outputs": [],
   "source": [
    "df_billings_reduced.info()"
   ]
  },
  {
   "cell_type": "code",
   "execution_count": null,
   "metadata": {},
   "outputs": [],
   "source": [
    "df_billings_reduced.isnull().sum()"
   ]
  },
  {
   "cell_type": "code",
   "execution_count": null,
   "metadata": {},
   "outputs": [],
   "source": [
    "# Save to csv\n",
    "df_billings_reduced.to_csv('data/billings_clean2.csv', index=False, header=True)"
   ]
  },
  {
   "cell_type": "code",
   "execution_count": null,
   "metadata": {},
   "outputs": [],
   "source": [
    "df_billings_reduced.dropna(subset=['case_id'], inplace=True)\n",
    "df_billings_reduced.isnull().sum()"
   ]
  },
  {
   "cell_type": "code",
   "execution_count": null,
   "metadata": {},
   "outputs": [],
   "source": [
    "df_billings_reduced['case_id'] = df_billings_reduced['case_id'].astype(np.int64)\n",
    "df_billings_reduced.info()"
   ]
  },
  {
   "cell_type": "code",
   "execution_count": null,
   "metadata": {},
   "outputs": [],
   "source": [
    "# Save to csv\n",
    "df_billings_reduced.to_csv('data/billings_clean3.csv', index=False, header=True)"
   ]
  },
  {
   "cell_type": "markdown",
   "metadata": {},
   "source": [
    "# Prepare 'billing_items' table"
   ]
  },
  {
   "cell_type": "code",
   "execution_count": null,
   "metadata": {},
   "outputs": [],
   "source": [
    "df_billing_items = pd.read_csv(\"data/billing_items_clean1.csv\")\n",
    "df_billing_items.head()"
   ]
  },
  {
   "cell_type": "code",
   "execution_count": null,
   "metadata": {},
   "outputs": [],
   "source": [
    "df_billing_items.info()"
   ]
  },
  {
   "cell_type": "code",
   "execution_count": null,
   "metadata": {},
   "outputs": [],
   "source": [
    "df_billing_items.isnull().sum()"
   ]
  },
  {
   "cell_type": "code",
   "execution_count": null,
   "metadata": {},
   "outputs": [],
   "source": [
    "# Extract columns needed for analysis\n",
    "df_billing_items_reduced = df_billing_items[['labName', 'id', 'billing_id', 'case_id', 'case_item_id', 'ref_id',\n",
    "                                            'pricebook_id', 'amount', 'payment', 'status', 'createdOn',\n",
    "                                             'lastupdated', 'bActive', 'remake_id']]\n",
    "\n",
    "# Rename some columns\n",
    "df_billing_items_reduced = df_billing_items_reduced.rename(columns={'labName': 'lab_name', 'id': 'billing_item_id',\n",
    "                                                                   'amount': 'billing_item_amount',\n",
    "                                                                    'payment': 'billing_item_payment',\n",
    "                                                                   'status': 'billing_item_status',\n",
    "                                                                   'createdOn': 'billing_item_created_on',\n",
    "                                                                   'lastupdated': 'billing_item_last_updated'})\n",
    "df_billing_items_reduced.head()\n"
   ]
  },
  {
   "cell_type": "code",
   "execution_count": null,
   "metadata": {},
   "outputs": [],
   "source": [
    "df_billing_items_reduced.info()"
   ]
  },
  {
   "cell_type": "code",
   "execution_count": null,
   "metadata": {},
   "outputs": [],
   "source": [
    "df_billing_items_reduced.isnull().sum()"
   ]
  },
  {
   "cell_type": "code",
   "execution_count": null,
   "metadata": {},
   "outputs": [],
   "source": [
    "# Transform 'billing_item_created_on' and 'billing_item_last_updated' to datetime\n",
    "df_billing_items_reduced['billing_item_created_on'] = df_billing_items_reduced['billing_item_created_on'].apply(lambda x: datetime.strptime(x, '%Y-%m-%d %H:%M:%S.%f'))\n",
    "df_billing_items_reduced['billing_item_last_updated'] = df_billing_items_reduced['billing_item_last_updated'].apply(lambda x: datetime.strptime(x, '%Y-%m-%d %H:%M:%S.%f'))\n",
    "df_billing_items_reduced.info()"
   ]
  },
  {
   "cell_type": "code",
   "execution_count": null,
   "metadata": {},
   "outputs": [],
   "source": [
    "# Calculate elapsed time between billing created and last_updated as a proxy for collection time \n",
    "df_billing_items_reduced['billing_item_tdelta'] = (df_billing_items_reduced.billing_item_last_updated - df_billing_items_reduced.billing_item_created_on)\n",
    "df_billing_items_reduced['billing_item_tdelta_hours'] = (df_billing_items_reduced.billing_item_last_updated - df_billing_items_reduced.billing_item_created_on).astype('timedelta64[h]')\n",
    "df_billing_items_reduced['billing_item_tdelta_hours'] = df_billing_items_reduced['billing_item_tdelta_hours'].apply(lambda x: int(x)).apply(lambda x: str(x))\n",
    "df_billing_items_reduced.head()\n"
   ]
  },
  {
   "cell_type": "code",
   "execution_count": null,
   "metadata": {},
   "outputs": [],
   "source": [
    "# Change datetime format\n",
    "df_billing_items_reduced['billing_item_created_on'] = pd.to_datetime(df_billing_items_reduced['billing_item_created_on']).apply(lambda x: x.strftime('%Y-%m-%d'))\n",
    "df_billing_items_reduced['billing_item_last_updated'] = pd.to_datetime(df_billing_items_reduced['billing_item_last_updated']).apply(lambda x: x.strftime('%Y-%m-%d'))\n",
    "df_billing_items_reduced.head()\n"
   ]
  },
  {
   "cell_type": "code",
   "execution_count": null,
   "metadata": {},
   "outputs": [],
   "source": [
    "# Save to csv\n",
    "df_billing_items_reduced.to_csv('data/billing_items_clean2.csv', index=False, header=True)"
   ]
  },
  {
   "cell_type": "markdown",
   "metadata": {},
   "source": [
    "# Prepare 'charging_items' table"
   ]
  },
  {
   "cell_type": "code",
   "execution_count": null,
   "metadata": {},
   "outputs": [],
   "source": [
    "df_charging_items = pd.read_csv(\"data/charging_items_clean1.csv\")\n",
    "df_charging_items.head()"
   ]
  },
  {
   "cell_type": "code",
   "execution_count": null,
   "metadata": {},
   "outputs": [],
   "source": [
    "df_charging_items.info()"
   ]
  },
  {
   "cell_type": "code",
   "execution_count": null,
   "metadata": {},
   "outputs": [],
   "source": [
    "df_charging_items.isnull().sum()"
   ]
  },
  {
   "cell_type": "code",
   "execution_count": null,
   "metadata": {},
   "outputs": [],
   "source": [
    "# Drop some columns\n",
    "df_charging_items.drop('Unnamed: 0', axis=1, inplace=True)\n",
    "df_charging_items.drop('remarks', axis=1, inplace=True)\n",
    "df_charging_items.drop('updatedby', axis=1, inplace=True)\n",
    "df_charging_items.drop('bLava', axis=1, inplace=True)\n",
    "df_charging_items.drop('additional_type', axis=1, inplace=True)\n",
    "df_charging_items.drop('remake_id', axis=1, inplace=True)\n",
    "df_charging_items.drop('additional_id', axis=1, inplace=True)\n",
    "df_charging_items.drop('discount_amt', axis=1, inplace=True)\n",
    "df_charging_items.drop('priority', axis=1, inplace=True)\n",
    "df_charging_items.drop('tax_1', axis=1, inplace=True)\n",
    "df_charging_items.drop('tax_2', axis=1, inplace=True)\n",
    "df_charging_items.drop('enable_tax_1', axis=1, inplace=True)\n",
    "df_charging_items.drop('enable_tax_2', axis=1, inplace=True)\n",
    "df_charging_items.drop('enable_discount', axis=1, inplace=True)"
   ]
  },
  {
   "cell_type": "code",
   "execution_count": null,
   "metadata": {},
   "outputs": [],
   "source": [
    "df_charging_items.isnull().sum()"
   ]
  },
  {
   "cell_type": "code",
   "execution_count": null,
   "metadata": {},
   "outputs": [],
   "source": [
    "# Rename some columns\n",
    "df_charging_items = df_charging_items.rename(columns={'labName': 'lab_name', 'id': 'charging_item_id',\n",
    "                                                      'ref_type': 'charging_item_ref_type',\n",
    "                                                     'charge_ty': 'charging_item_charge_ty',\n",
    "                                                      'tooth_num': 'charging_item_tooth_num',\n",
    "                                                     'unit_price': 'charging_item_unit_price',\n",
    "                                                     'quantity': 'charging_item_quantity',\n",
    "                                                     'discount': 'charging_item_discount',\n",
    "                                                     'adjustment': 'charging_item_adjustment',\n",
    "                                                     'payment': 'charging_item_payment',\n",
    "                                                     'status': 'charging_item_status',\n",
    "                                                     'createdOn': 'charging_item_created_on',\n",
    "                                                     'lastupdated': 'charging_item_last_updated'})\n",
    "df_charging_items.head()"
   ]
  },
  {
   "cell_type": "code",
   "execution_count": null,
   "metadata": {},
   "outputs": [],
   "source": [
    "df_charging_items.info()"
   ]
  },
  {
   "cell_type": "code",
   "execution_count": null,
   "metadata": {},
   "outputs": [],
   "source": [
    "# Transform 'charging_item_created_on' and 'charging_item_last_updated' to datetime\n",
    "df_charging_items['charging_item_created_on'] = df_charging_items['charging_item_created_on'].apply(lambda x: datetime.strptime(x, '%Y-%m-%d %H:%M:%S.%f'))\n",
    "df_charging_items['charging_item_last_updated'] = df_charging_items['charging_item_last_updated'].apply(lambda x: datetime.strptime(x, '%Y-%m-%d %H:%M:%S.%f'))\n",
    "df_charging_items.info()\n"
   ]
  },
  {
   "cell_type": "code",
   "execution_count": null,
   "metadata": {},
   "outputs": [],
   "source": [
    "# Calculate elapsed time between charging_item created and last_updated as a proxy for collection time \n",
    "df_charging_items['charging_item_tdelta'] = (df_charging_items.charging_item_last_updated - df_charging_items.charging_item_created_on)\n",
    "df_charging_items['charging_item_tdelta_hours'] = (df_charging_items.charging_item_last_updated - df_charging_items.charging_item_created_on).astype('timedelta64[h]')\n",
    "df_charging_items['charging_item_tdelta_hours'] = df_charging_items['charging_item_tdelta_hours'].apply(lambda x: int(x)).apply(lambda x: str(x))\n",
    "df_charging_items.head()\n"
   ]
  },
  {
   "cell_type": "code",
   "execution_count": null,
   "metadata": {},
   "outputs": [],
   "source": [
    "# Change datetime format\n",
    "df_charging_items['charging_item_created_on'] = pd.to_datetime(df_charging_items['charging_item_created_on']).apply(lambda x: x.strftime('%Y-%m-%d'))\n",
    "df_charging_items['charging_item_last_updated'] = pd.to_datetime(df_charging_items['charging_item_last_updated']).apply(lambda x: x.strftime('%Y-%m-%d'))\n",
    "df_charging_items.head()\n"
   ]
  },
  {
   "cell_type": "code",
   "execution_count": null,
   "metadata": {},
   "outputs": [],
   "source": [
    "df_charging_items.info()"
   ]
  },
  {
   "cell_type": "code",
   "execution_count": null,
   "metadata": {},
   "outputs": [],
   "source": [
    "df_charging_items.charging_item_tdelta_hours.value_counts()"
   ]
  },
  {
   "cell_type": "code",
   "execution_count": null,
   "metadata": {},
   "outputs": [],
   "source": [
    "# Save to csv\n",
    "df_charging_items.to_csv('data/charging_items_clean2.csv', index=False, header=True)"
   ]
  },
  {
   "cell_type": "code",
   "execution_count": null,
   "metadata": {},
   "outputs": [],
   "source": []
  }
 ],
 "metadata": {
  "kernelspec": {
   "display_name": "Python 3",
   "language": "python",
   "name": "python3"
  },
  "language_info": {
   "codemirror_mode": {
    "name": "ipython",
    "version": 3
   },
   "file_extension": ".py",
   "mimetype": "text/x-python",
   "name": "python",
   "nbconvert_exporter": "python",
   "pygments_lexer": "ipython3",
   "version": "3.6.8"
  }
 },
 "nbformat": 4,
 "nbformat_minor": 2
}
